{
 "cells": [
  {
   "cell_type": "code",
   "execution_count": 1,
   "metadata": {},
   "outputs": [],
   "source": [
    "import pandas as pd\n",
    "import numpy as np\n",
    "\n",
    "def abre_archivo(nombre):\n",
    "    with open(nombre) as archivo:\n",
    "        return archivo.read()"
   ]
  },
  {
   "cell_type": "code",
   "execution_count": 13,
   "metadata": {},
   "outputs": [],
   "source": [
    "# Para reducir espacios\n",
    "\n",
    "pre = abre_archivo('entrada.txt')\n",
    "pre = pre.replace(\"\\n\",\"|\")\n",
    "pre = pre.split()\n",
    "\n",
    "def quita_espacio(lista):\n",
    "    for i in range(len(lista)):\n",
    "        lista[i]=lista[i].strip()\n",
    "    return lista\n",
    "\n",
    "pre = quita_espacio(pre)\n",
    "\n",
    "def lista_a_cadena(lista):\n",
    "    cadena = ' '.join(lista)\n",
    "    return cadena\n",
    "\n",
    "pre = lista_a_cadena(pre)\n",
    "\n",
    "separaxpipe = pre.split(\"|\")\n",
    "separaxpipe = [x.strip() for x in separaxpipe]\n",
    "\n",
    "df = pd.DataFrame(separaxpipe, columns=[\"columna\"])\n",
    "\n",
    "df.to_csv('salida.txt', header=False, index=False, sep = \"\\t\")"
   ]
  },
  {
   "cell_type": "code",
   "execution_count": null,
   "metadata": {},
   "outputs": [],
   "source": []
  }
 ],
 "metadata": {
  "kernelspec": {
   "display_name": "Python 3",
   "language": "python",
   "name": "python3"
  },
  "language_info": {
   "codemirror_mode": {
    "name": "ipython",
    "version": 3
   },
   "file_extension": ".py",
   "mimetype": "text/x-python",
   "name": "python",
   "nbconvert_exporter": "python",
   "pygments_lexer": "ipython3",
   "version": "3.7.6"
  }
 },
 "nbformat": 4,
 "nbformat_minor": 4
}
