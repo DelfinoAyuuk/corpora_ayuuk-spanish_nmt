{
 "cells": [
  {
   "cell_type": "code",
   "execution_count": 1,
   "metadata": {},
   "outputs": [],
   "source": [
    "import pandas as pd\n",
    "import numpy as np"
   ]
  },
  {
   "cell_type": "markdown",
   "metadata": {},
   "source": [
    "### Carga bitext que se generó en el proceso de unión de archivos"
   ]
  },
  {
   "cell_type": "code",
   "execution_count": 2,
   "metadata": {},
   "outputs": [],
   "source": [
    "bitext = pd.read_csv('es-mir-bitext.txt', header=None, sep=\".\")"
   ]
  },
  {
   "cell_type": "markdown",
   "metadata": {},
   "source": [
    "### Carga las 912 frases especializadas de colmex"
   ]
  },
  {
   "cell_type": "code",
   "execution_count": 3,
   "metadata": {},
   "outputs": [],
   "source": [
    "#columna es\n",
    "es = pd.read_csv('test_es.txt', header=None, sep=\"\\n\")\n",
    "es = es[0].str.lower()\n",
    "es = pd.DataFrame(es)\n",
    "#Columna mir\n",
    "mir = pd.read_csv('test_mir.txt', header=None, sep=\"\\n\")\n",
    "mir = mir[0].str.lower()\n",
    "mir = pd.DataFrame(mir)\n",
    "mir = mir.rename(columns={0:1})\n",
    "\n",
    "colmex = pd.concat([es,mir], axis = 1)\n"
   ]
  },
  {
   "cell_type": "markdown",
   "metadata": {},
   "source": [
    "### Realiza random"
   ]
  },
  {
   "cell_type": "code",
   "execution_count": 4,
   "metadata": {},
   "outputs": [],
   "source": [
    "#Une dataframes por filas\n",
    "unidos = pd.concat([bitext, colmex])\n",
    "\n",
    "#Se hace un random de filas\n",
    "seed = 43\n",
    "df_pp = unidos.sample(frac=1, random_state=seed).reset_index(drop=True)\n",
    "\n",
    "#Se escoge las primeras 912 frases para el corpus de test\n",
    "test = df_pp.iloc[0:912]\n",
    "test = test.reset_index(drop=True)\n",
    "\n",
    "#Se extrae test por columna\n",
    "es = test[0]\n",
    "mir = test[1]\n",
    "\n",
    "es.to_csv('test-random_es.txt', header=False, index=False, sep = \"\\t\")\n",
    "mir.to_csv('test-random_mir.txt', header=False, index=False, sep = \"\\t\")\n",
    "\n",
    "#Se eliminan las 912 filas bitext de donde fueron extraídas las frases para test\n",
    "df_pp = df_pp.drop(range(0,912),axis = 0)\n",
    "df_pp = df_pp.reset_index(drop=True)\n",
    "\n",
    "#Se extrae columnas para el corpus dev-train\n",
    "train_dev_es = df_pp[0]\n",
    "train_dev_mir = df_pp[1]\n",
    "\n",
    "train_dev_es.to_csv('train-dev-random_es.txt', header=False, index=False, sep = \"\\t\")\n",
    "train_dev_mir.to_csv('train-dev-random_mir.txt', header=False, index=False, sep = \"\\t\")"
   ]
  },
  {
   "cell_type": "code",
   "execution_count": null,
   "metadata": {},
   "outputs": [],
   "source": []
  }
 ],
 "metadata": {
  "kernelspec": {
   "display_name": "Python 3",
   "language": "python",
   "name": "python3"
  },
  "language_info": {
   "codemirror_mode": {
    "name": "ipython",
    "version": 3
   },
   "file_extension": ".py",
   "mimetype": "text/x-python",
   "name": "python",
   "nbconvert_exporter": "python",
   "pygments_lexer": "ipython3",
   "version": "3.7.6"
  }
 },
 "nbformat": 4,
 "nbformat_minor": 4
}
