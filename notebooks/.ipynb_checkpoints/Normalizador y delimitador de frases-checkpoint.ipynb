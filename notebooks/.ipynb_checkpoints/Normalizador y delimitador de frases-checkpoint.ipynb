{
 "cells": [
  {
   "cell_type": "code",
   "execution_count": 1,
   "metadata": {},
   "outputs": [],
   "source": [
    "import pandas as pd\n",
    "import numpy as np\n",
    "\n",
    "def abre_archivo(nombre):\n",
    "    with open(nombre) as archivo:\n",
    "        return archivo.read()\n",
    "\n",
    "#función para sustituir ch por tsy y ñ por ny, de acuerdo a \n",
    "#lo se menciona en el artículo de (Sagi-Vela González,2019).\n",
    "def convenio(a):\n",
    "    a = a.replace(\"ñ\",\"ny\")\n",
    "    a = a.replace(\"ch\",\"tsy\")\n",
    "    return a\n",
    "\n",
    "def quita_espacio(lista):\n",
    "    for i in range(len(lista)):\n",
    "        lista[i]=lista[i].strip()\n",
    "    return lista\n",
    "\n",
    "def lista_a_cadena(lista):\n",
    "    cadena = ' '.join(lista)\n",
    "    return cadena"
   ]
  },
  {
   "cell_type": "markdown",
   "metadata": {},
   "source": [
    "### Para ayuuk"
   ]
  },
  {
   "cell_type": "code",
   "execution_count": 2,
   "metadata": {},
   "outputs": [],
   "source": [
    "pre = abre_archivo('fabulas_mir.txt')\n",
    "pre = pre.lower().replace(\"\\n\",\" \")\n",
    "\n",
    "#Para recuperar palabras se quitan los acentos en el ayuuk\n",
    "def limpia(a):\n",
    "    entrada = \"áéíóú’#\"\n",
    "    salida = \"aeiou' \"\n",
    "    reemplaza = str.maketrans(entrada, salida)\n",
    "    cadena_limpia = a.translate(reemplaza)\n",
    "    return cadena_limpia\n",
    "\n",
    "pre = limpia(pre)\n",
    "\n",
    "#Sustituye ch y ñ\n",
    "pre = convenio(pre)\n",
    "\n",
    "pre = pre.split()\n",
    "pre = quita_espacio(pre)\n",
    "pre = lista_a_cadena(pre)\n",
    "\n",
    "#Delimita frases\n",
    "pre = pre.replace(\"! \", \"!.\")\n",
    "pre = pre.replace(\"? \", \"?.\")\n",
    "pre = pre.replace(\".\",\" .\\n\")\n",
    "\n",
    "separaxpunto = pre.split(\"\\n\")\n",
    "separaxpunto = [x.strip() for x in separaxpunto]\n",
    "df = pd.DataFrame(separaxpunto, columns=[\"columna\"])\n",
    "\n",
    "df.to_csv('norm-fabulas_mir.txt', header=False, index=False, sep = \"\\t\")"
   ]
  },
  {
   "cell_type": "markdown",
   "metadata": {},
   "source": [
    "### Para español"
   ]
  },
  {
   "cell_type": "code",
   "execution_count": 3,
   "metadata": {},
   "outputs": [],
   "source": [
    "pre = abre_archivo('fabulas_es.txt')\n",
    "pre = pre.lower().replace(\"\\n\",\" \")\n",
    "\n",
    "def limpia(a):\n",
    "    entrada = \"#’\"\n",
    "    salida = \" \\'\"\n",
    "    reemplaza = str.maketrans(entrada, salida)\n",
    "    cadena_limpia = a.translate(reemplaza)\n",
    "    return cadena_limpia\n",
    "\n",
    "pre = limpia(pre)\n",
    "pre = pre.split()\n",
    "pre = quita_espacio(pre)\n",
    "pre = lista_a_cadena(pre)\n",
    "\n",
    "pre = pre.replace(\"! \", \"!.\")\n",
    "pre = pre.replace(\"? \", \"?.\")\n",
    "pre = pre.replace(\".\",\" .\\n\")\n",
    "\n",
    "separaxpunto = pre.split(\"\\n\")\n",
    "separaxpunto = [x.strip() for x in separaxpunto]\n",
    "df = pd.DataFrame(separaxpunto, columns=[\"columna\"])\n",
    "\n",
    "df.to_csv('norm-fabulas_es.txt', header=False, index=False, sep = \"\\t\")"
   ]
  },
  {
   "cell_type": "code",
   "execution_count": null,
   "metadata": {},
   "outputs": [],
   "source": []
  }
 ],
 "metadata": {
  "kernelspec": {
   "display_name": "Python 3",
   "language": "python",
   "name": "python3"
  },
  "language_info": {
   "codemirror_mode": {
    "name": "ipython",
    "version": 3
   },
   "file_extension": ".py",
   "mimetype": "text/x-python",
   "name": "python",
   "nbconvert_exporter": "python",
   "pygments_lexer": "ipython3",
   "version": "3.7.6"
  }
 },
 "nbformat": 4,
 "nbformat_minor": 4
}
