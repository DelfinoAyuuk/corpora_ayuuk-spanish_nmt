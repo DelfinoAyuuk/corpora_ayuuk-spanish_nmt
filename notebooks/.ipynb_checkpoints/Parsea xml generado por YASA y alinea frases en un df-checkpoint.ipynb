{
 "cells": [
  {
   "cell_type": "code",
   "execution_count": 1,
   "metadata": {},
   "outputs": [],
   "source": [
    "import pandas as pd\n",
    "import numpy as np\n",
    "from xml.etree import ElementTree\n",
    "import re"
   ]
  },
  {
   "cell_type": "markdown",
   "metadata": {},
   "source": [
    "### Código para archivo XML"
   ]
  },
  {
   "cell_type": "code",
   "execution_count": 2,
   "metadata": {
    "scrolled": true
   },
   "outputs": [],
   "source": [
    "#Abre archivo xml que contiene informacion de las alineaciones\n",
    "with open('condoy_aligned.xml', 'rt') as f:\n",
    "    tree = ElementTree.parse(f)\n",
    "\n",
    "#Crea lista para almacenar los xtargets\n",
    "xtarget = [] \n",
    "#Extrae el atributo xtargets de link\n",
    "for node in tree.findall('.//link'):\n",
    "    xtarget.append(node.attrib.get('xtargets'))\n",
    "    \n",
    "#Busca elemetos con doble target\n",
    "for i in range(len(xtarget)):\n",
    "    for j in xtarget[i]:\n",
    "        if j == \" \":\n",
    "            xtarget[i] = \" ; \"\n",
    "                    \n",
    "#Divide el contenido de la lista usando como delimitador ;\n",
    "def divide(lista):\n",
    "    for i in range(len(lista)):\n",
    "        lista[i]=lista[i].split(\";\")\n",
    "    return lista\n",
    "\n",
    "#Divide xtargets es y mir\n",
    "xtarget = divide(xtarget)\n",
    "\n",
    "es = []\n",
    "mir = []\n",
    "for i in range(len(xtarget)):\n",
    "    es.append(xtarget[i][0])\n",
    "for i in range(len(xtarget)):\n",
    "    mir.append(xtarget[i][1])\n",
    "    \n",
    "es = pd.DataFrame(es,columns=['xtargets_es'])\n",
    "es['xtargets_es'].replace(' ', np.nan, inplace=True)\n",
    "es['xtargets_es'].replace('', np.nan, inplace=True)\n",
    "\n",
    "mir = pd.DataFrame(mir,columns=['xtargets_mir'])\n",
    "mir['xtargets_mir'].replace(' ', np.nan, inplace=True)\n",
    "mir['xtargets_mir'].replace('', np.nan, inplace=True)\n",
    "\n",
    "#Concatena es y mir\n",
    "es_mir = pd.concat([es,mir], axis = 1)\n",
    "es_mir = es_mir.dropna()\n",
    "\n",
    "#Convierte xtargets a enteros\n",
    "es_mir = es_mir.astype('int64')\n",
    "es_mir = es_mir.reset_index(drop=True)\n",
    "\n",
    "es = es_mir['xtargets_es']\n",
    "es = pd.DataFrame(es,columns=['xtargets_es'])\n",
    "mir = es_mir['xtargets_mir']\n",
    "mir = pd.DataFrame(mir,columns=['xtargets_mir'])"
   ]
  },
  {
   "cell_type": "markdown",
   "metadata": {},
   "source": [
    "#### Código para convertir a un dataframe los dos archivos que fueron alineados para juntarlo\n",
    "#### con sus xtargets correspondientes con la función merge y generar un txt con las alineaciones"
   ]
  },
  {
   "cell_type": "code",
   "execution_count": 3,
   "metadata": {},
   "outputs": [],
   "source": [
    "#Archivo que contiene frases en español\n",
    "frases_es = pd.read_csv(\"condoy_es.txt\", header=None, sep=\".\")\n",
    "frases_es.dropna(subset=[0], inplace=True)\n",
    "\n",
    "ID = []\n",
    "for i in range(1,len(frases_es)+1):\n",
    "    ID.append(i)\n",
    "\n",
    "id_ = pd.DataFrame(ID,columns=['id_es'])\n",
    "id_frases = pd.concat([id_,frases_es], axis = 1)\n",
    "\n",
    "#Hace un filtro para descartar las frases que no tienen alineación otra frase y los que tienen doble alineación\n",
    "#uniendo los xtargets del español generado por yasa con el identificador de linea de cada frase\n",
    "df_es = pd.merge(es, id_frases, left_on='xtargets_es', right_on='id_es')\n",
    "\n",
    "\n",
    "#Archivo que contiene frases en Ayuuk\n",
    "frases_mir = pd.read_csv(\"condoy_mir.txt\", header=None, sep=\".\")\n",
    "frases_mir.dropna(subset=[0], inplace=True)\n",
    "\n",
    "ID = []\n",
    "for i in range(1,len(frases_mir)+1):\n",
    "    ID.append(i)\n",
    "\n",
    "id_ = pd.DataFrame(ID,columns=['id_mir'])\n",
    "id_frases = pd.concat([id_,frases_mir], axis = 1)\n",
    "df_mir = pd.merge(mir, id_frases, left_on='xtargets_mir', right_on='id_mir')\n",
    "\n",
    "#Extrae columnas que contiene las frase que tuvieron correspondencia\n",
    "col_es = df_es[[0]]\n",
    "col_mir = df_mir[[0]]\n",
    "\n",
    "es_mir_aligned = pd.concat([col_es,col_mir], axis = 1)\n",
    "es_mir_aligned.columns = [\"es\",\"mir\"]\n",
    "\n",
    "es_mir_aligned.to_csv('esmir-alineado.txt', header=False, index=False, sep = \".\")"
   ]
  },
  {
   "cell_type": "code",
   "execution_count": null,
   "metadata": {},
   "outputs": [],
   "source": []
  }
 ],
 "metadata": {
  "kernelspec": {
   "display_name": "Python 3",
   "language": "python",
   "name": "python3"
  },
  "language_info": {
   "codemirror_mode": {
    "name": "ipython",
    "version": 3
   },
   "file_extension": ".py",
   "mimetype": "text/x-python",
   "name": "python",
   "nbconvert_exporter": "python",
   "pygments_lexer": "ipython3",
   "version": "3.7.6"
  }
 },
 "nbformat": 4,
 "nbformat_minor": 4
}
