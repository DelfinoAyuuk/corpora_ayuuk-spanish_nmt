{
 "cells": [
  {
   "cell_type": "code",
   "execution_count": 32,
   "metadata": {},
   "outputs": [],
   "source": [
    "import pandas as pd\n",
    "import numpy as np\n",
    "import glob\n",
    "import re\n",
    "import string\n",
    "import os"
   ]
  },
  {
   "cell_type": "code",
   "execution_count": 45,
   "metadata": {},
   "outputs": [
    {
     "name": "stdout",
     "output_type": "stream",
     "text": [
      "['bitext/fabulas_es_mir.txt', 'bitext/cons94-106_es_mir.txt', 'bitext/lucas17-20_es_mir.txt', 'bitext/juan8-11_es_mir.txt', 'bitext/marcos9-12_es_mir.txt', 'bitext/cons1-15_es_mir.txt', 'bitext/mateo6-10_es_mir.txt', 'bitext/cons115-121_es_mir.txt', 'bitext/cons78-93_es_mir.txt', 'bitext/juan20-21_es_mir.txt', 'bitext/lucas21-24_es_mir.txt', 'bitext/extra_es_mir.txt', 'bitext/cons42-72_es_mir.txt', 'bitext/cons30-38_es_mir.txt', 'bitext/marcos13-16_es_mir.txt', 'bitext/marcos5-8_es_mir.txt', 'bitext/lucas9-12_es_mir.txt', 'bitext/280extra-es_mir.txt', 'bitext/marcos1-4_es_mir.txt', 'bitext/cons73-77_es_mir.txt', 'bitext/rabbit_es_mir.txt', 'bitext/cons123-2-trans_es_mir.txt', 'bitext/mateo1-5_es_mir.txt', 'bitext/cons16-25_es_mir.txt', 'bitext/web_es_mir.txt', 'bitext/cons122-123-1_es_mir.txt', 'bitext/mateo16-20_es_mir.txt', 'bitext/juan5-7_es_mir.txt', 'bitext/cons26-29_es_mir.txt', 'bitext/recop_es_mir.txt', 'bitext/mateo11-15_es_mir.txt', 'bitext/lucas1-4_es_mir.txt', 'bitext/colores_es_mir.txt', 'bitext/lucas13-16_es_mir.txt', 'bitext/poesia_es_mir.txt', 'bitext/mateo21-25_es_mir.txt', 'bitext/mateo26-28_es_mir.txt', 'bitext/juan16-19_es_mir.txt', 'bitext/cuentos_es_mir.txt', 'bitext/juan12-15_es_mir.txt', 'bitext/lucas5-8_es_mir.txt', 'bitext/condoy_es_mir.txt', 'bitext/canciones_es_mir.txt', 'bitext/juan1-4_es_mir.txt', 'bitext/la_hamaca_es_mir.txt', 'bitext/cons39-41_es_mir.txt', 'bitext/cons107-114_es_mir.txt']\n"
     ]
    }
   ],
   "source": [
    "txt_files = glob.glob('bitext/*.txt')\n",
    "print(txt_files)"
   ]
  },
  {
   "cell_type": "code",
   "execution_count": 46,
   "metadata": {},
   "outputs": [
    {
     "data": {
      "text/plain": [
       "47"
      ]
     },
     "execution_count": 46,
     "metadata": {},
     "output_type": "execute_result"
    }
   ],
   "source": [
    "len(txt_files)"
   ]
  },
  {
   "cell_type": "code",
   "execution_count": null,
   "metadata": {},
   "outputs": [],
   "source": [
    "lista_df = []\n",
    "for texto in txt_files:\n",
    "    leido = pd.read_csv(texto,header = None, sep = \".\")\n",
    "    lista_df.append(leido)\n",
    "    \n",
    "df_new = pd.concat(lista_df,ignore_index=True)\n",
    "\n",
    "df_pp = df_new.drop_duplicates()\n",
    "df_pp = df_pp.dropna()\n",
    "df_pp.drop_duplicates(subset=0, inplace=True)\n",
    "df_pp.drop_duplicates(subset=1, inplace=True)\n",
    "\n",
    "df_pp.to_csv('bitexto.txt', header=False, index=False, sep = \".\")"
   ]
  },
  {
   "cell_type": "code",
   "execution_count": null,
   "metadata": {},
   "outputs": [],
   "source": [
    "def abre_archivo(nombre):\n",
    "    with open(nombre) as archivo:\n",
    "        return archivo.read()\n",
    "    \n",
    "#Elimina caracteres especiales del corpus\n",
    "def limpia(a):\n",
    "    entrada = ':\"«»()[]—“”-;'\n",
    "    salida  = '             '\n",
    "    reemplaza = str.maketrans(entrada, salida)\n",
    "    cadena_limpia = a.translate(reemplaza)\n",
    "    return cadena_limpia"
   ]
  },
  {
   "cell_type": "code",
   "execution_count": 49,
   "metadata": {},
   "outputs": [],
   "source": [
    "clean = abre_archivo('bitexto.txt')\n",
    "limpio = limpia(clean)\n",
    "\n",
    "#Expresiones regulares utilizados para quitar abreviaciones de juan, lucas, mateo y marcos.\n",
    "#Así como eliminar numeros en el corpus\n",
    "\n",
    "eliminar = r'\\bjn\\b|\\bmt\\b|\\blc\\b|\\bmr\\b|\\b[0-9]{1,8}\\b'\n",
    "limpio = re.sub(eliminar, ' ', limpio)\n",
    "\n",
    "# Para quitar espacios grandes entre palabras\n",
    "\n",
    "limpio = limpio.replace(\"\\n\",\"|\")\n",
    "limpio = limpio.split()\n",
    "\n",
    "def quita_espacio(lista):\n",
    "    for i in range(len(lista)):\n",
    "        lista[i]=lista[i].strip()\n",
    "    return lista\n",
    "\n",
    "limpio = quita_espacio(limpio)\n",
    "\n",
    "def lista_a_cadena(lista):\n",
    "    cadena = ' '.join(lista)\n",
    "    return cadena\n",
    "\n",
    "limpio = lista_a_cadena(limpio)\n",
    "\n",
    "separaxpipe = limpio.split(\"|\")\n",
    "separaxpipe = [x.strip() for x in separaxpipe]\n",
    "df = pd.DataFrame(separaxpipe, columns=[\"columna\"])\n",
    "df.to_csv('bitext-esmir.txt', header=False, index=False, sep = \"\\t\")"
   ]
  },
  {
   "cell_type": "code",
   "execution_count": null,
   "metadata": {},
   "outputs": [],
   "source": [
    "bitext = pd.read_csv(\"bitext-esmir.txt\", header=None, sep=\".\")\n",
    "\n",
    "df_pp = bitext.dropna()\n",
    "df_pp = df_pp.drop_duplicates()\n",
    "df_pp.drop_duplicates(subset=0, inplace=True)\n",
    "df_pp.drop_duplicates(subset=1, inplace=True)\n",
    "\n",
    "#Separa frases por columnas\n",
    "es  = df_pp[[0]]\n",
    "mir = df_pp[[1]]\n",
    "\n",
    "#Genera corpus es y mir que será utilizada para crear dev.es dev.mir train.es train-mir\n",
    "es.to_csv('train-dev-es.txt', header=False, index=False, sep = \"\\t\")\n",
    "mir.to_csv('train-dev-mir.txt', header=False, index=False, sep = \"\\t\")"
   ]
  },
  {
   "cell_type": "code",
   "execution_count": null,
   "metadata": {},
   "outputs": [],
   "source": []
  }
 ],
 "metadata": {
  "kernelspec": {
   "display_name": "Python 3",
   "language": "python",
   "name": "python3"
  },
  "language_info": {
   "codemirror_mode": {
    "name": "ipython",
    "version": 3
   },
   "file_extension": ".py",
   "mimetype": "text/x-python",
   "name": "python",
   "nbconvert_exporter": "python",
   "pygments_lexer": "ipython3",
   "version": "3.7.6"
  }
 },
 "nbformat": 4,
 "nbformat_minor": 4
}
