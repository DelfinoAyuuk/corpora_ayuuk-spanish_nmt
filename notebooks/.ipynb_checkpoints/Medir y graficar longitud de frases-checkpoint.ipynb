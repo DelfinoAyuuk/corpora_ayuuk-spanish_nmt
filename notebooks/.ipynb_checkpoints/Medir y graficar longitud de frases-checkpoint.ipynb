{
 "cells": [
  {
   "cell_type": "markdown",
   "metadata": {},
   "source": [
    "### Mide longitud de bitext"
   ]
  },
  {
   "cell_type": "code",
   "execution_count": null,
   "metadata": {},
   "outputs": [],
   "source": [
    "#Lista para almacenar las frases del bitext\n",
    "datos = []\n",
    "\n",
    "with open(\"bitext_esmir.txt\") as fname:\n",
    "    for lineas in fname:\n",
    "        datos.append(lineas.split())\n",
    "\n",
    "#Cuenta el número de palabras que contiene cada línea        \n",
    "longitud = []\n",
    "for i,j in enumerate(datos):\n",
    "    longitud.append(len(j))\n",
    "\n",
    "#Genera id para cada frase    \n",
    "aidi= []\n",
    "for i,j in enumerate(datos):\n",
    "    aidi.append(i+1)\n",
    "    \n",
    "#Une aidi con su longitud    \n",
    "longitud = pd.DataFrame(longitud,columns=['longitud_frase'])    \n",
    "aidi = pd.DataFrame(aidi,columns=['id'])\n",
    "\n",
    "aidi_longitud_es_mir = pd.concat([aidi,longitud], axis = 1)"
   ]
  },
  {
   "cell_type": "markdown",
   "metadata": {},
   "source": [
    "### Grafica la longitud"
   ]
  },
  {
   "cell_type": "code",
   "execution_count": null,
   "metadata": {},
   "outputs": [],
   "source": [
    "aidi_longitud_es_mir[[\"longitud_frase\"]].plot(kind=\"bar\", figsize=(16, 10))"
   ]
  },
  {
   "cell_type": "code",
   "execution_count": null,
   "metadata": {},
   "outputs": [],
   "source": []
  }
 ],
 "metadata": {
  "kernelspec": {
   "display_name": "Python 3",
   "language": "python",
   "name": "python3"
  },
  "language_info": {
   "codemirror_mode": {
    "name": "ipython",
    "version": 3
   },
   "file_extension": ".py",
   "mimetype": "text/x-python",
   "name": "python",
   "nbconvert_exporter": "python",
   "pygments_lexer": "ipython3",
   "version": "3.7.6"
  }
 },
 "nbformat": 4,
 "nbformat_minor": 4
}
