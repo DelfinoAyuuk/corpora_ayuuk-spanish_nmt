{
 "cells": [
  {
   "cell_type": "code",
   "execution_count": null,
   "metadata": {},
   "outputs": [],
   "source": [
    "import pandas as pd\n",
    "import numpy as np\n",
    "import matplotlib.pyplot as plt"
   ]
  },
  {
   "cell_type": "code",
   "execution_count": null,
   "metadata": {},
   "outputs": [],
   "source": [
    "datos = []\n",
    "with open(\"validations.txt\") as fname:\n",
    "    for lineas in fname:\n",
    "        datos.append(lineas.split())\n",
    "\n",
    "datos = pd.DataFrame(datos)\n",
    "\n",
    "datos        "
   ]
  },
  {
   "cell_type": "code",
   "execution_count": null,
   "metadata": {},
   "outputs": [],
   "source": [
    "#Extrae columnas de steps, loss, ppl, bleu y lr\n",
    "\n",
    "validaciones = datos.iloc[:, [1,3,5,7,9]] \n",
    "validaciones = validaciones.rename(columns={1:'steps',3:'loss', 5:'ppl', 7:'bleu', 9:'lr'})\n",
    "\n",
    "#Convierte a formato numérico\n",
    "\n",
    "validaciones['steps'] = validaciones['steps'].astype('int64')\n",
    "validaciones['loss'] = validaciones['loss'].astype('float64')\n",
    "validaciones['ppl'] = validaciones['ppl'].astype('float64')\n",
    "validaciones['bleu'] = validaciones['bleu'].astype('float64')\n",
    "validaciones['lr'] = validaciones['lr'].astype('float64')\n",
    "\n",
    "validaciones"
   ]
  },
  {
   "cell_type": "code",
   "execution_count": null,
   "metadata": {},
   "outputs": [],
   "source": [
    "#Grafica perplejidad\n",
    "\n",
    "validaciones.plot(kind='line', y='ppl', x='steps')\n",
    "plt.title('Perplejidad es-mir transformer')\n",
    "plt.ylabel('PPL')\n",
    "plt.grid()\n",
    "#plt.savefig('perplejidad.png')"
   ]
  },
  {
   "cell_type": "code",
   "execution_count": null,
   "metadata": {},
   "outputs": [],
   "source": [
    "#Grafica BLEU\n",
    "\n",
    "validaciones.plot(kind='line', y='bleu', x='steps')\n",
    "plt.title('BLEU es-mir transformer')\n",
    "plt.ylabel('BLEU')\n",
    "plt.grid()\n",
    "#plt.savefig('bleu.png')"
   ]
  }
 ],
 "metadata": {
  "kernelspec": {
   "display_name": "Python 3",
   "language": "python",
   "name": "python3"
  },
  "language_info": {
   "codemirror_mode": {
    "name": "ipython",
    "version": 3
   },
   "file_extension": ".py",
   "mimetype": "text/x-python",
   "name": "python",
   "nbconvert_exporter": "python",
   "pygments_lexer": "ipython3",
   "version": "3.7.6"
  }
 },
 "nbformat": 4,
 "nbformat_minor": 4
}
