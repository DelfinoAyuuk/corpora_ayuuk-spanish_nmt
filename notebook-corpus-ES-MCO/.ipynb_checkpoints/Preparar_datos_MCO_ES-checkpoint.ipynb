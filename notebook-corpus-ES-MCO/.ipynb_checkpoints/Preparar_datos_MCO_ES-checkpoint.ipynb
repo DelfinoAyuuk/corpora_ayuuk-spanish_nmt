{
 "cells": [
  {
   "cell_type": "code",
   "execution_count": null,
   "metadata": {
    "colab": {
     "base_uri": "https://localhost:8080/"
    },
    "id": "gJmeF7to4LwN",
    "outputId": "55aadc82-2b0b-4e50-f6cc-aa91e9775687"
   },
   "outputs": [
    {
     "name": "stdout",
     "output_type": "stream",
     "text": [
      "Mounted at /content/drive\n"
     ]
    }
   ],
   "source": [
    "from google.colab import drive\n",
    "#cargando libreria especializada de google\n",
    "drive.mount('/content/drive')\n",
    "# montar:"
   ]
  },
  {
   "cell_type": "code",
   "execution_count": null,
   "metadata": {
    "id": "M-atHmz4q2g3"
   },
   "outputs": [],
   "source": [
    "# TODO: Establece lenguas de origen y destino. Estos utilizan tradicionalmente los códigos de una lengua\n",
    "#que se encuentran en JW300\n",
    "# Los códigos serán los sufijos que llevaran los nombres los archivos que se generen\n",
    "\n",
    "import os\n",
    "#cargando os, acceso a comandis especializados del SO\n",
    "source_language = \"es\"\n",
    "target_language = \"mco\" \n",
    "lc = False  # If True, datos en minuscula\n",
    "seed = 42  # Siembra semilla 42\n",
    "tag = \"baseline\" # nombre de la carpeta donde se almacenarán los datos\n",
    "os.environ[\"src\"] = source_language # Para usar los nombre en bash\n",
    "os.environ[\"tgt\"] = target_language\n",
    "os.environ[\"tag\"] = tag\n",
    "\n",
    "# crea una carpeta en drive\n",
    "!mkdir -p \"/content/drive/My Drive/mixe-coatlan-es-mco/$src-$tgt-$tag\"\n",
    "os.environ[\"gdrive_path\"] = \"/content/drive/My Drive/mixe-coatlan-es-mco/%s-%s-%s\" % (source_language, target_language, tag)"
   ]
  },
  {
   "cell_type": "code",
   "execution_count": null,
   "metadata": {
    "colab": {
     "base_uri": "https://localhost:8080/"
    },
    "id": "KdSsqePWq2kU",
    "outputId": "2ae20820-5eec-4c0f-8b74-99de42186cfb"
   },
   "outputs": [
    {
     "name": "stdout",
     "output_type": "stream",
     "text": [
      "/content/drive/My Drive/mixe-coatlan-es-mco/es-mco-baseline\n"
     ]
    }
   ],
   "source": [
    "!echo $gdrive_path\n",
    "#IMPRIME EL PATH ANTES CREADO"
   ]
  },
  {
   "cell_type": "code",
   "execution_count": null,
   "metadata": {
    "colab": {
     "base_uri": "https://localhost:8080/"
    },
    "id": "d6Bp1K3MrNKE",
    "outputId": "f09cb6ad-0438-4e9b-c286-e07cc62a5463"
   },
   "outputs": [
    {
     "name": "stdout",
     "output_type": "stream",
     "text": [
      "Collecting opustools-pkg\n",
      "\u001b[?25l  Downloading https://files.pythonhosted.org/packages/6c/9f/e829a0cceccc603450cd18e1ff80807b6237a88d9a8df2c0bb320796e900/opustools_pkg-0.0.52-py3-none-any.whl (80kB)\n",
      "\r",
      "\u001b[K     |████                            | 10kB 16.0MB/s eta 0:00:01\r",
      "\u001b[K     |████████                        | 20kB 13.2MB/s eta 0:00:01\r",
      "\u001b[K     |████████████▏                   | 30kB 9.9MB/s eta 0:00:01\r",
      "\u001b[K     |████████████████▏               | 40kB 8.4MB/s eta 0:00:01\r",
      "\u001b[K     |████████████████████▎           | 51kB 5.5MB/s eta 0:00:01\r",
      "\u001b[K     |████████████████████████▎       | 61kB 6.1MB/s eta 0:00:01\r",
      "\u001b[K     |████████████████████████████▎   | 71kB 6.1MB/s eta 0:00:01\r",
      "\u001b[K     |████████████████████████████████| 81kB 4.0MB/s \n",
      "\u001b[?25hInstalling collected packages: opustools-pkg\n",
      "Successfully installed opustools-pkg-0.0.52\n"
     ]
    }
   ],
   "source": [
    "# Install opus-tools\n",
    "! pip install opustools-pkg"
   ]
  },
  {
   "cell_type": "code",
   "execution_count": null,
   "metadata": {
    "colab": {
     "base_uri": "https://localhost:8080/"
    },
    "id": "tOiExnmtrTUQ",
    "outputId": "23015d89-0810-4f4b-c565-590d3bf72586"
   },
   "outputs": [
    {
     "name": "stdout",
     "output_type": "stream",
     "text": [
      "\n",
      "Alignment file /proj/nlpl/data/OPUS/JW300/latest/xml/es-mco.xml.gz not found. The following files are available for downloading:\n",
      "\n",
      " 860 KB https://object.pouta.csc.fi/OPUS-JW300/v1b/xml/es-mco.xml.gz\n",
      " 217 MB https://object.pouta.csc.fi/OPUS-JW300/v1b/xml/es.zip\n",
      "   7 MB https://object.pouta.csc.fi/OPUS-JW300/v1b/xml/mco.zip\n",
      "\n",
      " 225 MB Total size\n",
      "./JW300_latest_xml_es-mco.xml.gz ... 100% of 860 KB\n",
      "./JW300_latest_xml_es.zip ... 100% of 217 MB\n",
      "./JW300_latest_xml_mco.zip ... 100% of 7 MB\n"
     ]
    }
   ],
   "source": [
    "# bajamos nuestro corpus disponible en jw300 con opus\n",
    "! opus_read -d JW300 -s $src -t $tgt -wm moses -w jw300.$src jw300.$tgt -q\n",
    "\n",
    "# Descomprime los datos\n",
    "! gunzip JW300_latest_xml_$src-$tgt.xml.gz"
   ]
  },
  {
   "cell_type": "code",
   "execution_count": null,
   "metadata": {
    "colab": {
     "base_uri": "https://localhost:8080/"
    },
    "id": "t34oT-tBrTYN",
    "outputId": "3193ee7f-e181-4555-8779-e851cd2a541d"
   },
   "outputs": [
    {
     "name": "stdout",
     "output_type": "stream",
     "text": [
      "--2021-03-22 19:33:20--  https://raw.githubusercontent.com/juliakreutzer/masakhane/master/jw300_utils/test/test.en-mco.en\n",
      "Resolving raw.githubusercontent.com (raw.githubusercontent.com)... 185.199.108.133, 185.199.109.133, 185.199.110.133, ...\n",
      "Connecting to raw.githubusercontent.com (raw.githubusercontent.com)|185.199.108.133|:443... connected.\n",
      "HTTP request sent, awaiting response... 404 Not Found\n",
      "2021-03-22 19:33:20 ERROR 404: Not Found.\n",
      "\n",
      "mv: cannot stat 'test.en-mco.en': No such file or directory\n",
      "--2021-03-22 19:33:20--  https://raw.githubusercontent.com/juliakreutzer/masakhane/master/jw300_utils/test/test.en-mco.mco\n",
      "Resolving raw.githubusercontent.com (raw.githubusercontent.com)... 185.199.108.133, 185.199.109.133, 185.199.110.133, ...\n",
      "Connecting to raw.githubusercontent.com (raw.githubusercontent.com)|185.199.108.133|:443... connected.\n",
      "HTTP request sent, awaiting response... 404 Not Found\n",
      "2021-03-22 19:33:20 ERROR 404: Not Found.\n",
      "\n",
      "mv: cannot stat 'test.en-mco.mco': No such file or directory\n"
     ]
    }
   ],
   "source": [
    "# Descarga un test global para inglés\n",
    "#! wget https://raw.githubusercontent.com/juliakreutzer/masakhane/master/jw300_utils/test/test.en-any.en\n",
    "  \n",
    "# Y un conjunto de pruebas para estas lenguas, pero no será utilizado ya que no existe test para ayuuk de coatlán ni para español\n",
    "os.environ[\"trg\"] = target_language \n",
    "os.environ[\"src\"] = source_language \n",
    "\n",
    "! wget https://raw.githubusercontent.com/juliakreutzer/masakhane/master/jw300_utils/test/test.en-$trg.en \n",
    "! mv test.en-$trg.en test.en\n",
    "! wget https://raw.githubusercontent.com/juliakreutzer/masakhane/master/jw300_utils/test/test.en-$trg.$trg \n",
    "! mv test.en-$trg.$trg test.$trg"
   ]
  },
  {
   "cell_type": "code",
   "execution_count": null,
   "metadata": {
    "colab": {
     "base_uri": "https://localhost:8080/"
    },
    "id": "r3WxWz12bZ9W",
    "outputId": "87630d52-fc7b-467c-c2c1-cb287baaaed3"
   },
   "outputs": [
    {
     "name": "stdout",
     "output_type": "stream",
     "text": [
      "\u001b[0m\u001b[01;34mdrive\u001b[0m/    JW300_latest_xml_es-mco.xml  JW300_latest_xml_mco.zip  \u001b[01;34msample_data\u001b[0m/\n",
      "jw300.es  JW300_latest_xml_es.zip      jw300.mco\n"
     ]
    }
   ],
   "source": [
    "ls"
   ]
  },
  {
   "cell_type": "code",
   "execution_count": null,
   "metadata": {
    "id": "u9jK_xN9rTcK"
   },
   "outputs": [],
   "source": [
    "! cat jw300.es > drive/MyDrive/mixe-coatlan-es-mco/es-mco-baseline/es.txt\n",
    "! cat jw300.mco > drive/MyDrive/mixe-coatlan-es-mco/es-mco-baseline/mco.txt"
   ]
  },
  {
   "cell_type": "code",
   "execution_count": null,
   "metadata": {
    "id": "Lozn3M5UUJ7w"
   },
   "outputs": [],
   "source": [
    "import os\n",
    "import pandas as pd\n",
    "import numpy as np\n",
    "import re"
   ]
  },
  {
   "cell_type": "code",
   "execution_count": null,
   "metadata": {
    "colab": {
     "base_uri": "https://localhost:8080/"
    },
    "id": "8YaL2ojlUJ-9",
    "outputId": "8cc37a40-a392-4993-93eb-05ca478d50ad"
   },
   "outputs": [
    {
     "name": "stdout",
     "output_type": "stream",
     "text": [
      "79132\n",
      "79132\n"
     ]
    }
   ],
   "source": [
    "#Los textos ya vienen alineados, solo es cuestion de unirlos y eliminar \n",
    "#las que no tuvieron correspondecia así como los duplicados\n",
    "source = []\n",
    "target = []\n",
    "\n",
    "with open(\"drive/My Drive/mixe-coatlan-es-mco/es-mco-baseline/es.txt\") as f:\n",
    "    for i, line in enumerate(f):\n",
    "        source.append(line.strip().lower())\n",
    "        \n",
    "\n",
    "with open(\"drive/My Drive/mixe-coatlan-es-mco/es-mco-baseline/mco.txt\") as f:\n",
    "    for i, line in enumerate(f):\n",
    "        target.append(line.strip().lower())\n",
    "\n",
    "print(len(source))\n",
    "print(len(target))"
   ]
  },
  {
   "cell_type": "code",
   "execution_count": null,
   "metadata": {
    "colab": {
     "base_uri": "https://localhost:8080/",
     "height": 869
    },
    "id": "bczSZfidgG3K",
    "outputId": "d3cdd56c-58e9-47bf-d694-3ba8abad56ba"
   },
   "outputs": [
    {
     "name": "stdout",
     "output_type": "stream",
     "text": [
      "79132\n",
      " \n"
     ]
    },
    {
     "data": {
      "text/html": [
       "<div>\n",
       "<style scoped>\n",
       "    .dataframe tbody tr th:only-of-type {\n",
       "        vertical-align: middle;\n",
       "    }\n",
       "\n",
       "    .dataframe tbody tr th {\n",
       "        vertical-align: top;\n",
       "    }\n",
       "\n",
       "    .dataframe thead th {\n",
       "        text-align: right;\n",
       "    }\n",
       "</style>\n",
       "<table border=\"1\" class=\"dataframe\">\n",
       "  <thead>\n",
       "    <tr style=\"text-align: right;\">\n",
       "      <th></th>\n",
       "      <th>source_sentence</th>\n",
       "      <th>target_sentence</th>\n",
       "    </tr>\n",
       "  </thead>\n",
       "  <tbody>\n",
       "    <tr>\n",
       "      <th>0</th>\n",
       "      <td>índice</td>\n",
       "      <td>tijaty myëmiimpy</td>\n",
       "    </tr>\n",
       "    <tr>\n",
       "      <th>1</th>\n",
       "      <td>1 de marzo de 2011</td>\n",
       "      <td>1 äämbë abril 2011</td>\n",
       "    </tr>\n",
       "    <tr>\n",
       "      <th>2</th>\n",
       "      <td>las “ buenas nuevas del reino ”</td>\n",
       "      <td>“ oybyë ayuk ” mä ja anaˈamën , ¿ ti yˈandijpy ?</td>\n",
       "    </tr>\n",
       "    <tr>\n",
       "      <th>3</th>\n",
       "      <td>un mensaje de esperanza serie de portada</td>\n",
       "      <td>yajnimaytyaˈaky diˈib miimp mä nyiˈak</td>\n",
       "    </tr>\n",
       "    <tr>\n",
       "      <th>4</th>\n",
       "      <td>3 una profecía de gran importancia</td>\n",
       "      <td>3 diˈib ojts yajnaskäjpxë mëjwiin kajaa nyikejy</td>\n",
       "    </tr>\n",
       "    <tr>\n",
       "      <th>5</th>\n",
       "      <td>4 ¿ qué es el reino de dios ?</td>\n",
       "      <td>4 ¿ ti yˈandijpy ja diosë yˈanaˈamën ?</td>\n",
       "    </tr>\n",
       "    <tr>\n",
       "      <th>6</th>\n",
       "      <td>6 ¿ qué son las buenas nuevas ?</td>\n",
       "      <td>6 ¿ ti yˈandijpy ja oybyë ayuk ?</td>\n",
       "    </tr>\n",
       "    <tr>\n",
       "      <th>7</th>\n",
       "      <td>7 ¿ quiénes están predicando las buenas nuevas ?</td>\n",
       "      <td>7 ¿ pënaty kyäjpxwäˈkxtëp ja oybyë ayuk ?</td>\n",
       "    </tr>\n",
       "    <tr>\n",
       "      <th>8</th>\n",
       "      <td>8 ¿ qué es “ el fin ” ?</td>\n",
       "      <td>8 ¿ ti duˈun yˈandijpy “ ja jëjptëgoˈoyën ” ?</td>\n",
       "    </tr>\n",
       "    <tr>\n",
       "      <th>9</th>\n",
       "      <td>secciones fijas</td>\n",
       "      <td>nanduˈun</td>\n",
       "    </tr>\n",
       "    <tr>\n",
       "      <th>10</th>\n",
       "      <td>16 enseñanzas de la palabra de dios : ¿ quién ...</td>\n",
       "      <td>10 nijawë diosë yˈayuk : ¿ pënën jesukristë ?</td>\n",
       "    </tr>\n",
       "    <tr>\n",
       "      <th>11</th>\n",
       "      <td>21 nuestros lectores quieren saber</td>\n",
       "      <td>31 tuˈugë neky diˈib yajkajx nëwinm</td>\n",
       "    </tr>\n",
       "    <tr>\n",
       "      <th>12</th>\n",
       "      <td>22 acérquese a dios : “ por la obra de tus man...</td>\n",
       "      <td>artikulo diˈib yaˈëxpëkäämp</td>\n",
       "    </tr>\n",
       "    <tr>\n",
       "      <th>13</th>\n",
       "      <td>23 ¿ lo sabía ? 24 carta de méxico</td>\n",
       "      <td>mayë 30 – 5 junië pajina 12 - ëy : 125 , 66</td>\n",
       "    </tr>\n",
       "    <tr>\n",
       "      <th>14</th>\n",
       "      <td></td>\n",
       "      <td>nˈoktuˈunëm tukëˈëyë mëdë mayˈäjt wintsëˈkën</td>\n",
       "    </tr>\n",
       "    <tr>\n",
       "      <th>15</th>\n",
       "      <td>30 el rincón del joven : defendió la religión ...</td>\n",
       "      <td>6 - 12 äämbë junië pajina 16 - ëy : 112 , 104</td>\n",
       "    </tr>\n",
       "    <tr>\n",
       "      <th>16</th>\n",
       "      <td></td>\n",
       "      <td>nˈoktuˈunëm diˈibë dios yajmëjpëtsëmëdëp</td>\n",
       "    </tr>\n",
       "    <tr>\n",
       "      <th>17</th>\n",
       "      <td>y también</td>\n",
       "      <td>13 - 19 äämbë junië pajina 21 - ëy : 25 , 11</td>\n",
       "    </tr>\n",
       "    <tr>\n",
       "      <th>18</th>\n",
       "      <td>10 el reino de dios : ¿ se lleva en el corazón ?</td>\n",
       "      <td>ja tëëm diˈib yajkypyë espiritë santë myëjkuma...</td>\n",
       "    </tr>\n",
       "    <tr>\n",
       "      <th>19</th>\n",
       "      <td>12 ¿ aprueba la biblia los juegos de azar ?</td>\n",
       "      <td>20 - 26 äämbë junië pajina 26 - ëy : 120 , 48</td>\n",
       "    </tr>\n",
       "    <tr>\n",
       "      <th>20</th>\n",
       "      <td>15 “ una tierra que mana leche y miel ”</td>\n",
       "      <td>nˈoknasˈijxëm etsë diosë myëjää xytyuˈumoˈoyëm</td>\n",
       "    </tr>\n",
       "    <tr>\n",
       "      <th>21</th>\n",
       "      <td>18 ¿ murió jesús en una cruz ?</td>\n",
       "      <td>tijaty myaytyakypyë artikulo</td>\n",
       "    </tr>\n",
       "    <tr>\n",
       "      <th>22</th>\n",
       "      <td></td>\n",
       "      <td>artikulo 1 - naxwinyëdë jäˈäy yëˈë myëjpëjtakt...</td>\n",
       "    </tr>\n",
       "    <tr>\n",
       "      <th>23</th>\n",
       "      <td></td>\n",
       "      <td>perë dios mëduumbë tsojkëp tijaty tˈixët mëdë ...</td>\n",
       "    </tr>\n",
       "    <tr>\n",
       "      <th>24</th>\n",
       "      <td>26 las asambleas de verano en rusia : ejemplos...</td>\n",
       "      <td>diˈib mas jëjpˈam mbäät tˈixy , yëˈë wiˈixë di...</td>\n",
       "    </tr>\n",
       "  </tbody>\n",
       "</table>\n",
       "</div>"
      ],
      "text/plain": [
       "                                      source_sentence                                    target_sentence\n",
       "0                                              índice                                   tijaty myëmiimpy\n",
       "1                                  1 de marzo de 2011                                 1 äämbë abril 2011\n",
       "2                     las “ buenas nuevas del reino ”   “ oybyë ayuk ” mä ja anaˈamën , ¿ ti yˈandijpy ?\n",
       "3            un mensaje de esperanza serie de portada              yajnimaytyaˈaky diˈib miimp mä nyiˈak\n",
       "4                  3 una profecía de gran importancia    3 diˈib ojts yajnaskäjpxë mëjwiin kajaa nyikejy\n",
       "5                       4 ¿ qué es el reino de dios ?             4 ¿ ti yˈandijpy ja diosë yˈanaˈamën ?\n",
       "6                     6 ¿ qué son las buenas nuevas ?                   6 ¿ ti yˈandijpy ja oybyë ayuk ?\n",
       "7    7 ¿ quiénes están predicando las buenas nuevas ?          7 ¿ pënaty kyäjpxwäˈkxtëp ja oybyë ayuk ?\n",
       "8                             8 ¿ qué es “ el fin ” ?      8 ¿ ti duˈun yˈandijpy “ ja jëjptëgoˈoyën ” ?\n",
       "9                                     secciones fijas                                           nanduˈun\n",
       "10  16 enseñanzas de la palabra de dios : ¿ quién ...      10 nijawë diosë yˈayuk : ¿ pënën jesukristë ?\n",
       "11                 21 nuestros lectores quieren saber                31 tuˈugë neky diˈib yajkajx nëwinm\n",
       "12  22 acérquese a dios : “ por la obra de tus man...                        artikulo diˈib yaˈëxpëkäämp\n",
       "13                 23 ¿ lo sabía ? 24 carta de méxico        mayë 30 – 5 junië pajina 12 - ëy : 125 , 66\n",
       "14                                                          nˈoktuˈunëm tukëˈëyë mëdë mayˈäjt wintsëˈkën\n",
       "15  30 el rincón del joven : defendió la religión ...      6 - 12 äämbë junië pajina 16 - ëy : 112 , 104\n",
       "16                                                              nˈoktuˈunëm diˈibë dios yajmëjpëtsëmëdëp\n",
       "17                                          y también       13 - 19 äämbë junië pajina 21 - ëy : 25 , 11\n",
       "18   10 el reino de dios : ¿ se lleva en el corazón ?  ja tëëm diˈib yajkypyë espiritë santë myëjkuma...\n",
       "19        12 ¿ aprueba la biblia los juegos de azar ?      20 - 26 äämbë junië pajina 26 - ëy : 120 , 48\n",
       "20            15 “ una tierra que mana leche y miel ”     nˈoknasˈijxëm etsë diosë myëjää xytyuˈumoˈoyëm\n",
       "21                     18 ¿ murió jesús en una cruz ?                       tijaty myaytyakypyë artikulo\n",
       "22                                                     artikulo 1 - naxwinyëdë jäˈäy yëˈë myëjpëjtakt...\n",
       "23                                                     perë dios mëduumbë tsojkëp tijaty tˈixët mëdë ...\n",
       "24  26 las asambleas de verano en rusia : ejemplos...  diˈib mas jëjpˈam mbäät tˈixy , yëˈë wiˈixë di..."
      ]
     },
     "execution_count": 14,
     "metadata": {
      "tags": []
     },
     "output_type": "execute_result"
    }
   ],
   "source": [
    "# junta source y target\n",
    "df = pd.DataFrame(zip(source, target), columns=['source_sentence', 'target_sentence'])\n",
    "\n",
    "print(len(df))\n",
    "print(\" \")\n",
    "df.head(25)"
   ]
  },
  {
   "cell_type": "code",
   "execution_count": null,
   "metadata": {
    "colab": {
     "base_uri": "https://localhost:8080/",
     "height": 603
    },
    "id": "iMMBaOmKgacf",
    "outputId": "cb965ade-347d-4747-f095-c9aa130f8141"
   },
   "outputs": [
    {
     "name": "stderr",
     "output_type": "stream",
     "text": [
      "/usr/local/lib/python3.7/dist-packages/ipykernel_launcher.py:4: SettingWithCopyWarning: \n",
      "A value is trying to be set on a copy of a slice from a DataFrame\n",
      "\n",
      "See the caveats in the documentation: https://pandas.pydata.org/pandas-docs/stable/user_guide/indexing.html#returning-a-view-versus-a-copy\n",
      "  after removing the cwd from sys.path.\n",
      "/usr/local/lib/python3.7/dist-packages/ipykernel_launcher.py:5: SettingWithCopyWarning: \n",
      "A value is trying to be set on a copy of a slice from a DataFrame\n",
      "\n",
      "See the caveats in the documentation: https://pandas.pydata.org/pandas-docs/stable/user_guide/indexing.html#returning-a-view-versus-a-copy\n",
      "  \"\"\"\n"
     ]
    },
    {
     "data": {
      "text/html": [
       "<div>\n",
       "<style scoped>\n",
       "    .dataframe tbody tr th:only-of-type {\n",
       "        vertical-align: middle;\n",
       "    }\n",
       "\n",
       "    .dataframe tbody tr th {\n",
       "        vertical-align: top;\n",
       "    }\n",
       "\n",
       "    .dataframe thead th {\n",
       "        text-align: right;\n",
       "    }\n",
       "</style>\n",
       "<table border=\"1\" class=\"dataframe\">\n",
       "  <thead>\n",
       "    <tr style=\"text-align: right;\">\n",
       "      <th></th>\n",
       "      <th>source_sentence</th>\n",
       "      <th>target_sentence</th>\n",
       "    </tr>\n",
       "  </thead>\n",
       "  <tbody>\n",
       "    <tr>\n",
       "      <th>0</th>\n",
       "      <td>índice</td>\n",
       "      <td>tijaty myëmiimpy</td>\n",
       "    </tr>\n",
       "    <tr>\n",
       "      <th>1</th>\n",
       "      <td>1 de marzo de 2011</td>\n",
       "      <td>1 äämbë abril 2011</td>\n",
       "    </tr>\n",
       "    <tr>\n",
       "      <th>2</th>\n",
       "      <td>las “ buenas nuevas del reino ”</td>\n",
       "      <td>“ oybyë ayuk ” mä ja anaˈamën , ¿ ti yˈandijpy ?</td>\n",
       "    </tr>\n",
       "    <tr>\n",
       "      <th>3</th>\n",
       "      <td>un mensaje de esperanza serie de portada</td>\n",
       "      <td>yajnimaytyaˈaky diˈib miimp mä nyiˈak</td>\n",
       "    </tr>\n",
       "    <tr>\n",
       "      <th>4</th>\n",
       "      <td>3 una profecía de gran importancia</td>\n",
       "      <td>3 diˈib ojts yajnaskäjpxë mëjwiin kajaa nyikejy</td>\n",
       "    </tr>\n",
       "    <tr>\n",
       "      <th>...</th>\n",
       "      <td>...</td>\n",
       "      <td>...</td>\n",
       "    </tr>\n",
       "    <tr>\n",
       "      <th>79127</th>\n",
       "      <td>encontraron un trabajo que les permite ser pre...</td>\n",
       "      <td>ojts tpäättë tyuunk diˈib mooyëdëbë tiempë par...</td>\n",
       "    </tr>\n",
       "    <tr>\n",
       "      <th>79128</th>\n",
       "      <td>daniel dice : “ antes de irnos de españa , no ...</td>\n",
       "      <td>daniel jyënaˈany : “ mätsë nety ngatsoondënëm ...</td>\n",
       "    </tr>\n",
       "    <tr>\n",
       "      <th>79129</th>\n",
       "      <td>hoy lo hacemos , y no nos falta nada verdadera...</td>\n",
       "      <td>tyam , adëyëts njukyˈattë ets nitiijëts ngayaj...</td>\n",
       "    </tr>\n",
       "    <tr>\n",
       "      <th>79130</th>\n",
       "      <td>¿ cuál es su mayor alegría ?</td>\n",
       "      <td>¿ ti diˈib niˈigyë yajnayjäˈäwëdëp agujk jotku...</td>\n",
       "    </tr>\n",
       "    <tr>\n",
       "      <th>79131</th>\n",
       "      <td>ellos comentan : “ ayudar a las personas humil...</td>\n",
       "      <td>yëˈëjëty jyënäˈändë : “ nitiijëts duˈun xykyay...</td>\n",
       "    </tr>\n",
       "  </tbody>\n",
       "</table>\n",
       "<p>68836 rows × 2 columns</p>\n",
       "</div>"
      ],
      "text/plain": [
       "                                         source_sentence                                    target_sentence\n",
       "0                                                 índice                                   tijaty myëmiimpy\n",
       "1                                     1 de marzo de 2011                                 1 äämbë abril 2011\n",
       "2                        las “ buenas nuevas del reino ”   “ oybyë ayuk ” mä ja anaˈamën , ¿ ti yˈandijpy ?\n",
       "3               un mensaje de esperanza serie de portada              yajnimaytyaˈaky diˈib miimp mä nyiˈak\n",
       "4                     3 una profecía de gran importancia    3 diˈib ojts yajnaskäjpxë mëjwiin kajaa nyikejy\n",
       "...                                                  ...                                                ...\n",
       "79127  encontraron un trabajo que les permite ser pre...  ojts tpäättë tyuunk diˈib mooyëdëbë tiempë par...\n",
       "79128  daniel dice : “ antes de irnos de españa , no ...  daniel jyënaˈany : “ mätsë nety ngatsoondënëm ...\n",
       "79129  hoy lo hacemos , y no nos falta nada verdadera...  tyam , adëyëts njukyˈattë ets nitiijëts ngayaj...\n",
       "79130                       ¿ cuál es su mayor alegría ?  ¿ ti diˈib niˈigyë yajnayjäˈäwëdëp agujk jotku...\n",
       "79131  ellos comentan : “ ayudar a las personas humil...  yëˈëjëty jyënäˈändë : “ nitiijëts duˈun xykyay...\n",
       "\n",
       "[68836 rows x 2 columns]"
      ]
     },
     "execution_count": 15,
     "metadata": {
      "tags": []
     },
     "output_type": "execute_result"
    }
   ],
   "source": [
    "# elimina duplicados \n",
    "df_pp = df.drop_duplicates()\n",
    "\n",
    "df_pp.drop_duplicates(subset='source_sentence', inplace=True)\n",
    "df_pp.drop_duplicates(subset='target_sentence', inplace=True)\n",
    "df_pp"
   ]
  },
  {
   "cell_type": "code",
   "execution_count": null,
   "metadata": {
    "id": "ibzz5ukygG6m"
   },
   "outputs": [],
   "source": [
    "es = df_pp[[\"source_sentence\"]]\n",
    "mco = df_pp[[\"target_sentence\"]]"
   ]
  },
  {
   "cell_type": "code",
   "execution_count": null,
   "metadata": {
    "id": "H_pXpAiPUKBs"
   },
   "outputs": [],
   "source": [
    "es.to_csv(\"/content/drive/My Drive/mixe-coatlan-es-mco/es-mco-baseline/es-sin-dup.txt\", header=False, index=False, sep = \"\\t\")\n",
    "mco.to_csv(\"/content/drive/My Drive/mixe-coatlan-es-mco/es-mco-baseline/mco-sin-dup.txt\", header=False, index=False, sep = \"\\t\")"
   ]
  },
  {
   "cell_type": "code",
   "execution_count": null,
   "metadata": {
    "id": "ZLz6bzL3hW9P"
   },
   "outputs": [],
   "source": []
  },
  {
   "cell_type": "markdown",
   "metadata": {
    "id": "VsrsK36Qhakp"
   },
   "source": [
    "\n",
    "# para el español"
   ]
  },
  {
   "cell_type": "code",
   "execution_count": null,
   "metadata": {
    "colab": {
     "base_uri": "https://localhost:8080/",
     "height": 442
    },
    "id": "MfSKPtDQVdWS",
    "outputId": "9c64aa22-40ef-4f1b-a3da-8c6b4c0c3449"
   },
   "outputs": [
    {
     "name": "stdout",
     "output_type": "stream",
     "text": [
      "68837\n"
     ]
    },
    {
     "data": {
      "text/html": [
       "<div>\n",
       "<style scoped>\n",
       "    .dataframe tbody tr th:only-of-type {\n",
       "        vertical-align: middle;\n",
       "    }\n",
       "\n",
       "    .dataframe tbody tr th {\n",
       "        vertical-align: top;\n",
       "    }\n",
       "\n",
       "    .dataframe thead th {\n",
       "        text-align: right;\n",
       "    }\n",
       "</style>\n",
       "<table border=\"1\" class=\"dataframe\">\n",
       "  <thead>\n",
       "    <tr style=\"text-align: right;\">\n",
       "      <th></th>\n",
       "      <th>es</th>\n",
       "    </tr>\n",
       "  </thead>\n",
       "  <tbody>\n",
       "    <tr>\n",
       "      <th>0</th>\n",
       "      <td>índice</td>\n",
       "    </tr>\n",
       "    <tr>\n",
       "      <th>1</th>\n",
       "      <td>de marzo de</td>\n",
       "    </tr>\n",
       "    <tr>\n",
       "      <th>2</th>\n",
       "      <td>las buenas nuevas del reino</td>\n",
       "    </tr>\n",
       "    <tr>\n",
       "      <th>3</th>\n",
       "      <td>un mensaje de esperanza serie de portada</td>\n",
       "    </tr>\n",
       "    <tr>\n",
       "      <th>4</th>\n",
       "      <td>una profecía de gran importancia</td>\n",
       "    </tr>\n",
       "    <tr>\n",
       "      <th>...</th>\n",
       "      <td>...</td>\n",
       "    </tr>\n",
       "    <tr>\n",
       "      <th>68832</th>\n",
       "      <td>daniel dice antes de irnos de españa , no está...</td>\n",
       "    </tr>\n",
       "    <tr>\n",
       "      <th>68833</th>\n",
       "      <td>hoy lo hacemos , y no nos falta nada verdadera...</td>\n",
       "    </tr>\n",
       "    <tr>\n",
       "      <th>68834</th>\n",
       "      <td>¿ cuál es su mayor alegría ?</td>\n",
       "    </tr>\n",
       "    <tr>\n",
       "      <th>68835</th>\n",
       "      <td>ellos comentan ayudar a las personas humildes ...</td>\n",
       "    </tr>\n",
       "    <tr>\n",
       "      <th>68836</th>\n",
       "      <td></td>\n",
       "    </tr>\n",
       "  </tbody>\n",
       "</table>\n",
       "<p>68837 rows × 1 columns</p>\n",
       "</div>"
      ],
      "text/plain": [
       "                                                      es\n",
       "0                                                 índice\n",
       "1                                            de marzo de\n",
       "2                            las buenas nuevas del reino\n",
       "3               un mensaje de esperanza serie de portada\n",
       "4                       una profecía de gran importancia\n",
       "...                                                  ...\n",
       "68832  daniel dice antes de irnos de españa , no está...\n",
       "68833  hoy lo hacemos , y no nos falta nada verdadera...\n",
       "68834                       ¿ cuál es su mayor alegría ?\n",
       "68835  ellos comentan ayudar a las personas humildes ...\n",
       "68836                                                   \n",
       "\n",
       "[68837 rows x 1 columns]"
      ]
     },
     "execution_count": 19,
     "metadata": {
      "tags": []
     },
     "output_type": "execute_result"
    }
   ],
   "source": [
    "\n",
    "def abre_archivo(nombre):\n",
    "    with open(nombre) as archivo:\n",
    "        return archivo.read()\n",
    "    \n",
    "#Elimina caracteres especiales del corpus\n",
    "def limpia(a):\n",
    "    entrada = ':\"«»()[]—“”-;.|'\n",
    "    salida  = '               '\n",
    "    reemplaza = str.maketrans(entrada, salida)\n",
    "    cadena_limpia = a.translate(reemplaza)\n",
    "    return cadena_limpia\n",
    "\n",
    "clean = abre_archivo(\"/content/drive/My Drive/mixe-coatlan-es-mco/es-mco-baseline/es-sin-dup.txt\")\n",
    "limpio = limpia(clean)\n",
    "\n",
    "\n",
    "#Expresiones regulares utilizados para quitar abreviaciones de juan, lucas, mateo y marcos.\n",
    "#Así como eliminar numeros en el corpus\n",
    "\n",
    "eliminar = r'\\b[0-9]{1,8}\\b'\n",
    "limpio = re.sub(eliminar, ' ', limpio)\n",
    "\n",
    "# Para quitar espacios grandes entre palabras\n",
    "limpio = limpio.replace(\"\\n\",\"|\")\n",
    "limpio = limpio.split()\n",
    "\n",
    "def quita_espacio(lista):\n",
    "    for i in range(len(lista)):\n",
    "        lista[i]=lista[i].strip()\n",
    "    return lista\n",
    "\n",
    "limpio = quita_espacio(limpio)\n",
    "\n",
    "def lista_a_cadena(lista):\n",
    "    cadena = ' '.join(lista)\n",
    "    return cadena\n",
    "\n",
    "limpio = lista_a_cadena(limpio)\n",
    "\n",
    "separaxpipe = limpio.split(\"|\")\n",
    "separaxpipe = [x.strip() for x in separaxpipe]\n",
    "\n",
    "print(len(separaxpipe))\n",
    "\n",
    "df_es = pd.DataFrame(separaxpipe, columns=[\"es\"])\n",
    "df_es"
   ]
  },
  {
   "cell_type": "code",
   "execution_count": null,
   "metadata": {
    "id": "UqHHejggYNJf"
   },
   "outputs": [],
   "source": []
  },
  {
   "cell_type": "markdown",
   "metadata": {
    "id": "aZtENP33hl3k"
   },
   "source": [
    "# Para mixe coatlán"
   ]
  },
  {
   "cell_type": "code",
   "execution_count": null,
   "metadata": {
    "colab": {
     "base_uri": "https://localhost:8080/",
     "height": 442
    },
    "id": "kyGxWLApVddH",
    "outputId": "0d9f579b-1393-46bf-c5e1-53ced687d785"
   },
   "outputs": [
    {
     "name": "stdout",
     "output_type": "stream",
     "text": [
      "68837\n"
     ]
    },
    {
     "data": {
      "text/html": [
       "<div>\n",
       "<style scoped>\n",
       "    .dataframe tbody tr th:only-of-type {\n",
       "        vertical-align: middle;\n",
       "    }\n",
       "\n",
       "    .dataframe tbody tr th {\n",
       "        vertical-align: top;\n",
       "    }\n",
       "\n",
       "    .dataframe thead th {\n",
       "        text-align: right;\n",
       "    }\n",
       "</style>\n",
       "<table border=\"1\" class=\"dataframe\">\n",
       "  <thead>\n",
       "    <tr style=\"text-align: right;\">\n",
       "      <th></th>\n",
       "      <th>mco</th>\n",
       "    </tr>\n",
       "  </thead>\n",
       "  <tbody>\n",
       "    <tr>\n",
       "      <th>0</th>\n",
       "      <td>tijaty myëmiimpy</td>\n",
       "    </tr>\n",
       "    <tr>\n",
       "      <th>1</th>\n",
       "      <td>äämbë abril</td>\n",
       "    </tr>\n",
       "    <tr>\n",
       "      <th>2</th>\n",
       "      <td>oybyë ayuk mä ja anaˈamën , ¿ ti yˈandijpy ?</td>\n",
       "    </tr>\n",
       "    <tr>\n",
       "      <th>3</th>\n",
       "      <td>yajnimaytyaˈaky diˈib miimp mä nyiˈak</td>\n",
       "    </tr>\n",
       "    <tr>\n",
       "      <th>4</th>\n",
       "      <td>diˈib ojts yajnaskäjpxë mëjwiin kajaa nyikejy</td>\n",
       "    </tr>\n",
       "    <tr>\n",
       "      <th>...</th>\n",
       "      <td>...</td>\n",
       "    </tr>\n",
       "    <tr>\n",
       "      <th>68832</th>\n",
       "      <td>daniel jyënaˈany mätsë nety ngatsoondënëm espa...</td>\n",
       "    </tr>\n",
       "    <tr>\n",
       "      <th>68833</th>\n",
       "      <td>tyam , adëyëts njukyˈattë ets nitiijëts ngayaj...</td>\n",
       "    </tr>\n",
       "    <tr>\n",
       "      <th>68834</th>\n",
       "      <td>¿ ti diˈib niˈigyë yajnayjäˈäwëdëp agujk jotku...</td>\n",
       "    </tr>\n",
       "    <tr>\n",
       "      <th>68835</th>\n",
       "      <td>yëˈëjëty jyënäˈändë nitiijëts duˈun xykyayajna...</td>\n",
       "    </tr>\n",
       "    <tr>\n",
       "      <th>68836</th>\n",
       "      <td></td>\n",
       "    </tr>\n",
       "  </tbody>\n",
       "</table>\n",
       "<p>68837 rows × 1 columns</p>\n",
       "</div>"
      ],
      "text/plain": [
       "                                                     mco\n",
       "0                                       tijaty myëmiimpy\n",
       "1                                            äämbë abril\n",
       "2           oybyë ayuk mä ja anaˈamën , ¿ ti yˈandijpy ?\n",
       "3                  yajnimaytyaˈaky diˈib miimp mä nyiˈak\n",
       "4          diˈib ojts yajnaskäjpxë mëjwiin kajaa nyikejy\n",
       "...                                                  ...\n",
       "68832  daniel jyënaˈany mätsë nety ngatsoondënëm espa...\n",
       "68833  tyam , adëyëts njukyˈattë ets nitiijëts ngayaj...\n",
       "68834  ¿ ti diˈib niˈigyë yajnayjäˈäwëdëp agujk jotku...\n",
       "68835  yëˈëjëty jyënäˈändë nitiijëts duˈun xykyayajna...\n",
       "68836                                                   \n",
       "\n",
       "[68837 rows x 1 columns]"
      ]
     },
     "execution_count": 20,
     "metadata": {
      "tags": []
     },
     "output_type": "execute_result"
    }
   ],
   "source": [
    "def abre_archivo(nombre):\n",
    "    with open(nombre) as archivo:\n",
    "        return archivo.read()\n",
    "    \n",
    "#Elimina caracteres especiales del corpus\n",
    "def limpia(a):\n",
    "    entrada = ':\"«»()[]—“”-;.|áéíóú'\n",
    "    salida  = '               aeiou'\n",
    "    reemplaza = str.maketrans(entrada, salida)\n",
    "    cadena_limpia = a.translate(reemplaza)\n",
    "    return cadena_limpia\n",
    "\n",
    "clean = abre_archivo(\"/content/drive/My Drive/mixe-coatlan-es-mco/es-mco-baseline/mco-sin-dup.txt\")\n",
    "limpio = limpia(clean)\n",
    "\n",
    "#Eliminar numeros en el corpus\n",
    "eliminar = r'\\b[0-9]{1,8}\\b'\n",
    "limpio = re.sub(eliminar, ' ', limpio)\n",
    "\n",
    "# Para quitar espacios grandes entre palabras\n",
    "limpio = limpio.replace(\"\\n\",\"|\")\n",
    "limpio = limpio.split()\n",
    "\n",
    "def quita_espacio(lista):\n",
    "    for i in range(len(lista)):\n",
    "        lista[i]=lista[i].strip()\n",
    "    return lista\n",
    "\n",
    "limpio = quita_espacio(limpio)\n",
    "\n",
    "def lista_a_cadena(lista):\n",
    "    cadena = ' '.join(lista)\n",
    "    return cadena\n",
    "\n",
    "limpio = lista_a_cadena(limpio)\n",
    "\n",
    "separaxpipe = limpio.split(\"|\")\n",
    "separaxpipe = [x.strip() for x in separaxpipe]\n",
    "\n",
    "print(len(separaxpipe))\n",
    "\n",
    "df_mco = pd.DataFrame(separaxpipe, columns=[\"mco\"])\n",
    "df_mco"
   ]
  },
  {
   "cell_type": "code",
   "execution_count": null,
   "metadata": {
    "colab": {
     "base_uri": "https://localhost:8080/",
     "height": 424
    },
    "id": "rlR23FF0Vdfm",
    "outputId": "b03defda-450d-4f42-a988-6e1972054a75"
   },
   "outputs": [
    {
     "data": {
      "text/html": [
       "<div>\n",
       "<style scoped>\n",
       "    .dataframe tbody tr th:only-of-type {\n",
       "        vertical-align: middle;\n",
       "    }\n",
       "\n",
       "    .dataframe tbody tr th {\n",
       "        vertical-align: top;\n",
       "    }\n",
       "\n",
       "    .dataframe thead th {\n",
       "        text-align: right;\n",
       "    }\n",
       "</style>\n",
       "<table border=\"1\" class=\"dataframe\">\n",
       "  <thead>\n",
       "    <tr style=\"text-align: right;\">\n",
       "      <th></th>\n",
       "      <th>es</th>\n",
       "      <th>mco</th>\n",
       "    </tr>\n",
       "  </thead>\n",
       "  <tbody>\n",
       "    <tr>\n",
       "      <th>0</th>\n",
       "      <td>índice</td>\n",
       "      <td>tijaty myëmiimpy</td>\n",
       "    </tr>\n",
       "    <tr>\n",
       "      <th>1</th>\n",
       "      <td>de marzo de</td>\n",
       "      <td>äämbë abril</td>\n",
       "    </tr>\n",
       "    <tr>\n",
       "      <th>2</th>\n",
       "      <td>las buenas nuevas del reino</td>\n",
       "      <td>oybyë ayuk mä ja anaˈamën , ¿ ti yˈandijpy ?</td>\n",
       "    </tr>\n",
       "    <tr>\n",
       "      <th>3</th>\n",
       "      <td>un mensaje de esperanza serie de portada</td>\n",
       "      <td>yajnimaytyaˈaky diˈib miimp mä nyiˈak</td>\n",
       "    </tr>\n",
       "    <tr>\n",
       "      <th>4</th>\n",
       "      <td>una profecía de gran importancia</td>\n",
       "      <td>diˈib ojts yajnaskäjpxë mëjwiin kajaa nyikejy</td>\n",
       "    </tr>\n",
       "    <tr>\n",
       "      <th>...</th>\n",
       "      <td>...</td>\n",
       "      <td>...</td>\n",
       "    </tr>\n",
       "    <tr>\n",
       "      <th>68832</th>\n",
       "      <td>daniel dice antes de irnos de españa , no está...</td>\n",
       "      <td>daniel jyënaˈany mätsë nety ngatsoondënëm espa...</td>\n",
       "    </tr>\n",
       "    <tr>\n",
       "      <th>68833</th>\n",
       "      <td>hoy lo hacemos , y no nos falta nada verdadera...</td>\n",
       "      <td>tyam , adëyëts njukyˈattë ets nitiijëts ngayaj...</td>\n",
       "    </tr>\n",
       "    <tr>\n",
       "      <th>68834</th>\n",
       "      <td>¿ cuál es su mayor alegría ?</td>\n",
       "      <td>¿ ti diˈib niˈigyë yajnayjäˈäwëdëp agujk jotku...</td>\n",
       "    </tr>\n",
       "    <tr>\n",
       "      <th>68835</th>\n",
       "      <td>ellos comentan ayudar a las personas humildes ...</td>\n",
       "      <td>yëˈëjëty jyënäˈändë nitiijëts duˈun xykyayajna...</td>\n",
       "    </tr>\n",
       "    <tr>\n",
       "      <th>68836</th>\n",
       "      <td></td>\n",
       "      <td></td>\n",
       "    </tr>\n",
       "  </tbody>\n",
       "</table>\n",
       "<p>68837 rows × 2 columns</p>\n",
       "</div>"
      ],
      "text/plain": [
       "                                                      es                                                mco\n",
       "0                                                 índice                                   tijaty myëmiimpy\n",
       "1                                            de marzo de                                        äämbë abril\n",
       "2                            las buenas nuevas del reino       oybyë ayuk mä ja anaˈamën , ¿ ti yˈandijpy ?\n",
       "3               un mensaje de esperanza serie de portada              yajnimaytyaˈaky diˈib miimp mä nyiˈak\n",
       "4                       una profecía de gran importancia      diˈib ojts yajnaskäjpxë mëjwiin kajaa nyikejy\n",
       "...                                                  ...                                                ...\n",
       "68832  daniel dice antes de irnos de españa , no está...  daniel jyënaˈany mätsë nety ngatsoondënëm espa...\n",
       "68833  hoy lo hacemos , y no nos falta nada verdadera...  tyam , adëyëts njukyˈattë ets nitiijëts ngayaj...\n",
       "68834                       ¿ cuál es su mayor alegría ?  ¿ ti diˈib niˈigyë yajnayjäˈäwëdëp agujk jotku...\n",
       "68835  ellos comentan ayudar a las personas humildes ...  yëˈëjëty jyënäˈändë nitiijëts duˈun xykyayajna...\n",
       "68836                                                                                                      \n",
       "\n",
       "[68837 rows x 2 columns]"
      ]
     },
     "execution_count": 21,
     "metadata": {
      "tags": []
     },
     "output_type": "execute_result"
    }
   ],
   "source": [
    "#Concatena en  mco\n",
    "es_mco = pd.concat([df_es,df_mco], axis = 1)\n",
    "es_mco = es_mco.dropna()\n",
    "es_mco"
   ]
  },
  {
   "cell_type": "code",
   "execution_count": null,
   "metadata": {
    "colab": {
     "base_uri": "https://localhost:8080/",
     "height": 603
    },
    "id": "DbBOmgxuVdjj",
    "outputId": "19b939e4-e51d-4733-9b46-5d3b44f5730a"
   },
   "outputs": [
    {
     "name": "stderr",
     "output_type": "stream",
     "text": [
      "/usr/local/lib/python3.7/dist-packages/ipykernel_launcher.py:3: SettingWithCopyWarning: \n",
      "A value is trying to be set on a copy of a slice from a DataFrame\n",
      "\n",
      "See the caveats in the documentation: https://pandas.pydata.org/pandas-docs/stable/user_guide/indexing.html#returning-a-view-versus-a-copy\n",
      "  This is separate from the ipykernel package so we can avoid doing imports until\n",
      "/usr/local/lib/python3.7/dist-packages/ipykernel_launcher.py:4: SettingWithCopyWarning: \n",
      "A value is trying to be set on a copy of a slice from a DataFrame\n",
      "\n",
      "See the caveats in the documentation: https://pandas.pydata.org/pandas-docs/stable/user_guide/indexing.html#returning-a-view-versus-a-copy\n",
      "  after removing the cwd from sys.path.\n"
     ]
    },
    {
     "data": {
      "text/html": [
       "<div>\n",
       "<style scoped>\n",
       "    .dataframe tbody tr th:only-of-type {\n",
       "        vertical-align: middle;\n",
       "    }\n",
       "\n",
       "    .dataframe tbody tr th {\n",
       "        vertical-align: top;\n",
       "    }\n",
       "\n",
       "    .dataframe thead th {\n",
       "        text-align: right;\n",
       "    }\n",
       "</style>\n",
       "<table border=\"1\" class=\"dataframe\">\n",
       "  <thead>\n",
       "    <tr style=\"text-align: right;\">\n",
       "      <th></th>\n",
       "      <th>es</th>\n",
       "      <th>mco</th>\n",
       "    </tr>\n",
       "  </thead>\n",
       "  <tbody>\n",
       "    <tr>\n",
       "      <th>0</th>\n",
       "      <td>índice</td>\n",
       "      <td>tijaty myëmiimpy</td>\n",
       "    </tr>\n",
       "    <tr>\n",
       "      <th>1</th>\n",
       "      <td>de marzo de</td>\n",
       "      <td>äämbë abril</td>\n",
       "    </tr>\n",
       "    <tr>\n",
       "      <th>2</th>\n",
       "      <td>las buenas nuevas del reino</td>\n",
       "      <td>oybyë ayuk mä ja anaˈamën , ¿ ti yˈandijpy ?</td>\n",
       "    </tr>\n",
       "    <tr>\n",
       "      <th>3</th>\n",
       "      <td>un mensaje de esperanza serie de portada</td>\n",
       "      <td>yajnimaytyaˈaky diˈib miimp mä nyiˈak</td>\n",
       "    </tr>\n",
       "    <tr>\n",
       "      <th>4</th>\n",
       "      <td>una profecía de gran importancia</td>\n",
       "      <td>diˈib ojts yajnaskäjpxë mëjwiin kajaa nyikejy</td>\n",
       "    </tr>\n",
       "    <tr>\n",
       "      <th>...</th>\n",
       "      <td>...</td>\n",
       "      <td>...</td>\n",
       "    </tr>\n",
       "    <tr>\n",
       "      <th>68831</th>\n",
       "      <td>encontraron un trabajo que les permite ser pre...</td>\n",
       "      <td>ojts tpäättë tyuunk diˈib mooyëdëbë tiempë par...</td>\n",
       "    </tr>\n",
       "    <tr>\n",
       "      <th>68832</th>\n",
       "      <td>daniel dice antes de irnos de españa , no está...</td>\n",
       "      <td>daniel jyënaˈany mätsë nety ngatsoondënëm espa...</td>\n",
       "    </tr>\n",
       "    <tr>\n",
       "      <th>68833</th>\n",
       "      <td>hoy lo hacemos , y no nos falta nada verdadera...</td>\n",
       "      <td>tyam , adëyëts njukyˈattë ets nitiijëts ngayaj...</td>\n",
       "    </tr>\n",
       "    <tr>\n",
       "      <th>68834</th>\n",
       "      <td>¿ cuál es su mayor alegría ?</td>\n",
       "      <td>¿ ti diˈib niˈigyë yajnayjäˈäwëdëp agujk jotku...</td>\n",
       "    </tr>\n",
       "    <tr>\n",
       "      <th>68835</th>\n",
       "      <td>ellos comentan ayudar a las personas humildes ...</td>\n",
       "      <td>yëˈëjëty jyënäˈändë nitiijëts duˈun xykyayajna...</td>\n",
       "    </tr>\n",
       "  </tbody>\n",
       "</table>\n",
       "<p>67197 rows × 2 columns</p>\n",
       "</div>"
      ],
      "text/plain": [
       "                                                      es                                                mco\n",
       "0                                                 índice                                   tijaty myëmiimpy\n",
       "1                                            de marzo de                                        äämbë abril\n",
       "2                            las buenas nuevas del reino       oybyë ayuk mä ja anaˈamën , ¿ ti yˈandijpy ?\n",
       "3               un mensaje de esperanza serie de portada              yajnimaytyaˈaky diˈib miimp mä nyiˈak\n",
       "4                       una profecía de gran importancia      diˈib ojts yajnaskäjpxë mëjwiin kajaa nyikejy\n",
       "...                                                  ...                                                ...\n",
       "68831  encontraron un trabajo que les permite ser pre...  ojts tpäättë tyuunk diˈib mooyëdëbë tiempë par...\n",
       "68832  daniel dice antes de irnos de españa , no está...  daniel jyënaˈany mätsë nety ngatsoondënëm espa...\n",
       "68833  hoy lo hacemos , y no nos falta nada verdadera...  tyam , adëyëts njukyˈattë ets nitiijëts ngayaj...\n",
       "68834                       ¿ cuál es su mayor alegría ?  ¿ ti diˈib niˈigyë yajnayjäˈäwëdëp agujk jotku...\n",
       "68835  ellos comentan ayudar a las personas humildes ...  yëˈëjëty jyënäˈändë nitiijëts duˈun xykyayajna...\n",
       "\n",
       "[67197 rows x 2 columns]"
      ]
     },
     "execution_count": 22,
     "metadata": {
      "tags": []
     },
     "output_type": "execute_result"
    }
   ],
   "source": [
    "df_pp = es_mco.drop_duplicates()\n",
    "\n",
    "df_pp.drop_duplicates(subset='es', inplace=True)\n",
    "df_pp.drop_duplicates(subset='mco', inplace=True)\n",
    "df_pp"
   ]
  },
  {
   "cell_type": "code",
   "execution_count": null,
   "metadata": {
    "id": "R9dPAHZQVdoO"
   },
   "outputs": [],
   "source": [
    "df_pp.to_csv(\"/content/drive/My Drive/mixe-coatlan-es-mco/es-mco-baseline/bitext-es-mco-todavia-sin-random.txt\", header=False, index=False, sep = \".\")"
   ]
  },
  {
   "cell_type": "code",
   "execution_count": null,
   "metadata": {
    "id": "OSNIVFKrVdsP"
   },
   "outputs": [],
   "source": [
    "# Shuffle the data to remove bias in dev set selection.\n",
    "df_pp = df_pp.sample(frac=1, random_state=seed).reset_index(drop=True)"
   ]
  },
  {
   "cell_type": "code",
   "execution_count": null,
   "metadata": {
    "id": "8LAPq43yb7Ng"
   },
   "outputs": [],
   "source": [
    "df_pp.to_csv(\"/content/drive/My Drive/mixe-coatlan-es-mco/es-mco-baseline/corpus-train-dev-test-bitext-es-mco.txt\", header=False, index=False, sep = \".\")"
   ]
  },
  {
   "cell_type": "code",
   "execution_count": null,
   "metadata": {
    "colab": {
     "base_uri": "https://localhost:8080/"
    },
    "id": "cgrAyQuIb7RX",
    "outputId": "05cd4df4-c6b5-4c0a-cc65-83a9fbe11e44"
   },
   "outputs": [
    {
     "data": {
      "text/plain": [
       "67197"
      ]
     },
     "execution_count": 26,
     "metadata": {
      "tags": []
     },
     "output_type": "execute_result"
    }
   ],
   "source": [
    "len(df_pp)"
   ]
  },
  {
   "cell_type": "code",
   "execution_count": null,
   "metadata": {
    "colab": {
     "base_uri": "https://localhost:8080/",
     "height": 363
    },
    "id": "TpRk2yOKb7V-",
    "outputId": "17fd87f6-85c7-435f-9513-c17380084922"
   },
   "outputs": [
    {
     "data": {
      "text/html": [
       "<div>\n",
       "<style scoped>\n",
       "    .dataframe tbody tr th:only-of-type {\n",
       "        vertical-align: middle;\n",
       "    }\n",
       "\n",
       "    .dataframe tbody tr th {\n",
       "        vertical-align: top;\n",
       "    }\n",
       "\n",
       "    .dataframe thead th {\n",
       "        text-align: right;\n",
       "    }\n",
       "</style>\n",
       "<table border=\"1\" class=\"dataframe\">\n",
       "  <thead>\n",
       "    <tr style=\"text-align: right;\">\n",
       "      <th></th>\n",
       "      <th>es</th>\n",
       "      <th>mco</th>\n",
       "    </tr>\n",
       "  </thead>\n",
       "  <tbody>\n",
       "    <tr>\n",
       "      <th>0</th>\n",
       "      <td>si su esposo es humilde y modesto , no se sent...</td>\n",
       "      <td>duˈuntsoo dyaˈixëdët ko tsyejpyë nyëdoˈoxy ets...</td>\n",
       "    </tr>\n",
       "    <tr>\n",
       "      <th>1</th>\n",
       "      <td>siempre nos da justo lo que necesitamos para s...</td>\n",
       "      <td>pes xëmë xymyoˈoyëm diˈib meerë nyajtëgoyˈäjtë...</td>\n",
       "    </tr>\n",
       "    <tr>\n",
       "      <th>2</th>\n",
       "      <td>si es así , ¡ bien hecho !</td>\n",
       "      <td>¡ jantsy oy pën ojts duˈun mduny !</td>\n",
       "    </tr>\n",
       "    <tr>\n",
       "      <th>3</th>\n",
       "      <td>la expresión un solo jehová significa varias c...</td>\n",
       "      <td>ko jyënaˈany yëˈëyë tuˈugë jyobaa , kanäk pëky...</td>\n",
       "    </tr>\n",
       "    <tr>\n",
       "      <th>4</th>\n",
       "      <td>pero cuando luego recibió información más exac...</td>\n",
       "      <td>per ko tnijäˈäwë extëm tyëyˈäjtënëty , ta wyin...</td>\n",
       "    </tr>\n",
       "    <tr>\n",
       "      <th>5</th>\n",
       "      <td>sabe qué ropa y qué comida necesitaremos</td>\n",
       "      <td>nyijäˈäwëp ti wit xox ets ti käˈäy ukën nyajtë...</td>\n",
       "    </tr>\n",
       "    <tr>\n",
       "      <th>6</th>\n",
       "      <td>no llegará tarde</td>\n",
       "      <td>tim tsojk jyäˈtäˈäny</td>\n",
       "    </tr>\n",
       "    <tr>\n",
       "      <th>7</th>\n",
       "      <td>nuestras publicaciones la usan para enseñarnos...</td>\n",
       "      <td>mä ëxpëjkpajn dyajtunyë tyäˈädë ijxpajtën parë...</td>\n",
       "    </tr>\n",
       "    <tr>\n",
       "      <th>8</th>\n",
       "      <td>por otro lado , los esposos las dominarían y e...</td>\n",
       "      <td>ets ko yëˈë anaˈamanëdëp , axtë nääk tsiigan k...</td>\n",
       "    </tr>\n",
       "    <tr>\n",
       "      <th>9</th>\n",
       "      <td>además , puede que empecemos a ver las buenas ...</td>\n",
       "      <td>nan mbäädë net nˈijxëm ja oybyë jyaˈayˈäjtën d...</td>\n",
       "    </tr>\n",
       "  </tbody>\n",
       "</table>\n",
       "</div>"
      ],
      "text/plain": [
       "                                                  es                                                mco\n",
       "0  si su esposo es humilde y modesto , no se sent...  duˈuntsoo dyaˈixëdët ko tsyejpyë nyëdoˈoxy ets...\n",
       "1  siempre nos da justo lo que necesitamos para s...  pes xëmë xymyoˈoyëm diˈib meerë nyajtëgoyˈäjtë...\n",
       "2                         si es así , ¡ bien hecho !                 ¡ jantsy oy pën ojts duˈun mduny !\n",
       "3  la expresión un solo jehová significa varias c...  ko jyënaˈany yëˈëyë tuˈugë jyobaa , kanäk pëky...\n",
       "4  pero cuando luego recibió información más exac...  per ko tnijäˈäwë extëm tyëyˈäjtënëty , ta wyin...\n",
       "5           sabe qué ropa y qué comida necesitaremos  nyijäˈäwëp ti wit xox ets ti käˈäy ukën nyajtë...\n",
       "6                                   no llegará tarde                               tim tsojk jyäˈtäˈäny\n",
       "7  nuestras publicaciones la usan para enseñarnos...  mä ëxpëjkpajn dyajtunyë tyäˈädë ijxpajtën parë...\n",
       "8  por otro lado , los esposos las dominarían y e...  ets ko yëˈë anaˈamanëdëp , axtë nääk tsiigan k...\n",
       "9  además , puede que empecemos a ver las buenas ...  nan mbäädë net nˈijxëm ja oybyë jyaˈayˈäjtën d..."
      ]
     },
     "execution_count": 27,
     "metadata": {
      "tags": []
     },
     "output_type": "execute_result"
    }
   ],
   "source": [
    "df_pp.head(10)"
   ]
  },
  {
   "cell_type": "markdown",
   "metadata": {
    "id": "QhlrbDWQoe3p"
   },
   "source": [
    "# Extraer 1000 pares para el test"
   ]
  },
  {
   "cell_type": "code",
   "execution_count": null,
   "metadata": {
    "colab": {
     "base_uri": "https://localhost:8080/",
     "height": 424
    },
    "id": "e1zdQfJ3b7Z8",
    "outputId": "6a72dba5-66b9-42b2-896c-910eacde8af8"
   },
   "outputs": [
    {
     "data": {
      "text/html": [
       "<div>\n",
       "<style scoped>\n",
       "    .dataframe tbody tr th:only-of-type {\n",
       "        vertical-align: middle;\n",
       "    }\n",
       "\n",
       "    .dataframe tbody tr th {\n",
       "        vertical-align: top;\n",
       "    }\n",
       "\n",
       "    .dataframe thead th {\n",
       "        text-align: right;\n",
       "    }\n",
       "</style>\n",
       "<table border=\"1\" class=\"dataframe\">\n",
       "  <thead>\n",
       "    <tr style=\"text-align: right;\">\n",
       "      <th></th>\n",
       "      <th>es</th>\n",
       "      <th>mco</th>\n",
       "    </tr>\n",
       "  </thead>\n",
       "  <tbody>\n",
       "    <tr>\n",
       "      <th>0</th>\n",
       "      <td>si su esposo es humilde y modesto , no se sent...</td>\n",
       "      <td>duˈuntsoo dyaˈixëdët ko tsyejpyë nyëdoˈoxy ets...</td>\n",
       "    </tr>\n",
       "    <tr>\n",
       "      <th>1</th>\n",
       "      <td>siempre nos da justo lo que necesitamos para s...</td>\n",
       "      <td>pes xëmë xymyoˈoyëm diˈib meerë nyajtëgoyˈäjtë...</td>\n",
       "    </tr>\n",
       "    <tr>\n",
       "      <th>2</th>\n",
       "      <td>si es así , ¡ bien hecho !</td>\n",
       "      <td>¡ jantsy oy pën ojts duˈun mduny !</td>\n",
       "    </tr>\n",
       "    <tr>\n",
       "      <th>3</th>\n",
       "      <td>la expresión un solo jehová significa varias c...</td>\n",
       "      <td>ko jyënaˈany yëˈëyë tuˈugë jyobaa , kanäk pëky...</td>\n",
       "    </tr>\n",
       "    <tr>\n",
       "      <th>4</th>\n",
       "      <td>pero cuando luego recibió información más exac...</td>\n",
       "      <td>per ko tnijäˈäwë extëm tyëyˈäjtënëty , ta wyin...</td>\n",
       "    </tr>\n",
       "    <tr>\n",
       "      <th>...</th>\n",
       "      <td>...</td>\n",
       "      <td>...</td>\n",
       "    </tr>\n",
       "    <tr>\n",
       "      <th>995</th>\n",
       "      <td>todos los hermanos , hasta los que tienen muy ...</td>\n",
       "      <td>niˈamukë nmëguˈukˈäjtëm , axtë diˈib kyaj nëgo...</td>\n",
       "    </tr>\n",
       "    <tr>\n",
       "      <th>996</th>\n",
       "      <td>pongamos dos ejemplos supongamos que estamos l...</td>\n",
       "      <td>extëm nˈokpëjtakëm , ¿ ti mbäät nduˈunëm ko my...</td>\n",
       "    </tr>\n",
       "    <tr>\n",
       "      <th>997</th>\n",
       "      <td>¿ conoce usted a otros hermanos mayores que ha...</td>\n",
       "      <td>¿ miimp mä mwinmäˈäny tuˈugë nmëguˈukˈäjtëm di...</td>\n",
       "    </tr>\n",
       "    <tr>\n",
       "      <th>998</th>\n",
       "      <td>al ver que por todas partes había violencia y ...</td>\n",
       "      <td>noe mbäätxyëp tyuktëjkë moˈon tujkën ko tˈijxy...</td>\n",
       "    </tr>\n",
       "    <tr>\n",
       "      <th>999</th>\n",
       "      <td>¿ por qué puede desear alguien que esta notici...</td>\n",
       "      <td>¿ tidaa ko ttseky ets wyäˈkxëdë tyäˈädë maytya...</td>\n",
       "    </tr>\n",
       "  </tbody>\n",
       "</table>\n",
       "<p>1000 rows × 2 columns</p>\n",
       "</div>"
      ],
      "text/plain": [
       "                                                    es                                                mco\n",
       "0    si su esposo es humilde y modesto , no se sent...  duˈuntsoo dyaˈixëdët ko tsyejpyë nyëdoˈoxy ets...\n",
       "1    siempre nos da justo lo que necesitamos para s...  pes xëmë xymyoˈoyëm diˈib meerë nyajtëgoyˈäjtë...\n",
       "2                           si es así , ¡ bien hecho !                 ¡ jantsy oy pën ojts duˈun mduny !\n",
       "3    la expresión un solo jehová significa varias c...  ko jyënaˈany yëˈëyë tuˈugë jyobaa , kanäk pëky...\n",
       "4    pero cuando luego recibió información más exac...  per ko tnijäˈäwë extëm tyëyˈäjtënëty , ta wyin...\n",
       "..                                                 ...                                                ...\n",
       "995  todos los hermanos , hasta los que tienen muy ...  niˈamukë nmëguˈukˈäjtëm , axtë diˈib kyaj nëgo...\n",
       "996  pongamos dos ejemplos supongamos que estamos l...  extëm nˈokpëjtakëm , ¿ ti mbäät nduˈunëm ko my...\n",
       "997  ¿ conoce usted a otros hermanos mayores que ha...  ¿ miimp mä mwinmäˈäny tuˈugë nmëguˈukˈäjtëm di...\n",
       "998  al ver que por todas partes había violencia y ...  noe mbäätxyëp tyuktëjkë moˈon tujkën ko tˈijxy...\n",
       "999  ¿ por qué puede desear alguien que esta notici...  ¿ tidaa ko ttseky ets wyäˈkxëdë tyäˈädë maytya...\n",
       "\n",
       "[1000 rows x 2 columns]"
      ]
     },
     "execution_count": 28,
     "metadata": {
      "tags": []
     },
     "output_type": "execute_result"
    }
   ],
   "source": [
    "#Se escoge las primeras 912 frases para el corpus de test\n",
    "test = df_pp.iloc[0:1000]\n",
    "test = test.reset_index(drop=True)\n",
    "test"
   ]
  },
  {
   "cell_type": "code",
   "execution_count": null,
   "metadata": {
    "id": "kzf-9qmRb7d2"
   },
   "outputs": [],
   "source": [
    "#Se extrae test por columna\n",
    "es = test[\"es\"]\n",
    "mco = test[\"mco\"]\n",
    "\n",
    "es.to_csv('drive/My Drive/mixe-coatlan-es-mco/es-mco-baseline/test/test-random_es.txt', header=False, index=False, sep = \"\\t\")\n",
    "mco.to_csv('drive/My Drive/mixe-coatlan-es-mco/es-mco-baseline/test/test-random_mco.txt', header=False, index=False, sep = \"\\t\")\n"
   ]
  },
  {
   "cell_type": "code",
   "execution_count": null,
   "metadata": {
    "colab": {
     "base_uri": "https://localhost:8080/",
     "height": 424
    },
    "id": "s4Emv-_jb7hz",
    "outputId": "7ecabf8e-866d-4c57-c619-cfe0a9d7c9be"
   },
   "outputs": [
    {
     "data": {
      "text/html": [
       "<div>\n",
       "<style scoped>\n",
       "    .dataframe tbody tr th:only-of-type {\n",
       "        vertical-align: middle;\n",
       "    }\n",
       "\n",
       "    .dataframe tbody tr th {\n",
       "        vertical-align: top;\n",
       "    }\n",
       "\n",
       "    .dataframe thead th {\n",
       "        text-align: right;\n",
       "    }\n",
       "</style>\n",
       "<table border=\"1\" class=\"dataframe\">\n",
       "  <thead>\n",
       "    <tr style=\"text-align: right;\">\n",
       "      <th></th>\n",
       "      <th>es</th>\n",
       "      <th>mco</th>\n",
       "    </tr>\n",
       "  </thead>\n",
       "  <tbody>\n",
       "    <tr>\n",
       "      <th>0</th>\n",
       "      <td>sin duda , estos hermanos necesitan que siempr...</td>\n",
       "      <td>seguurë ko tyäˈädë nmëguˈukˈäjtëm yajtëgoyˈäjt...</td>\n",
       "    </tr>\n",
       "    <tr>\n",
       "      <th>1</th>\n",
       "      <td>toda escritura es inspirada de dios y provecho...</td>\n",
       "      <td>dios wyinmäˈänymyooy ja jyaˈayëty es tkëxjäˈäy...</td>\n",
       "    </tr>\n",
       "    <tr>\n",
       "      <th>2</th>\n",
       "      <td>el amor y unidad que se ve entre los testigos ...</td>\n",
       "      <td>pes diˈibë jesukristë xytyukˈanaˈamëm axtë jaw...</td>\n",
       "    </tr>\n",
       "    <tr>\n",
       "      <th>3</th>\n",
       "      <td>examinarlos con detalle nos permitirá conocer ...</td>\n",
       "      <td>ko nˈëxpëjkëm yajxon , ta niˈigyë nnijawëyäˈän...</td>\n",
       "    </tr>\n",
       "    <tr>\n",
       "      <th>4</th>\n",
       "      <td>o , lo que es lo mismo , impedirá que puedan h...</td>\n",
       "      <td>o diˈib yˈandijpy ko mbäät tpëjkë myëjää parë ...</td>\n",
       "    </tr>\n",
       "    <tr>\n",
       "      <th>...</th>\n",
       "      <td>...</td>\n",
       "      <td>...</td>\n",
       "    </tr>\n",
       "    <tr>\n",
       "      <th>66192</th>\n",
       "      <td>en el parís de la época de langton , vivían es...</td>\n",
       "      <td>ja tiempë mä jyukyˈajtyë langton jap paris , t...</td>\n",
       "    </tr>\n",
       "    <tr>\n",
       "      <th>66193</th>\n",
       "      <td>¿ qué hará si pierde el trabajo ?</td>\n",
       "      <td>¿ ti tyunëp ko ja tyuunk yajpëjkët ?</td>\n",
       "    </tr>\n",
       "    <tr>\n",
       "      <th>66194</th>\n",
       "      <td>jehová les dio su espíritu santo a los primero...</td>\n",
       "      <td>jyobaa myëjämooy pënaty pyanëjkxtë kristë mä p...</td>\n",
       "    </tr>\n",
       "    <tr>\n",
       "      <th>66195</th>\n",
       "      <td>algo que nos ayudará a comprender los retos im...</td>\n",
       "      <td>tsiptakp nyajtuˈukmujkëmë jäˈäy diˈib wiˈixëmë...</td>\n",
       "    </tr>\n",
       "    <tr>\n",
       "      <th>66196</th>\n",
       "      <td>él nos dice en su palabra lo que se busca en l...</td>\n",
       "      <td>tukˈoybyëtsëm tijaty dios windum ,</td>\n",
       "    </tr>\n",
       "  </tbody>\n",
       "</table>\n",
       "<p>66197 rows × 2 columns</p>\n",
       "</div>"
      ],
      "text/plain": [
       "                                                      es                                                mco\n",
       "0      sin duda , estos hermanos necesitan que siempr...  seguurë ko tyäˈädë nmëguˈukˈäjtëm yajtëgoyˈäjt...\n",
       "1      toda escritura es inspirada de dios y provecho...  dios wyinmäˈänymyooy ja jyaˈayëty es tkëxjäˈäy...\n",
       "2      el amor y unidad que se ve entre los testigos ...  pes diˈibë jesukristë xytyukˈanaˈamëm axtë jaw...\n",
       "3      examinarlos con detalle nos permitirá conocer ...  ko nˈëxpëjkëm yajxon , ta niˈigyë nnijawëyäˈän...\n",
       "4      o , lo que es lo mismo , impedirá que puedan h...  o diˈib yˈandijpy ko mbäät tpëjkë myëjää parë ...\n",
       "...                                                  ...                                                ...\n",
       "66192  en el parís de la época de langton , vivían es...  ja tiempë mä jyukyˈajtyë langton jap paris , t...\n",
       "66193                  ¿ qué hará si pierde el trabajo ?               ¿ ti tyunëp ko ja tyuunk yajpëjkët ?\n",
       "66194  jehová les dio su espíritu santo a los primero...  jyobaa myëjämooy pënaty pyanëjkxtë kristë mä p...\n",
       "66195  algo que nos ayudará a comprender los retos im...  tsiptakp nyajtuˈukmujkëmë jäˈäy diˈib wiˈixëmë...\n",
       "66196  él nos dice en su palabra lo que se busca en l...                 tukˈoybyëtsëm tijaty dios windum ,\n",
       "\n",
       "[66197 rows x 2 columns]"
      ]
     },
     "execution_count": 30,
     "metadata": {
      "tags": []
     },
     "output_type": "execute_result"
    }
   ],
   "source": [
    "#Se eliminan las 1000 filas bitext de donde fueron extraídas las frases para test\n",
    "df_pp = df_pp.drop(range(0,1000),axis = 0)\n",
    "df_pp = df_pp.reset_index(drop=True)\n",
    "\n",
    "df_pp"
   ]
  },
  {
   "cell_type": "code",
   "execution_count": null,
   "metadata": {
    "id": "CDaZRBn5b7mI"
   },
   "outputs": [],
   "source": [
    "#Se extrae columnas para el corpus dev-train\n",
    "train_dev_es = df_pp[\"es\"]\n",
    "train_dev_mco = df_pp[\"mco\"]\n",
    "\n",
    "train_dev_es.to_csv('drive/My Drive/mixe-coatlan-es-mco/es-mco-baseline/train-dev-random_es.txt', header=False, index=False, sep = \"\\t\")\n",
    "train_dev_mco.to_csv('drive/My Drive/mixe-coatlan-es-mco/es-mco-baseline/train-dev-random_mco.txt', header=False, index=False, sep = \"\\t\")"
   ]
  },
  {
   "cell_type": "code",
   "execution_count": null,
   "metadata": {
    "id": "E1GhX1peoQSj"
   },
   "outputs": [],
   "source": []
  },
  {
   "cell_type": "code",
   "execution_count": null,
   "metadata": {
    "id": "7QEJz5JKoQg6"
   },
   "outputs": [],
   "source": [
    "### Filtra para obtener train y dev"
   ]
  },
  {
   "cell_type": "code",
   "execution_count": null,
   "metadata": {
    "colab": {
     "base_uri": "https://localhost:8080/"
    },
    "id": "TXNtmLmA-mev",
    "outputId": "9d4db6fa-e2a3-4cf6-dd23-571d6ad989af"
   },
   "outputs": [
    {
     "name": "stdout",
     "output_type": "stream",
     "text": [
      "Loaded 1000 global test sentences to filter from the training/dev data.\n"
     ]
    }
   ],
   "source": [
    "# lee los datos de train para hacer un filtro de posibles repeticiones dentro del corpus de train y dev\n",
    "en_test_sents = set()\n",
    "filter_test_sents = \"drive/My Drive/mixe-coatlan-es-mco/es-mco-baseline/test/test-random_es.txt\"\n",
    "j = 0\n",
    "with open(filter_test_sents) as f:\n",
    "  for line in f:\n",
    "    en_test_sents.add(line.strip())\n",
    "    j += 1\n",
    "print('Loaded {} global test sentences to filter from the training/dev data.'.format(j))\n",
    "#en_test_sents"
   ]
  },
  {
   "cell_type": "code",
   "execution_count": 1,
   "metadata": {
    "colab": {
     "base_uri": "https://localhost:8080/"
    },
    "id": "f8bR2G7n-_fi",
    "outputId": "ec7ac354-69a9-4258-f9e9-c1ac3db6ee92"
   },
   "outputs": [],
   "source": [
    "print(en_test_sents)"
   ]
  },
  {
   "cell_type": "code",
   "execution_count": null,
   "metadata": {
    "colab": {
     "base_uri": "https://localhost:8080/"
    },
    "id": "DXShwVYVu3Ze",
    "outputId": "5792f7b2-227d-4a57-ac0a-7a28ff31ca02"
   },
   "outputs": [
    {
     "data": {
      "text/plain": [
       "1000"
      ]
     },
     "execution_count": 50,
     "metadata": {
      "tags": []
     },
     "output_type": "execute_result"
    }
   ],
   "source": [
    "len(en_test_sents)"
   ]
  },
  {
   "cell_type": "code",
   "execution_count": null,
   "metadata": {
    "colab": {
     "base_uri": "https://localhost:8080/",
     "height": 162
    },
    "id": "HIaLI_rZ-tXf",
    "outputId": "aeed51c6-78ed-456c-bbf8-cc5183be9a3b"
   },
   "outputs": [
    {
     "name": "stdout",
     "output_type": "stream",
     "text": [
      "Loaded data and skipped 0/66196 lines since contained in test set.\n"
     ]
    },
    {
     "data": {
      "text/html": [
       "<div>\n",
       "<style scoped>\n",
       "    .dataframe tbody tr th:only-of-type {\n",
       "        vertical-align: middle;\n",
       "    }\n",
       "\n",
       "    .dataframe tbody tr th {\n",
       "        vertical-align: top;\n",
       "    }\n",
       "\n",
       "    .dataframe thead th {\n",
       "        text-align: right;\n",
       "    }\n",
       "</style>\n",
       "<table border=\"1\" class=\"dataframe\">\n",
       "  <thead>\n",
       "    <tr style=\"text-align: right;\">\n",
       "      <th></th>\n",
       "      <th>source_sentence</th>\n",
       "      <th>target_sentence</th>\n",
       "    </tr>\n",
       "  </thead>\n",
       "  <tbody>\n",
       "    <tr>\n",
       "      <th>0</th>\n",
       "      <td>sin duda , estos hermanos necesitan que siempr...</td>\n",
       "      <td>seguurë ko tyäˈädë nmëguˈukˈäjtëm yajtëgoyˈäjt...</td>\n",
       "    </tr>\n",
       "    <tr>\n",
       "      <th>1</th>\n",
       "      <td>toda escritura es inspirada de dios y provecho...</td>\n",
       "      <td>dios wyinmäˈänymyooy ja jyaˈayëty es tkëxjäˈäy...</td>\n",
       "    </tr>\n",
       "    <tr>\n",
       "      <th>2</th>\n",
       "      <td>el amor y unidad que se ve entre los testigos ...</td>\n",
       "      <td>pes diˈibë jesukristë xytyukˈanaˈamëm axtë jaw...</td>\n",
       "    </tr>\n",
       "  </tbody>\n",
       "</table>\n",
       "</div>"
      ],
      "text/plain": [
       "                                     source_sentence                                    target_sentence\n",
       "0  sin duda , estos hermanos necesitan que siempr...  seguurë ko tyäˈädë nmëguˈukˈäjtëm yajtëgoyˈäjt...\n",
       "1  toda escritura es inspirada de dios y provecho...  dios wyinmäˈänymyooy ja jyaˈayëty es tkëxjäˈäy...\n",
       "2  el amor y unidad que se ve entre los testigos ...  pes diˈibë jesukristë xytyukˈanaˈamëm axtë jaw..."
      ]
     },
     "execution_count": 51,
     "metadata": {
      "tags": []
     },
     "output_type": "execute_result"
    }
   ],
   "source": [
    "import pandas as pd\n",
    "\n",
    "source_file = \"drive/My Drive/mixe-coatlan-es-mco/es-mco-baseline/train-dev-random_es.txt\"\n",
    "target_file = \"drive/My Drive/mixe-coatlan-es-mco/es-mco-baseline/train-dev-random_mco.txt\"\n",
    "\n",
    "source = []\n",
    "target = []\n",
    "# Recopila los números de línea de la parte de origen para omitir las mismas líneas de la parte de destino. \n",
    "skip_lines = []  \n",
    "with open(source_file) as f:\n",
    "    for i, line in enumerate(f):\n",
    "        # Salta la frase que está en el test\n",
    "        if line.strip() not in en_test_sents:\n",
    "            source.append(line.strip())\n",
    "        else:\n",
    "            skip_lines.append(i)             \n",
    "with open(target_file) as f:\n",
    "    for j, line in enumerate(f):\n",
    "        # agrega al corpus solo si no se omitió la fuente correspondiente\n",
    "        if j not in skip_lines:\n",
    "            target.append(line.strip())\n",
    "\n",
    "print('Loaded data and skipped {}/{} lines since contained in test set.'.format(len(skip_lines), i))\n",
    "    \n",
    "df = pd.DataFrame(zip(source, target), columns=['source_sentence', 'target_sentence'])\n",
    "df.head(3)"
   ]
  },
  {
   "cell_type": "code",
   "execution_count": null,
   "metadata": {
    "colab": {
     "base_uri": "https://localhost:8080/",
     "height": 144
    },
    "id": "ts400FWo9hRb",
    "outputId": "69d551cd-2e6c-4db8-84a8-32ef21362be5"
   },
   "outputs": [
    {
     "data": {
      "text/html": [
       "<div>\n",
       "<style scoped>\n",
       "    .dataframe tbody tr th:only-of-type {\n",
       "        vertical-align: middle;\n",
       "    }\n",
       "\n",
       "    .dataframe tbody tr th {\n",
       "        vertical-align: top;\n",
       "    }\n",
       "\n",
       "    .dataframe thead th {\n",
       "        text-align: right;\n",
       "    }\n",
       "</style>\n",
       "<table border=\"1\" class=\"dataframe\">\n",
       "  <thead>\n",
       "    <tr style=\"text-align: right;\">\n",
       "      <th></th>\n",
       "      <th>source_sentence</th>\n",
       "      <th>target_sentence</th>\n",
       "    </tr>\n",
       "  </thead>\n",
       "  <tbody>\n",
       "    <tr>\n",
       "      <th>66194</th>\n",
       "      <td>jehová les dio su espíritu santo a los primero...</td>\n",
       "      <td>jyobaa myëjämooy pënaty pyanëjkxtë kristë mä p...</td>\n",
       "    </tr>\n",
       "    <tr>\n",
       "      <th>66195</th>\n",
       "      <td>algo que nos ayudará a comprender los retos im...</td>\n",
       "      <td>tsiptakp nyajtuˈukmujkëmë jäˈäy diˈib wiˈixëmë...</td>\n",
       "    </tr>\n",
       "    <tr>\n",
       "      <th>66196</th>\n",
       "      <td>él nos dice en su palabra lo que se busca en l...</td>\n",
       "      <td>tukˈoybyëtsëm tijaty dios windum ,</td>\n",
       "    </tr>\n",
       "  </tbody>\n",
       "</table>\n",
       "</div>"
      ],
      "text/plain": [
       "                                         source_sentence                                    target_sentence\n",
       "66194  jehová les dio su espíritu santo a los primero...  jyobaa myëjämooy pënaty pyanëjkxtë kristë mä p...\n",
       "66195  algo que nos ayudará a comprender los retos im...  tsiptakp nyajtuˈukmujkëmë jäˈäy diˈib wiˈixëmë...\n",
       "66196  él nos dice en su palabra lo que se busca en l...                 tukˈoybyëtsëm tijaty dios windum ,"
      ]
     },
     "execution_count": 52,
     "metadata": {
      "tags": []
     },
     "output_type": "execute_result"
    }
   ],
   "source": [
    "df.tail(3)"
   ]
  },
  {
   "cell_type": "code",
   "execution_count": null,
   "metadata": {
    "id": "0jXZylAf_CwO"
   },
   "outputs": [],
   "source": [
    "df_pp = df.drop_duplicates()\n",
    "\n",
    "df_pp.drop_duplicates(subset='source_sentence', inplace=True)\n",
    "df_pp.drop_duplicates(subset='target_sentence', inplace=True)\n",
    "\n",
    "df_pp = df_pp.sample(frac=1, random_state=seed).reset_index(drop=True)"
   ]
  },
  {
   "cell_type": "code",
   "execution_count": null,
   "metadata": {
    "colab": {
     "base_uri": "https://localhost:8080/",
     "height": 130
    },
    "id": "B20ozbkC_FkK",
    "outputId": "2e2eab29-ff17-496b-909b-d79875f49b0b"
   },
   "outputs": [
    {
     "name": "stdout",
     "output_type": "stream",
     "text": [
      "66197\n"
     ]
    },
    {
     "data": {
      "text/html": [
       "<div>\n",
       "<style scoped>\n",
       "    .dataframe tbody tr th:only-of-type {\n",
       "        vertical-align: middle;\n",
       "    }\n",
       "\n",
       "    .dataframe tbody tr th {\n",
       "        vertical-align: top;\n",
       "    }\n",
       "\n",
       "    .dataframe thead th {\n",
       "        text-align: right;\n",
       "    }\n",
       "</style>\n",
       "<table border=\"1\" class=\"dataframe\">\n",
       "  <thead>\n",
       "    <tr style=\"text-align: right;\">\n",
       "      <th></th>\n",
       "      <th>source_sentence</th>\n",
       "      <th>target_sentence</th>\n",
       "    </tr>\n",
       "  </thead>\n",
       "  <tbody>\n",
       "    <tr>\n",
       "      <th>0</th>\n",
       "      <td>así es , tenemos una lucha contra los gobernan...</td>\n",
       "      <td>ets mët ko yëˈë nmëtsipˈäjtëm nidëgekyëtyë mëj...</td>\n",
       "    </tr>\n",
       "    <tr>\n",
       "      <th>1</th>\n",
       "      <td>no nos sentimos atados o cargados al hacer est...</td>\n",
       "      <td>kyaj nmëkjäˈäwëm ko duˈun nduˈunëm , niˈigyë n...</td>\n",
       "    </tr>\n",
       "  </tbody>\n",
       "</table>\n",
       "</div>"
      ],
      "text/plain": [
       "                                     source_sentence                                    target_sentence\n",
       "0  así es , tenemos una lucha contra los gobernan...  ets mët ko yëˈë nmëtsipˈäjtëm nidëgekyëtyë mëj...\n",
       "1  no nos sentimos atados o cargados al hacer est...  kyaj nmëkjäˈäwëm ko duˈun nduˈunëm , niˈigyë n..."
      ]
     },
     "execution_count": 54,
     "metadata": {
      "tags": []
     },
     "output_type": "execute_result"
    }
   ],
   "source": [
    "print(len(df_pp))\n",
    "df_pp.head(2)"
   ]
  },
  {
   "cell_type": "code",
   "execution_count": null,
   "metadata": {
    "colab": {
     "base_uri": "https://localhost:8080/"
    },
    "id": "jBAVmAA2AtNX",
    "outputId": "77387cd2-4ffc-42ac-d3df-03eb1250fda4"
   },
   "outputs": [
    {
     "name": "stdout",
     "output_type": "stream",
     "text": [
      "Requirement already satisfied: fuzzywuzzy in /usr/local/lib/python3.7/dist-packages (0.18.0)\n",
      "Requirement already satisfied: python-Levenshtein in /usr/local/lib/python3.7/dist-packages (0.12.2)\n",
      "Requirement already satisfied: setuptools in /usr/local/lib/python3.7/dist-packages (from python-Levenshtein) (54.1.2)\n",
      "00:00:00.04 0.00 percent complete\n",
      "00:00:16.04 1.51 percent complete\n",
      "00:00:31.05 3.02 percent complete\n",
      "00:00:46.16 4.53 percent complete\n",
      "00:01:01.14 6.04 percent complete\n",
      "00:01:16.01 7.55 percent complete\n",
      "00:01:31.00 9.06 percent complete\n",
      "00:01:46.00 10.57 percent complete\n",
      "00:02:01.00 12.09 percent complete\n",
      "00:02:15.85 13.60 percent complete\n",
      "00:02:30.99 15.11 percent complete\n",
      "00:02:45.95 16.62 percent complete\n",
      "00:03:00.65 18.13 percent complete\n",
      "00:03:15.99 19.64 percent complete\n",
      "00:03:30.77 21.15 percent complete\n",
      "00:03:45.49 22.66 percent complete\n",
      "00:04:00.62 24.17 percent complete\n",
      "00:04:15.29 25.68 percent complete\n",
      "00:04:30.52 27.19 percent complete\n",
      "00:04:45.50 28.70 percent complete\n",
      "00:05:00.38 30.21 percent complete\n"
     ]
    },
    {
     "name": "stderr",
     "output_type": "stream",
     "text": [
      "WARNING:root:Applied processor reduces input query to empty string, all comparisons will have score 0. [Query: '*']\n"
     ]
    },
    {
     "name": "stdout",
     "output_type": "stream",
     "text": [
      "00:05:15.30 31.72 percent complete\n",
      "00:05:30.70 33.23 percent complete\n",
      "00:05:45.70 34.74 percent complete\n"
     ]
    },
    {
     "name": "stderr",
     "output_type": "stream",
     "text": [
      "WARNING:root:Applied processor reduces input query to empty string, all comparisons will have score 0. [Query: ',']\n"
     ]
    },
    {
     "name": "stdout",
     "output_type": "stream",
     "text": [
      "00:06:01.09 36.26 percent complete\n"
     ]
    },
    {
     "name": "stderr",
     "output_type": "stream",
     "text": [
      "WARNING:root:Applied processor reduces input query to empty string, all comparisons will have score 0. [Query: '/']\n"
     ]
    },
    {
     "name": "stdout",
     "output_type": "stream",
     "text": [
      "00:06:16.16 37.77 percent complete\n",
      "00:06:31.23 39.28 percent complete\n",
      "00:06:45.97 40.79 percent complete\n",
      "00:07:00.93 42.30 percent complete\n",
      "00:07:16.07 43.81 percent complete\n",
      "00:07:31.03 45.32 percent complete\n",
      "00:07:45.99 46.83 percent complete\n",
      "00:08:01.11 48.34 percent complete\n",
      "00:08:16.25 49.85 percent complete\n",
      "00:08:31.15 51.36 percent complete\n",
      "00:08:46.24 52.87 percent complete\n",
      "00:09:01.27 54.38 percent complete\n",
      "00:09:16.21 55.89 percent complete\n",
      "00:09:31.43 57.40 percent complete\n",
      "00:09:46.40 58.92 percent complete\n",
      "00:10:01.33 60.43 percent complete\n",
      "00:10:16.16 61.94 percent complete\n",
      "00:10:31.34 63.45 percent complete\n",
      "00:10:46.50 64.96 percent complete\n",
      "00:11:01.53 66.47 percent complete\n",
      "00:11:16.31 67.98 percent complete\n",
      "00:11:31.46 69.49 percent complete\n",
      "00:11:46.92 71.00 percent complete\n",
      "00:12:02.27 72.51 percent complete\n",
      "00:12:17.64 74.02 percent complete\n",
      "00:12:32.82 75.53 percent complete\n",
      "00:12:47.81 77.04 percent complete\n",
      "00:13:02.59 78.55 percent complete\n",
      "00:13:17.54 80.06 percent complete\n",
      "00:13:32.44 81.57 percent complete\n",
      "00:13:47.45 83.09 percent complete\n",
      "00:14:02.34 84.60 percent complete\n"
     ]
    },
    {
     "name": "stderr",
     "output_type": "stream",
     "text": [
      "WARNING:root:Applied processor reduces input query to empty string, all comparisons will have score 0. [Query: ', /']\n"
     ]
    },
    {
     "name": "stdout",
     "output_type": "stream",
     "text": [
      "00:14:17.55 86.11 percent complete\n",
      "00:14:33.21 87.62 percent complete\n",
      "00:14:48.74 89.13 percent complete\n",
      "00:15:04.48 90.64 percent complete\n",
      "00:15:19.94 92.15 percent complete\n",
      "00:15:35.32 93.66 percent complete\n"
     ]
    },
    {
     "name": "stderr",
     "output_type": "stream",
     "text": [
      "WARNING:root:Applied processor reduces input query to empty string, all comparisons will have score 0. [Query: '\"\"']\n"
     ]
    },
    {
     "name": "stdout",
     "output_type": "stream",
     "text": [
      "00:15:51.56 95.17 percent complete\n",
      "00:16:06.86 96.68 percent complete\n",
      "00:16:22.39 98.19 percent complete\n",
      "00:16:38.14 99.70 percent complete\n"
     ]
    }
   ],
   "source": [
    "# Instala fuzzy wuzzy para eliminar oraciones \"casi duplicadas\" en los conjuntos de dev y train\n",
    "\n",
    "! pip install fuzzywuzzy\n",
    "! pip install python-Levenshtein\n",
    "import time\n",
    "from fuzzywuzzy import process\n",
    "import numpy as np\n",
    "\n",
    "# restablece el índice del conjunto de entrenamiento después del filtrado anterior \n",
    "df_pp.reset_index(drop=False, inplace=True)\n",
    "\n",
    "# Elimina muestras del conjunto de datos de entrenamiento si \"casi se superponen\" con conjunto\n",
    "# de datos de prueba. \n",
    "\n",
    "\n",
    "# Función de filtrado. Ajuste el PAD para reducir las coincidencias candidatas a\n",
    "# una cierta longitud de caracteres de la muestra dada. \n",
    "def fuzzfilter(sample, candidates, pad):\n",
    "  candidates = [x for x in candidates if len(x) <= len(sample)+pad and len(x) >= len(sample)-pad] \n",
    "  if len(candidates) > 0:\n",
    "    return process.extractOne(sample, candidates)[1]\n",
    "  else:\n",
    "    return np.nan\n",
    "\n",
    "#NOTA: esto puede ser lento dependiendo del tamaño del conjunto de entrenamiento. \n",
    "scores = []\n",
    "start_time = time.time()\n",
    "for idx, row in df_pp.iterrows():\n",
    "  scores.append(fuzzfilter(row['source_sentence'], list(en_test_sents), 10))\n",
    "  if idx % 1000 == 0:\n",
    "    hours, rem = divmod(time.time() - start_time, 3600)\n",
    "    minutes, seconds = divmod(rem, 60)\n",
    "    print(\"{:0>2}:{:0>2}:{:05.2f}\".format(int(hours),int(minutes),seconds), \"%0.2f percent complete\" % (100.0*float(idx)/float(len(df_pp))))\n",
    "\n",
    "# filtra muestras casi superpuestas\n",
    "df_pp['scores'] = scores\n",
    "df_pp = df_pp[df_pp['scores'] < 95]"
   ]
  },
  {
   "cell_type": "code",
   "execution_count": null,
   "metadata": {
    "colab": {
     "base_uri": "https://localhost:8080/"
    },
    "id": "WeFas-iCNcU8",
    "outputId": "7b046fc7-0da1-4b99-e19e-de042783c0ac"
   },
   "outputs": [
    {
     "name": "stdout",
     "output_type": "stream",
     "text": [
      "66071\n"
     ]
    }
   ],
   "source": [
    "print(len(df_pp))"
   ]
  },
  {
   "cell_type": "code",
   "execution_count": null,
   "metadata": {
    "id": "KUeBecv_Ndbd"
   },
   "outputs": [],
   "source": []
  },
  {
   "cell_type": "markdown",
   "metadata": {
    "id": "MtUKIzfx1mzX"
   },
   "source": [
    "# Para extraer el corpus DEV"
   ]
  },
  {
   "cell_type": "code",
   "execution_count": null,
   "metadata": {
    "colab": {
     "base_uri": "https://localhost:8080/"
    },
    "id": "lvTHcyCpIk69",
    "outputId": "7e0c3d53-a79f-41bd-ffed-52d1821b0503"
   },
   "outputs": [
    {
     "name": "stdout",
     "output_type": "stream",
     "text": [
      "==> train.es <==\n",
      "así es , tenemos una lucha contra los gobernantes mundiales de esta oscuridad , contra las fuerzas espirituales inicuas en los lugares celestiales\n",
      "no nos sentimos atados o cargados al hacer estas cosas al contrario , disfrutamos con ellas , y seguro que adán y eva también\n",
      "deberíamos ayudarlo con paciencia a tener más fe en jehová y a confiar en los hermanos\n",
      "jehová escuchó la oración de elías y le devolvió el alma , es decir , la vida lea reyes\n",
      "amamos a jehová por darnos esta gran oportunidad de apoyar su reino y de llevar un mensaje de consuelo a todos los que sufren en este mundo\n",
      "¿ por qué podemos afirmar que jehová considera importante nuestra elección de un cónyuge ?\n",
      "al poco tiempo , ya podía mantenerse y era precursor regular\n",
      "por supuesto , a satanás le encantaría que usted o su familia se alejaran de jehová\n",
      "¿ ha notado que sus obligaciones aumentan de día en día y le consumen más tiempo ?\n",
      "ellos cantaron por haberse ofrecido voluntariamente el pueblo , bendigan a jehová\n",
      "\n",
      "==> train.mco <==\n",
      "ets mët ko yëˈë nmëtsipˈäjtëm nidëgekyëtyë mëjkuˈu esë kaˈoybyë diˈibë anaˈamdëp es yajkutujktëp kubiˈits kuˈook yä naxwiiny es pënëty jam tsäjpotm diˈibë kyaj tmëmëdowdë dios efe\n",
      "kyaj nmëkjäˈäwëm ko duˈun nduˈunëm , niˈigyë ndukxondakëm , ets seguurë ko adan mëdë eva nan tyukxondaktë\n",
      "niˈigyë mbäät nbudëjkëm maˈkxtujkën myëët parë kyëktëkët ja myëbëjkën mä jyobaa ets mä myëguˈuktëjk juudʉs ,\n",
      "ta jyobaa tmëdooy ko elias nyuˈkxtaky ets ta ja mixyuˈunk jyukypyejky käjpxë reyes\n",
      "ntsojkëmë jyobaa mët ko tnasˈixë nˈëwäˈkx ngäjpxwäˈkxëm ti tyunaambyë kyutujkën ets njotkujkmoˈoyëm pënaty ayoodëp\n",
      "¿ ti xytyukˈijxëm ko dios jëjpˈam tˈixy pën pyëkaampy ja dios mëduumbë ?\n",
      "ko waanë tiempë nyajxy , këˈëmë nety tpatnë myeeny syentääbë ets tyuny prekursoor regulaar\n",
      "satanas xytyukmëjagamgaˈagäˈänëmë jyobaa , yëˈë jotkujk nyayjawëyaˈanyëty ko mijts mëdë mfamilyë xymyastuˈudët\n",
      "¿ mjäˈäwëp ko niˈigyë kyajaajë tijaty mnikëjxmˈäjtypy ets ko niˈigyë tiempë mbëjkxëty ?\n",
      "duˈun yˈëëwdë mët ko tsojkëngyëjxm të nyayˈawanëdë ja jyaˈayëty ¡ mëjkumaytyë jyobaa !\n",
      "==> dev.es <==\n",
      "b ¿ qué grave error podríamos cometer ?\n",
      "en ese caso , lo mejor era conseguir la libertad hoy día , en muchos países es obligatorio estudiar hasta cierta edad\n",
      "así que mateo da más detalles sobre lo que pensó e hizo josé , mientras que lucas se centra en lo que pensó e hizo maría\n",
      "eduardo volvió con su familia , pero sabía que para sacarla adelante , tendría que controlar los gastos\n",
      "● mientras los hijos son pequeños , los padres deben transmitirles sus creencias religiosas pero cuando crecen , tienen que animarlos a investigarlas por su cuenta\n",
      "daniel mantuvo fuerte su amistad con jehová a pesar de vivir en un país extranjero\n",
      "la biblia también revela que detrás de esos actos malévolos hay un poderoso gobernante que está tratando de ocultar su identidad\n",
      "así que en tuve que dejar de ser precursora\n",
      "seguro que nos sentimos como los seres espirituales que cantan y dicen el cordero que fue degollado es digno de recibir el poder y riquezas y sabiduría y fuerza y honra y gloria y bendición\n",
      "al principio la usamos para imprimir publicaciones para las reuniones\n",
      "\n",
      "==> dev.mco <==\n",
      "¿ wiˈix näˈätyë jot winmäˈäny myiny diˈib kyaj yˈoyëty ?\n",
      "ko ijty duˈun yajtëytyundë , diˈib mas oy , yëˈë ko yˈawäˈätspëtsëmdët\n",
      "extëm nˈijxëm , mateo yëˈë niˈigyë nyimaytyak wiˈix wyinmääyë jose ets tijaty tyuun , etsë lucas yëˈë nyimaytyak wiˈix wyinmääyë maria ets tijaty tyuun\n",
      "ko eduardo jyëmbijty mä fyamilyë , nyijäˈäwëbë nety ko tsojkëp yajxon ttukniwitsët wiˈix ja myeeny syentääbë dyajtunäˈäny parë dyajnaxtëdë jyukyˈäjtën\n",
      "● mientrës ja uˈunk ënäˈk mutsknëm , tsojkëp ja tääk teety ttukniˈˈixëdët tijaty myëbëjktëp , per ko nety të yaˈknëdë , ta tˈanëëmëdët parë këˈëm tˈixtët pën tëyˈäjtën\n",
      "daniel ninäˈä tkamëjagamgekyë jyobaa oyë nety yajpääty wiink it wiink naxwinyëdë\n",
      "nan nyigajpxypy ko päätyë jäˈäy axëëk yˈadëˈëtstë , mët ko jyaajëty tuˈugë anaˈambë diˈib kumëjää diˈib kyaj nyayajnigëxëˈëgyëty fwank korintʉ\n",
      "jotmaymyëëdëts njënäˈäny ko desde kyajts nˈoktuunë prekursoora , mët ko niˈigyëtsë njëxk myëjtaknë\n",
      "ëtsäjtëm , nanduˈun njënäˈänëm extëm ja anklësëty diˈib kuyˈëëw kuyyaxëdëp ets jyënäˈändë yëˈë borreeguˈunk diˈibë të nyejxy wintsëˈkën , patëp winë xëë winë tiempë tˈaxäjët ja kutujkën , mëjˈäjtën , wijyˈäjtën , mëkˈäjtën , wintsëˈkën , oyˈäjtën esë awdäjtën diˈibʉ jatanʉp\n",
      "yëˈëts ogäˈän nyajtuuntsondaktë parëts nyajpëtsëëmdë ëxpëjkpajn diˈib yaˈëxpëkäämp mä reunyonk\n"
     ]
    }
   ],
   "source": [
    "# Esta sección hace la división entre train / dev para los corpus paralelos y luego los guarda como archivos \n",
    "#separados. Usamos 1000 dev test y el conjunto de pruebas dado. \n",
    "\n",
    "import csv\n",
    "\n",
    "#1000 alineaciones para el contjunto dev\n",
    "num_dev_patterns = 1000\n",
    "\n",
    "\n",
    "# Opcional: corpus minuscula. Esto facilitará la generalización, pero sin el uso de mayúsculas.\n",
    "if lc:  # Julia: hace que las minusculas sean opcionales\n",
    "    df_pp[\"source_sentence\"] = df_pp[\"source_sentence\"].str.lower()\n",
    "    df_pp[\"target_sentence\"] = df_pp[\"target_sentence\"].str.lower()\n",
    "\n",
    "# Julia: conjuntos de prueba ya generados\n",
    "dev = df_pp.tail(num_dev_patterns) # Herman: Error in original\n",
    "stripped = df_pp.drop(df_pp.tail(num_dev_patterns).index)\n",
    "\n",
    "#crea los archivos train.en y train.mco\n",
    "with open(\"train.\"+source_language, \"w\") as src_file, open(\"train.\"+target_language, \"w\") as trg_file:\n",
    "  for index, row in stripped.iterrows():\n",
    "    src_file.write(row[\"source_sentence\"]+\"\\n\")\n",
    "    trg_file.write(row[\"target_sentence\"]+\"\\n\")\n",
    "\n",
    "#crea los archivos dev.en y dev.mco    \n",
    "with open(\"dev.\"+source_language, \"w\") as src_file, open(\"dev.\"+target_language, \"w\") as trg_file:\n",
    "  for index, row in dev.iterrows():\n",
    "    src_file.write(row[\"source_sentence\"]+\"\\n\")\n",
    "    trg_file.write(row[\"target_sentence\"]+\"\\n\")\n",
    "\n",
    "\n",
    "# Verifique dos veces el formato a continuación. No debe haber comillas adicionales ni caracteres extraños. \n",
    "! head train.*\n",
    "! head dev.*"
   ]
  },
  {
   "cell_type": "code",
   "execution_count": null,
   "metadata": {
    "colab": {
     "base_uri": "https://localhost:8080/"
    },
    "id": "xxNIzKGbToV0",
    "outputId": "f01fe632-ccc1-436e-d59b-d9a516ebca32"
   },
   "outputs": [
    {
     "name": "stdout",
     "output_type": "stream",
     "text": [
      "dev.es   jw300.es                     JW300_latest_xml_mco.zip  train.es\n",
      "dev.mco  JW300_latest_xml_es-mco.xml  jw300.mco                 train.mco\n",
      "\u001b[0m\u001b[01;34mdrive\u001b[0m/   JW300_latest_xml_es.zip      \u001b[01;34msample_data\u001b[0m/\n"
     ]
    }
   ],
   "source": [
    "ls"
   ]
  },
  {
   "cell_type": "code",
   "execution_count": null,
   "metadata": {
    "id": "X_XR3yscZrYz"
   },
   "outputs": [],
   "source": [
    "! cp dev.es /content/drive/MyDrive/mixe-coatlan-es-mco/es-mco-baseline/\n",
    "! cp dev.mco /content/drive/MyDrive/mixe-coatlan-es-mco/es-mco-baseline/\n",
    "! cp train.es /content/drive/MyDrive/mixe-coatlan-es-mco/es-mco-baseline/\n",
    "! cp train.mco /content/drive/MyDrive/mixe-coatlan-es-mco/es-mco-baseline/"
   ]
  },
  {
   "cell_type": "code",
   "execution_count": null,
   "metadata": {
    "id": "McRmz8kHZrnm"
   },
   "outputs": [],
   "source": []
  }
 ],
 "metadata": {
  "colab": {
   "collapsed_sections": [],
   "name": "Preparar_datos_MCO-ES para INAOE tesis.ipynb",
   "provenance": []
  },
  "kernelspec": {
   "display_name": "Python 3",
   "language": "python",
   "name": "python3"
  },
  "language_info": {
   "codemirror_mode": {
    "name": "ipython",
    "version": 3
   },
   "file_extension": ".py",
   "mimetype": "text/x-python",
   "name": "python",
   "nbconvert_exporter": "python",
   "pygments_lexer": "ipython3",
   "version": "3.7.6"
  }
 },
 "nbformat": 4,
 "nbformat_minor": 1
}
