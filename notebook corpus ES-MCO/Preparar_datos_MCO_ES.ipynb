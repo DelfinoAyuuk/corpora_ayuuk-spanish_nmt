{
 "cells": [
  {
   "cell_type": "code",
   "execution_count": null,
   "metadata": {
    "colab": {
     "base_uri": "https://localhost:8080/"
    },
    "id": "gJmeF7to4LwN",
    "outputId": "55aadc82-2b0b-4e50-f6cc-aa91e9775687"
   },
   "outputs": [
    {
     "name": "stdout",
     "output_type": "stream",
     "text": [
      "Mounted at /content/drive\n"
     ]
    }
   ],
   "source": [
    "from google.colab import drive\n",
    "#cargando libreria especializada de google\n",
    "drive.mount('/content/drive')\n",
    "# montar:"
   ]
  },
  {
   "cell_type": "code",
   "execution_count": null,
   "metadata": {
    "id": "M-atHmz4q2g3"
   },
   "outputs": [],
   "source": [
    "# TODO: Establece lenguas de origen y destino. Estos utilizan tradicionalmente los códigos de una lengua\n",
    "#que se encuentran en JW300\n",
    "# Los códigos serán los sufijos que llevaran los nombres los archivos que se generen\n",
    "\n",
    "import os\n",
    "#cargando os, acceso a comandis especializados del SO\n",
    "source_language = \"es\"\n",
    "target_language = \"mco\" \n",
    "lc = False  # If True, datos en minuscula\n",
    "seed = 42  # Siembra semilla 42\n",
    "tag = \"baseline\" # nombre de la carpeta donde se almacenarán los datos\n",
    "os.environ[\"src\"] = source_language # Para usar los nombre en bash\n",
    "os.environ[\"tgt\"] = target_language\n",
    "os.environ[\"tag\"] = tag\n",
    "\n",
    "# crea una carpeta en drive\n",
    "!mkdir -p \"/content/drive/My Drive/mixe-coatlan-es-mco/$src-$tgt-$tag\"\n",
    "os.environ[\"gdrive_path\"] = \"/content/drive/My Drive/mixe-coatlan-es-mco/%s-%s-%s\" % (source_language, target_language, tag)"
   ]
  },
  {
   "cell_type": "code",
   "execution_count": null,
   "metadata": {
    "colab": {
     "base_uri": "https://localhost:8080/"
    },
    "id": "KdSsqePWq2kU",
    "outputId": "2ae20820-5eec-4c0f-8b74-99de42186cfb"
   },
   "outputs": [
    {
     "name": "stdout",
     "output_type": "stream",
     "text": [
      "/content/drive/My Drive/mixe-coatlan-es-mco/es-mco-baseline\n"
     ]
    }
   ],
   "source": [
    "!echo $gdrive_path\n",
    "#IMPRIME EL PATH ANTES CREADO"
   ]
  },
  {
   "cell_type": "code",
   "execution_count": null,
   "metadata": {
    "colab": {
     "base_uri": "https://localhost:8080/"
    },
    "id": "d6Bp1K3MrNKE",
    "outputId": "f09cb6ad-0438-4e9b-c286-e07cc62a5463"
   },
   "outputs": [
    {
     "name": "stdout",
     "output_type": "stream",
     "text": [
      "Collecting opustools-pkg\n",
      "\u001b[?25l  Downloading https://files.pythonhosted.org/packages/6c/9f/e829a0cceccc603450cd18e1ff80807b6237a88d9a8df2c0bb320796e900/opustools_pkg-0.0.52-py3-none-any.whl (80kB)\n",
      "\r",
      "\u001b[K     |████                            | 10kB 16.0MB/s eta 0:00:01\r",
      "\u001b[K     |████████                        | 20kB 13.2MB/s eta 0:00:01\r",
      "\u001b[K     |████████████▏                   | 30kB 9.9MB/s eta 0:00:01\r",
      "\u001b[K     |████████████████▏               | 40kB 8.4MB/s eta 0:00:01\r",
      "\u001b[K     |████████████████████▎           | 51kB 5.5MB/s eta 0:00:01\r",
      "\u001b[K     |████████████████████████▎       | 61kB 6.1MB/s eta 0:00:01\r",
      "\u001b[K     |████████████████████████████▎   | 71kB 6.1MB/s eta 0:00:01\r",
      "\u001b[K     |████████████████████████████████| 81kB 4.0MB/s \n",
      "\u001b[?25hInstalling collected packages: opustools-pkg\n",
      "Successfully installed opustools-pkg-0.0.52\n"
     ]
    }
   ],
   "source": [
    "# Install opus-tools\n",
    "! pip install opustools-pkg"
   ]
  },
  {
   "cell_type": "code",
   "execution_count": null,
   "metadata": {
    "colab": {
     "base_uri": "https://localhost:8080/"
    },
    "id": "tOiExnmtrTUQ",
    "outputId": "23015d89-0810-4f4b-c565-590d3bf72586"
   },
   "outputs": [
    {
     "name": "stdout",
     "output_type": "stream",
     "text": [
      "\n",
      "Alignment file /proj/nlpl/data/OPUS/JW300/latest/xml/es-mco.xml.gz not found. The following files are available for downloading:\n",
      "\n",
      " 860 KB https://object.pouta.csc.fi/OPUS-JW300/v1b/xml/es-mco.xml.gz\n",
      " 217 MB https://object.pouta.csc.fi/OPUS-JW300/v1b/xml/es.zip\n",
      "   7 MB https://object.pouta.csc.fi/OPUS-JW300/v1b/xml/mco.zip\n",
      "\n",
      " 225 MB Total size\n",
      "./JW300_latest_xml_es-mco.xml.gz ... 100% of 860 KB\n",
      "./JW300_latest_xml_es.zip ... 100% of 217 MB\n",
      "./JW300_latest_xml_mco.zip ... 100% of 7 MB\n"
     ]
    }
   ],
   "source": [
    "# bajamos nuestro corpus disponible en jw300 con opus\n",
    "! opus_read -d JW300 -s $src -t $tgt -wm moses -w jw300.$src jw300.$tgt -q\n",
    "\n",
    "# Descomprime los datos\n",
    "! gunzip JW300_latest_xml_$src-$tgt.xml.gz"
   ]
  },
  {
   "cell_type": "code",
   "execution_count": null,
   "metadata": {
    "colab": {
     "base_uri": "https://localhost:8080/"
    },
    "id": "t34oT-tBrTYN",
    "outputId": "3193ee7f-e181-4555-8779-e851cd2a541d"
   },
   "outputs": [
    {
     "name": "stdout",
     "output_type": "stream",
     "text": [
      "--2021-03-22 19:33:20--  https://raw.githubusercontent.com/juliakreutzer/masakhane/master/jw300_utils/test/test.en-mco.en\n",
      "Resolving raw.githubusercontent.com (raw.githubusercontent.com)... 185.199.108.133, 185.199.109.133, 185.199.110.133, ...\n",
      "Connecting to raw.githubusercontent.com (raw.githubusercontent.com)|185.199.108.133|:443... connected.\n",
      "HTTP request sent, awaiting response... 404 Not Found\n",
      "2021-03-22 19:33:20 ERROR 404: Not Found.\n",
      "\n",
      "mv: cannot stat 'test.en-mco.en': No such file or directory\n",
      "--2021-03-22 19:33:20--  https://raw.githubusercontent.com/juliakreutzer/masakhane/master/jw300_utils/test/test.en-mco.mco\n",
      "Resolving raw.githubusercontent.com (raw.githubusercontent.com)... 185.199.108.133, 185.199.109.133, 185.199.110.133, ...\n",
      "Connecting to raw.githubusercontent.com (raw.githubusercontent.com)|185.199.108.133|:443... connected.\n",
      "HTTP request sent, awaiting response... 404 Not Found\n",
      "2021-03-22 19:33:20 ERROR 404: Not Found.\n",
      "\n",
      "mv: cannot stat 'test.en-mco.mco': No such file or directory\n"
     ]
    }
   ],
   "source": [
    "# Descarga un test global para inglés\n",
    "#! wget https://raw.githubusercontent.com/juliakreutzer/masakhane/master/jw300_utils/test/test.en-any.en\n",
    "  \n",
    "# Y un conjunto de pruebas para estas lenguas, pero no será utilizado ya que no existe test para ayuuk de coatlán ni para español\n",
    "os.environ[\"trg\"] = target_language \n",
    "os.environ[\"src\"] = source_language \n",
    "\n",
    "! wget https://raw.githubusercontent.com/juliakreutzer/masakhane/master/jw300_utils/test/test.en-$trg.en \n",
    "! mv test.en-$trg.en test.en\n",
    "! wget https://raw.githubusercontent.com/juliakreutzer/masakhane/master/jw300_utils/test/test.en-$trg.$trg \n",
    "! mv test.en-$trg.$trg test.$trg"
   ]
  },
  {
   "cell_type": "code",
   "execution_count": null,
   "metadata": {
    "colab": {
     "base_uri": "https://localhost:8080/"
    },
    "id": "r3WxWz12bZ9W",
    "outputId": "87630d52-fc7b-467c-c2c1-cb287baaaed3"
   },
   "outputs": [
    {
     "name": "stdout",
     "output_type": "stream",
     "text": [
      "\u001b[0m\u001b[01;34mdrive\u001b[0m/    JW300_latest_xml_es-mco.xml  JW300_latest_xml_mco.zip  \u001b[01;34msample_data\u001b[0m/\n",
      "jw300.es  JW300_latest_xml_es.zip      jw300.mco\n"
     ]
    }
   ],
   "source": [
    "ls"
   ]
  },
  {
   "cell_type": "code",
   "execution_count": null,
   "metadata": {
    "id": "u9jK_xN9rTcK"
   },
   "outputs": [],
   "source": [
    "! cat jw300.es > drive/MyDrive/mixe-coatlan-es-mco/es-mco-baseline/es.txt\n",
    "! cat jw300.mco > drive/MyDrive/mixe-coatlan-es-mco/es-mco-baseline/mco.txt"
   ]
  },
  {
   "cell_type": "code",
   "execution_count": null,
   "metadata": {
    "id": "Lozn3M5UUJ7w"
   },
   "outputs": [],
   "source": [
    "import os\n",
    "import pandas as pd\n",
    "import numpy as np\n",
    "import re"
   ]
  },
  {
   "cell_type": "code",
   "execution_count": null,
   "metadata": {
    "colab": {
     "base_uri": "https://localhost:8080/"
    },
    "id": "8YaL2ojlUJ-9",
    "outputId": "8cc37a40-a392-4993-93eb-05ca478d50ad"
   },
   "outputs": [
    {
     "name": "stdout",
     "output_type": "stream",
     "text": [
      "79132\n",
      "79132\n"
     ]
    }
   ],
   "source": [
    "#Los textos ya vienen alineados, solo es cuestion de unirlos y eliminar \n",
    "#las que no tuvieron correspondecia así como los duplicados\n",
    "source = []\n",
    "target = []\n",
    "\n",
    "with open(\"drive/My Drive/mixe-coatlan-es-mco/es-mco-baseline/es.txt\") as f:\n",
    "    for i, line in enumerate(f):\n",
    "        source.append(line.strip().lower())\n",
    "        \n",
    "\n",
    "with open(\"drive/My Drive/mixe-coatlan-es-mco/es-mco-baseline/mco.txt\") as f:\n",
    "    for i, line in enumerate(f):\n",
    "        target.append(line.strip().lower())\n",
    "\n",
    "print(len(source))\n",
    "print(len(target))"
   ]
  },
  {
   "cell_type": "code",
   "execution_count": null,
   "metadata": {
    "colab": {
     "base_uri": "https://localhost:8080/",
     "height": 869
    },
    "id": "bczSZfidgG3K",
    "outputId": "d3cdd56c-58e9-47bf-d694-3ba8abad56ba"
   },
   "outputs": [
    {
     "name": "stdout",
     "output_type": "stream",
     "text": [
      "79132\n",
      " \n"
     ]
    },
    {
     "data": {
      "text/html": [
       "<div>\n",
       "<style scoped>\n",
       "    .dataframe tbody tr th:only-of-type {\n",
       "        vertical-align: middle;\n",
       "    }\n",
       "\n",
       "    .dataframe tbody tr th {\n",
       "        vertical-align: top;\n",
       "    }\n",
       "\n",
       "    .dataframe thead th {\n",
       "        text-align: right;\n",
       "    }\n",
       "</style>\n",
       "<table border=\"1\" class=\"dataframe\">\n",
       "  <thead>\n",
       "    <tr style=\"text-align: right;\">\n",
       "      <th></th>\n",
       "      <th>source_sentence</th>\n",
       "      <th>target_sentence</th>\n",
       "    </tr>\n",
       "  </thead>\n",
       "  <tbody>\n",
       "    <tr>\n",
       "      <th>0</th>\n",
       "      <td>índice</td>\n",
       "      <td>tijaty myëmiimpy</td>\n",
       "    </tr>\n",
       "    <tr>\n",
       "      <th>1</th>\n",
       "      <td>1 de marzo de 2011</td>\n",
       "      <td>1 äämbë abril 2011</td>\n",
       "    </tr>\n",
       "    <tr>\n",
       "      <th>2</th>\n",
       "      <td>las “ buenas nuevas del reino ”</td>\n",
       "      <td>“ oybyë ayuk ” mä ja anaˈamën , ¿ ti yˈandijpy ?</td>\n",
       "    </tr>\n",
       "    <tr>\n",
       "      <th>3</th>\n",
       "      <td>un mensaje de esperanza serie de portada</td>\n",
       "      <td>yajnimaytyaˈaky diˈib miimp mä nyiˈak</td>\n",
       "    </tr>\n",
       "    <tr>\n",
       "      <th>4</th>\n",
       "      <td>3 una profecía de gran importancia</td>\n",
       "      <td>3 diˈib ojts yajnaskäjpxë mëjwiin kajaa nyikejy</td>\n",
       "    </tr>\n",
       "    <tr>\n",
       "      <th>5</th>\n",
       "      <td>4 ¿ qué es el reino de dios ?</td>\n",
       "      <td>4 ¿ ti yˈandijpy ja diosë yˈanaˈamën ?</td>\n",
       "    </tr>\n",
       "    <tr>\n",
       "      <th>6</th>\n",
       "      <td>6 ¿ qué son las buenas nuevas ?</td>\n",
       "      <td>6 ¿ ti yˈandijpy ja oybyë ayuk ?</td>\n",
       "    </tr>\n",
       "    <tr>\n",
       "      <th>7</th>\n",
       "      <td>7 ¿ quiénes están predicando las buenas nuevas ?</td>\n",
       "      <td>7 ¿ pënaty kyäjpxwäˈkxtëp ja oybyë ayuk ?</td>\n",
       "    </tr>\n",
       "    <tr>\n",
       "      <th>8</th>\n",
       "      <td>8 ¿ qué es “ el fin ” ?</td>\n",
       "      <td>8 ¿ ti duˈun yˈandijpy “ ja jëjptëgoˈoyën ” ?</td>\n",
       "    </tr>\n",
       "    <tr>\n",
       "      <th>9</th>\n",
       "      <td>secciones fijas</td>\n",
       "      <td>nanduˈun</td>\n",
       "    </tr>\n",
       "    <tr>\n",
       "      <th>10</th>\n",
       "      <td>16 enseñanzas de la palabra de dios : ¿ quién ...</td>\n",
       "      <td>10 nijawë diosë yˈayuk : ¿ pënën jesukristë ?</td>\n",
       "    </tr>\n",
       "    <tr>\n",
       "      <th>11</th>\n",
       "      <td>21 nuestros lectores quieren saber</td>\n",
       "      <td>31 tuˈugë neky diˈib yajkajx nëwinm</td>\n",
       "    </tr>\n",
       "    <tr>\n",
       "      <th>12</th>\n",
       "      <td>22 acérquese a dios : “ por la obra de tus man...</td>\n",
       "      <td>artikulo diˈib yaˈëxpëkäämp</td>\n",
       "    </tr>\n",
       "    <tr>\n",
       "      <th>13</th>\n",
       "      <td>23 ¿ lo sabía ? 24 carta de méxico</td>\n",
       "      <td>mayë 30 – 5 junië pajina 12 - ëy : 125 , 66</td>\n",
       "    </tr>\n",
       "    <tr>\n",
       "      <th>14</th>\n",
       "      <td></td>\n",
       "      <td>nˈoktuˈunëm tukëˈëyë mëdë mayˈäjt wintsëˈkën</td>\n",
       "    </tr>\n",
       "    <tr>\n",
       "      <th>15</th>\n",
       "      <td>30 el rincón del joven : defendió la religión ...</td>\n",
       "      <td>6 - 12 äämbë junië pajina 16 - ëy : 112 , 104</td>\n",
       "    </tr>\n",
       "    <tr>\n",
       "      <th>16</th>\n",
       "      <td></td>\n",
       "      <td>nˈoktuˈunëm diˈibë dios yajmëjpëtsëmëdëp</td>\n",
       "    </tr>\n",
       "    <tr>\n",
       "      <th>17</th>\n",
       "      <td>y también</td>\n",
       "      <td>13 - 19 äämbë junië pajina 21 - ëy : 25 , 11</td>\n",
       "    </tr>\n",
       "    <tr>\n",
       "      <th>18</th>\n",
       "      <td>10 el reino de dios : ¿ se lleva en el corazón ?</td>\n",
       "      <td>ja tëëm diˈib yajkypyë espiritë santë myëjkuma...</td>\n",
       "    </tr>\n",
       "    <tr>\n",
       "      <th>19</th>\n",
       "      <td>12 ¿ aprueba la biblia los juegos de azar ?</td>\n",
       "      <td>20 - 26 äämbë junië pajina 26 - ëy : 120 , 48</td>\n",
       "    </tr>\n",
       "    <tr>\n",
       "      <th>20</th>\n",
       "      <td>15 “ una tierra que mana leche y miel ”</td>\n",
       "      <td>nˈoknasˈijxëm etsë diosë myëjää xytyuˈumoˈoyëm</td>\n",
       "    </tr>\n",
       "    <tr>\n",
       "      <th>21</th>\n",
       "      <td>18 ¿ murió jesús en una cruz ?</td>\n",
       "      <td>tijaty myaytyakypyë artikulo</td>\n",
       "    </tr>\n",
       "    <tr>\n",
       "      <th>22</th>\n",
       "      <td></td>\n",
       "      <td>artikulo 1 - naxwinyëdë jäˈäy yëˈë myëjpëjtakt...</td>\n",
       "    </tr>\n",
       "    <tr>\n",
       "      <th>23</th>\n",
       "      <td></td>\n",
       "      <td>perë dios mëduumbë tsojkëp tijaty tˈixët mëdë ...</td>\n",
       "    </tr>\n",
       "    <tr>\n",
       "      <th>24</th>\n",
       "      <td>26 las asambleas de verano en rusia : ejemplos...</td>\n",
       "      <td>diˈib mas jëjpˈam mbäät tˈixy , yëˈë wiˈixë di...</td>\n",
       "    </tr>\n",
       "  </tbody>\n",
       "</table>\n",
       "</div>"
      ],
      "text/plain": [
       "                                      source_sentence                                    target_sentence\n",
       "0                                              índice                                   tijaty myëmiimpy\n",
       "1                                  1 de marzo de 2011                                 1 äämbë abril 2011\n",
       "2                     las “ buenas nuevas del reino ”   “ oybyë ayuk ” mä ja anaˈamën , ¿ ti yˈandijpy ?\n",
       "3            un mensaje de esperanza serie de portada              yajnimaytyaˈaky diˈib miimp mä nyiˈak\n",
       "4                  3 una profecía de gran importancia    3 diˈib ojts yajnaskäjpxë mëjwiin kajaa nyikejy\n",
       "5                       4 ¿ qué es el reino de dios ?             4 ¿ ti yˈandijpy ja diosë yˈanaˈamën ?\n",
       "6                     6 ¿ qué son las buenas nuevas ?                   6 ¿ ti yˈandijpy ja oybyë ayuk ?\n",
       "7    7 ¿ quiénes están predicando las buenas nuevas ?          7 ¿ pënaty kyäjpxwäˈkxtëp ja oybyë ayuk ?\n",
       "8                             8 ¿ qué es “ el fin ” ?      8 ¿ ti duˈun yˈandijpy “ ja jëjptëgoˈoyën ” ?\n",
       "9                                     secciones fijas                                           nanduˈun\n",
       "10  16 enseñanzas de la palabra de dios : ¿ quién ...      10 nijawë diosë yˈayuk : ¿ pënën jesukristë ?\n",
       "11                 21 nuestros lectores quieren saber                31 tuˈugë neky diˈib yajkajx nëwinm\n",
       "12  22 acérquese a dios : “ por la obra de tus man...                        artikulo diˈib yaˈëxpëkäämp\n",
       "13                 23 ¿ lo sabía ? 24 carta de méxico        mayë 30 – 5 junië pajina 12 - ëy : 125 , 66\n",
       "14                                                          nˈoktuˈunëm tukëˈëyë mëdë mayˈäjt wintsëˈkën\n",
       "15  30 el rincón del joven : defendió la religión ...      6 - 12 äämbë junië pajina 16 - ëy : 112 , 104\n",
       "16                                                              nˈoktuˈunëm diˈibë dios yajmëjpëtsëmëdëp\n",
       "17                                          y también       13 - 19 äämbë junië pajina 21 - ëy : 25 , 11\n",
       "18   10 el reino de dios : ¿ se lleva en el corazón ?  ja tëëm diˈib yajkypyë espiritë santë myëjkuma...\n",
       "19        12 ¿ aprueba la biblia los juegos de azar ?      20 - 26 äämbë junië pajina 26 - ëy : 120 , 48\n",
       "20            15 “ una tierra que mana leche y miel ”     nˈoknasˈijxëm etsë diosë myëjää xytyuˈumoˈoyëm\n",
       "21                     18 ¿ murió jesús en una cruz ?                       tijaty myaytyakypyë artikulo\n",
       "22                                                     artikulo 1 - naxwinyëdë jäˈäy yëˈë myëjpëjtakt...\n",
       "23                                                     perë dios mëduumbë tsojkëp tijaty tˈixët mëdë ...\n",
       "24  26 las asambleas de verano en rusia : ejemplos...  diˈib mas jëjpˈam mbäät tˈixy , yëˈë wiˈixë di..."
      ]
     },
     "execution_count": 14,
     "metadata": {
      "tags": []
     },
     "output_type": "execute_result"
    }
   ],
   "source": [
    "# junta source y target\n",
    "df = pd.DataFrame(zip(source, target), columns=['source_sentence', 'target_sentence'])\n",
    "\n",
    "print(len(df))\n",
    "print(\" \")\n",
    "df.head(25)"
   ]
  },
  {
   "cell_type": "code",
   "execution_count": null,
   "metadata": {
    "colab": {
     "base_uri": "https://localhost:8080/",
     "height": 603
    },
    "id": "iMMBaOmKgacf",
    "outputId": "cb965ade-347d-4747-f095-c9aa130f8141"
   },
   "outputs": [
    {
     "name": "stderr",
     "output_type": "stream",
     "text": [
      "/usr/local/lib/python3.7/dist-packages/ipykernel_launcher.py:4: SettingWithCopyWarning: \n",
      "A value is trying to be set on a copy of a slice from a DataFrame\n",
      "\n",
      "See the caveats in the documentation: https://pandas.pydata.org/pandas-docs/stable/user_guide/indexing.html#returning-a-view-versus-a-copy\n",
      "  after removing the cwd from sys.path.\n",
      "/usr/local/lib/python3.7/dist-packages/ipykernel_launcher.py:5: SettingWithCopyWarning: \n",
      "A value is trying to be set on a copy of a slice from a DataFrame\n",
      "\n",
      "See the caveats in the documentation: https://pandas.pydata.org/pandas-docs/stable/user_guide/indexing.html#returning-a-view-versus-a-copy\n",
      "  \"\"\"\n"
     ]
    },
    {
     "data": {
      "text/html": [
       "<div>\n",
       "<style scoped>\n",
       "    .dataframe tbody tr th:only-of-type {\n",
       "        vertical-align: middle;\n",
       "    }\n",
       "\n",
       "    .dataframe tbody tr th {\n",
       "        vertical-align: top;\n",
       "    }\n",
       "\n",
       "    .dataframe thead th {\n",
       "        text-align: right;\n",
       "    }\n",
       "</style>\n",
       "<table border=\"1\" class=\"dataframe\">\n",
       "  <thead>\n",
       "    <tr style=\"text-align: right;\">\n",
       "      <th></th>\n",
       "      <th>source_sentence</th>\n",
       "      <th>target_sentence</th>\n",
       "    </tr>\n",
       "  </thead>\n",
       "  <tbody>\n",
       "    <tr>\n",
       "      <th>0</th>\n",
       "      <td>índice</td>\n",
       "      <td>tijaty myëmiimpy</td>\n",
       "    </tr>\n",
       "    <tr>\n",
       "      <th>1</th>\n",
       "      <td>1 de marzo de 2011</td>\n",
       "      <td>1 äämbë abril 2011</td>\n",
       "    </tr>\n",
       "    <tr>\n",
       "      <th>2</th>\n",
       "      <td>las “ buenas nuevas del reino ”</td>\n",
       "      <td>“ oybyë ayuk ” mä ja anaˈamën , ¿ ti yˈandijpy ?</td>\n",
       "    </tr>\n",
       "    <tr>\n",
       "      <th>3</th>\n",
       "      <td>un mensaje de esperanza serie de portada</td>\n",
       "      <td>yajnimaytyaˈaky diˈib miimp mä nyiˈak</td>\n",
       "    </tr>\n",
       "    <tr>\n",
       "      <th>4</th>\n",
       "      <td>3 una profecía de gran importancia</td>\n",
       "      <td>3 diˈib ojts yajnaskäjpxë mëjwiin kajaa nyikejy</td>\n",
       "    </tr>\n",
       "    <tr>\n",
       "      <th>...</th>\n",
       "      <td>...</td>\n",
       "      <td>...</td>\n",
       "    </tr>\n",
       "    <tr>\n",
       "      <th>79127</th>\n",
       "      <td>encontraron un trabajo que les permite ser pre...</td>\n",
       "      <td>ojts tpäättë tyuunk diˈib mooyëdëbë tiempë par...</td>\n",
       "    </tr>\n",
       "    <tr>\n",
       "      <th>79128</th>\n",
       "      <td>daniel dice : “ antes de irnos de españa , no ...</td>\n",
       "      <td>daniel jyënaˈany : “ mätsë nety ngatsoondënëm ...</td>\n",
       "    </tr>\n",
       "    <tr>\n",
       "      <th>79129</th>\n",
       "      <td>hoy lo hacemos , y no nos falta nada verdadera...</td>\n",
       "      <td>tyam , adëyëts njukyˈattë ets nitiijëts ngayaj...</td>\n",
       "    </tr>\n",
       "    <tr>\n",
       "      <th>79130</th>\n",
       "      <td>¿ cuál es su mayor alegría ?</td>\n",
       "      <td>¿ ti diˈib niˈigyë yajnayjäˈäwëdëp agujk jotku...</td>\n",
       "    </tr>\n",
       "    <tr>\n",
       "      <th>79131</th>\n",
       "      <td>ellos comentan : “ ayudar a las personas humil...</td>\n",
       "      <td>yëˈëjëty jyënäˈändë : “ nitiijëts duˈun xykyay...</td>\n",
       "    </tr>\n",
       "  </tbody>\n",
       "</table>\n",
       "<p>68836 rows × 2 columns</p>\n",
       "</div>"
      ],
      "text/plain": [
       "                                         source_sentence                                    target_sentence\n",
       "0                                                 índice                                   tijaty myëmiimpy\n",
       "1                                     1 de marzo de 2011                                 1 äämbë abril 2011\n",
       "2                        las “ buenas nuevas del reino ”   “ oybyë ayuk ” mä ja anaˈamën , ¿ ti yˈandijpy ?\n",
       "3               un mensaje de esperanza serie de portada              yajnimaytyaˈaky diˈib miimp mä nyiˈak\n",
       "4                     3 una profecía de gran importancia    3 diˈib ojts yajnaskäjpxë mëjwiin kajaa nyikejy\n",
       "...                                                  ...                                                ...\n",
       "79127  encontraron un trabajo que les permite ser pre...  ojts tpäättë tyuunk diˈib mooyëdëbë tiempë par...\n",
       "79128  daniel dice : “ antes de irnos de españa , no ...  daniel jyënaˈany : “ mätsë nety ngatsoondënëm ...\n",
       "79129  hoy lo hacemos , y no nos falta nada verdadera...  tyam , adëyëts njukyˈattë ets nitiijëts ngayaj...\n",
       "79130                       ¿ cuál es su mayor alegría ?  ¿ ti diˈib niˈigyë yajnayjäˈäwëdëp agujk jotku...\n",
       "79131  ellos comentan : “ ayudar a las personas humil...  yëˈëjëty jyënäˈändë : “ nitiijëts duˈun xykyay...\n",
       "\n",
       "[68836 rows x 2 columns]"
      ]
     },
     "execution_count": 15,
     "metadata": {
      "tags": []
     },
     "output_type": "execute_result"
    }
   ],
   "source": [
    "# elimina duplicados \n",
    "df_pp = df.drop_duplicates()\n",
    "\n",
    "df_pp.drop_duplicates(subset='source_sentence', inplace=True)\n",
    "df_pp.drop_duplicates(subset='target_sentence', inplace=True)\n",
    "df_pp"
   ]
  },
  {
   "cell_type": "code",
   "execution_count": null,
   "metadata": {
    "id": "ibzz5ukygG6m"
   },
   "outputs": [],
   "source": [
    "es = df_pp[[\"source_sentence\"]]\n",
    "mco = df_pp[[\"target_sentence\"]]"
   ]
  },
  {
   "cell_type": "code",
   "execution_count": null,
   "metadata": {
    "id": "H_pXpAiPUKBs"
   },
   "outputs": [],
   "source": [
    "es.to_csv(\"/content/drive/My Drive/mixe-coatlan-es-mco/es-mco-baseline/es-sin-dup.txt\", header=False, index=False, sep = \"\\t\")\n",
    "mco.to_csv(\"/content/drive/My Drive/mixe-coatlan-es-mco/es-mco-baseline/mco-sin-dup.txt\", header=False, index=False, sep = \"\\t\")"
   ]
  },
  {
   "cell_type": "code",
   "execution_count": null,
   "metadata": {
    "id": "ZLz6bzL3hW9P"
   },
   "outputs": [],
   "source": []
  },
  {
   "cell_type": "markdown",
   "metadata": {
    "id": "VsrsK36Qhakp"
   },
   "source": [
    "\n",
    "# para el español"
   ]
  },
  {
   "cell_type": "code",
   "execution_count": null,
   "metadata": {
    "colab": {
     "base_uri": "https://localhost:8080/",
     "height": 442
    },
    "id": "MfSKPtDQVdWS",
    "outputId": "9c64aa22-40ef-4f1b-a3da-8c6b4c0c3449"
   },
   "outputs": [
    {
     "name": "stdout",
     "output_type": "stream",
     "text": [
      "68837\n"
     ]
    },
    {
     "data": {
      "text/html": [
       "<div>\n",
       "<style scoped>\n",
       "    .dataframe tbody tr th:only-of-type {\n",
       "        vertical-align: middle;\n",
       "    }\n",
       "\n",
       "    .dataframe tbody tr th {\n",
       "        vertical-align: top;\n",
       "    }\n",
       "\n",
       "    .dataframe thead th {\n",
       "        text-align: right;\n",
       "    }\n",
       "</style>\n",
       "<table border=\"1\" class=\"dataframe\">\n",
       "  <thead>\n",
       "    <tr style=\"text-align: right;\">\n",
       "      <th></th>\n",
       "      <th>es</th>\n",
       "    </tr>\n",
       "  </thead>\n",
       "  <tbody>\n",
       "    <tr>\n",
       "      <th>0</th>\n",
       "      <td>índice</td>\n",
       "    </tr>\n",
       "    <tr>\n",
       "      <th>1</th>\n",
       "      <td>de marzo de</td>\n",
       "    </tr>\n",
       "    <tr>\n",
       "      <th>2</th>\n",
       "      <td>las buenas nuevas del reino</td>\n",
       "    </tr>\n",
       "    <tr>\n",
       "      <th>3</th>\n",
       "      <td>un mensaje de esperanza serie de portada</td>\n",
       "    </tr>\n",
       "    <tr>\n",
       "      <th>4</th>\n",
       "      <td>una profecía de gran importancia</td>\n",
       "    </tr>\n",
       "    <tr>\n",
       "      <th>...</th>\n",
       "      <td>...</td>\n",
       "    </tr>\n",
       "    <tr>\n",
       "      <th>68832</th>\n",
       "      <td>daniel dice antes de irnos de españa , no está...</td>\n",
       "    </tr>\n",
       "    <tr>\n",
       "      <th>68833</th>\n",
       "      <td>hoy lo hacemos , y no nos falta nada verdadera...</td>\n",
       "    </tr>\n",
       "    <tr>\n",
       "      <th>68834</th>\n",
       "      <td>¿ cuál es su mayor alegría ?</td>\n",
       "    </tr>\n",
       "    <tr>\n",
       "      <th>68835</th>\n",
       "      <td>ellos comentan ayudar a las personas humildes ...</td>\n",
       "    </tr>\n",
       "    <tr>\n",
       "      <th>68836</th>\n",
       "      <td></td>\n",
       "    </tr>\n",
       "  </tbody>\n",
       "</table>\n",
       "<p>68837 rows × 1 columns</p>\n",
       "</div>"
      ],
      "text/plain": [
       "                                                      es\n",
       "0                                                 índice\n",
       "1                                            de marzo de\n",
       "2                            las buenas nuevas del reino\n",
       "3               un mensaje de esperanza serie de portada\n",
       "4                       una profecía de gran importancia\n",
       "...                                                  ...\n",
       "68832  daniel dice antes de irnos de españa , no está...\n",
       "68833  hoy lo hacemos , y no nos falta nada verdadera...\n",
       "68834                       ¿ cuál es su mayor alegría ?\n",
       "68835  ellos comentan ayudar a las personas humildes ...\n",
       "68836                                                   \n",
       "\n",
       "[68837 rows x 1 columns]"
      ]
     },
     "execution_count": 19,
     "metadata": {
      "tags": []
     },
     "output_type": "execute_result"
    }
   ],
   "source": [
    "\n",
    "def abre_archivo(nombre):\n",
    "    with open(nombre) as archivo:\n",
    "        return archivo.read()\n",
    "    \n",
    "#Elimina caracteres especiales del corpus\n",
    "def limpia(a):\n",
    "    entrada = ':\"«»()[]—“”-;.|'\n",
    "    salida  = '               '\n",
    "    reemplaza = str.maketrans(entrada, salida)\n",
    "    cadena_limpia = a.translate(reemplaza)\n",
    "    return cadena_limpia\n",
    "\n",
    "clean = abre_archivo(\"/content/drive/My Drive/mixe-coatlan-es-mco/es-mco-baseline/es-sin-dup.txt\")\n",
    "limpio = limpia(clean)\n",
    "\n",
    "\n",
    "#Expresiones regulares utilizados para quitar abreviaciones de juan, lucas, mateo y marcos.\n",
    "#Así como eliminar numeros en el corpus\n",
    "\n",
    "eliminar = r'\\b[0-9]{1,8}\\b'\n",
    "limpio = re.sub(eliminar, ' ', limpio)\n",
    "\n",
    "# Para quitar espacios grandes entre palabras\n",
    "limpio = limpio.replace(\"\\n\",\"|\")\n",
    "limpio = limpio.split()\n",
    "\n",
    "def quita_espacio(lista):\n",
    "    for i in range(len(lista)):\n",
    "        lista[i]=lista[i].strip()\n",
    "    return lista\n",
    "\n",
    "limpio = quita_espacio(limpio)\n",
    "\n",
    "def lista_a_cadena(lista):\n",
    "    cadena = ' '.join(lista)\n",
    "    return cadena\n",
    "\n",
    "limpio = lista_a_cadena(limpio)\n",
    "\n",
    "separaxpipe = limpio.split(\"|\")\n",
    "separaxpipe = [x.strip() for x in separaxpipe]\n",
    "\n",
    "print(len(separaxpipe))\n",
    "\n",
    "df_es = pd.DataFrame(separaxpipe, columns=[\"es\"])\n",
    "df_es"
   ]
  },
  {
   "cell_type": "code",
   "execution_count": null,
   "metadata": {
    "id": "UqHHejggYNJf"
   },
   "outputs": [],
   "source": []
  },
  {
   "cell_type": "markdown",
   "metadata": {
    "id": "aZtENP33hl3k"
   },
   "source": [
    "# Para mixe coatlán"
   ]
  },
  {
   "cell_type": "code",
   "execution_count": null,
   "metadata": {
    "colab": {
     "base_uri": "https://localhost:8080/",
     "height": 442
    },
    "id": "kyGxWLApVddH",
    "outputId": "0d9f579b-1393-46bf-c5e1-53ced687d785"
   },
   "outputs": [
    {
     "name": "stdout",
     "output_type": "stream",
     "text": [
      "68837\n"
     ]
    },
    {
     "data": {
      "text/html": [
       "<div>\n",
       "<style scoped>\n",
       "    .dataframe tbody tr th:only-of-type {\n",
       "        vertical-align: middle;\n",
       "    }\n",
       "\n",
       "    .dataframe tbody tr th {\n",
       "        vertical-align: top;\n",
       "    }\n",
       "\n",
       "    .dataframe thead th {\n",
       "        text-align: right;\n",
       "    }\n",
       "</style>\n",
       "<table border=\"1\" class=\"dataframe\">\n",
       "  <thead>\n",
       "    <tr style=\"text-align: right;\">\n",
       "      <th></th>\n",
       "      <th>mco</th>\n",
       "    </tr>\n",
       "  </thead>\n",
       "  <tbody>\n",
       "    <tr>\n",
       "      <th>0</th>\n",
       "      <td>tijaty myëmiimpy</td>\n",
       "    </tr>\n",
       "    <tr>\n",
       "      <th>1</th>\n",
       "      <td>äämbë abril</td>\n",
       "    </tr>\n",
       "    <tr>\n",
       "      <th>2</th>\n",
       "      <td>oybyë ayuk mä ja anaˈamën , ¿ ti yˈandijpy ?</td>\n",
       "    </tr>\n",
       "    <tr>\n",
       "      <th>3</th>\n",
       "      <td>yajnimaytyaˈaky diˈib miimp mä nyiˈak</td>\n",
       "    </tr>\n",
       "    <tr>\n",
       "      <th>4</th>\n",
       "      <td>diˈib ojts yajnaskäjpxë mëjwiin kajaa nyikejy</td>\n",
       "    </tr>\n",
       "    <tr>\n",
       "      <th>...</th>\n",
       "      <td>...</td>\n",
       "    </tr>\n",
       "    <tr>\n",
       "      <th>68832</th>\n",
       "      <td>daniel jyënaˈany mätsë nety ngatsoondënëm espa...</td>\n",
       "    </tr>\n",
       "    <tr>\n",
       "      <th>68833</th>\n",
       "      <td>tyam , adëyëts njukyˈattë ets nitiijëts ngayaj...</td>\n",
       "    </tr>\n",
       "    <tr>\n",
       "      <th>68834</th>\n",
       "      <td>¿ ti diˈib niˈigyë yajnayjäˈäwëdëp agujk jotku...</td>\n",
       "    </tr>\n",
       "    <tr>\n",
       "      <th>68835</th>\n",
       "      <td>yëˈëjëty jyënäˈändë nitiijëts duˈun xykyayajna...</td>\n",
       "    </tr>\n",
       "    <tr>\n",
       "      <th>68836</th>\n",
       "      <td></td>\n",
       "    </tr>\n",
       "  </tbody>\n",
       "</table>\n",
       "<p>68837 rows × 1 columns</p>\n",
       "</div>"
      ],
      "text/plain": [
       "                                                     mco\n",
       "0                                       tijaty myëmiimpy\n",
       "1                                            äämbë abril\n",
       "2           oybyë ayuk mä ja anaˈamën , ¿ ti yˈandijpy ?\n",
       "3                  yajnimaytyaˈaky diˈib miimp mä nyiˈak\n",
       "4          diˈib ojts yajnaskäjpxë mëjwiin kajaa nyikejy\n",
       "...                                                  ...\n",
       "68832  daniel jyënaˈany mätsë nety ngatsoondënëm espa...\n",
       "68833  tyam , adëyëts njukyˈattë ets nitiijëts ngayaj...\n",
       "68834  ¿ ti diˈib niˈigyë yajnayjäˈäwëdëp agujk jotku...\n",
       "68835  yëˈëjëty jyënäˈändë nitiijëts duˈun xykyayajna...\n",
       "68836                                                   \n",
       "\n",
       "[68837 rows x 1 columns]"
      ]
     },
     "execution_count": 20,
     "metadata": {
      "tags": []
     },
     "output_type": "execute_result"
    }
   ],
   "source": [
    "def abre_archivo(nombre):\n",
    "    with open(nombre) as archivo:\n",
    "        return archivo.read()\n",
    "    \n",
    "#Elimina caracteres especiales del corpus\n",
    "def limpia(a):\n",
    "    entrada = ':\"«»()[]—“”-;.|áéíóú'\n",
    "    salida  = '               aeiou'\n",
    "    reemplaza = str.maketrans(entrada, salida)\n",
    "    cadena_limpia = a.translate(reemplaza)\n",
    "    return cadena_limpia\n",
    "\n",
    "clean = abre_archivo(\"/content/drive/My Drive/mixe-coatlan-es-mco/es-mco-baseline/mco-sin-dup.txt\")\n",
    "limpio = limpia(clean)\n",
    "\n",
    "#Eliminar numeros en el corpus\n",
    "eliminar = r'\\b[0-9]{1,8}\\b'\n",
    "limpio = re.sub(eliminar, ' ', limpio)\n",
    "\n",
    "# Para quitar espacios grandes entre palabras\n",
    "limpio = limpio.replace(\"\\n\",\"|\")\n",
    "limpio = limpio.split()\n",
    "\n",
    "def quita_espacio(lista):\n",
    "    for i in range(len(lista)):\n",
    "        lista[i]=lista[i].strip()\n",
    "    return lista\n",
    "\n",
    "limpio = quita_espacio(limpio)\n",
    "\n",
    "def lista_a_cadena(lista):\n",
    "    cadena = ' '.join(lista)\n",
    "    return cadena\n",
    "\n",
    "limpio = lista_a_cadena(limpio)\n",
    "\n",
    "separaxpipe = limpio.split(\"|\")\n",
    "separaxpipe = [x.strip() for x in separaxpipe]\n",
    "\n",
    "print(len(separaxpipe))\n",
    "\n",
    "df_mco = pd.DataFrame(separaxpipe, columns=[\"mco\"])\n",
    "df_mco"
   ]
  },
  {
   "cell_type": "code",
   "execution_count": null,
   "metadata": {
    "colab": {
     "base_uri": "https://localhost:8080/",
     "height": 424
    },
    "id": "rlR23FF0Vdfm",
    "outputId": "b03defda-450d-4f42-a988-6e1972054a75"
   },
   "outputs": [
    {
     "data": {
      "text/html": [
       "<div>\n",
       "<style scoped>\n",
       "    .dataframe tbody tr th:only-of-type {\n",
       "        vertical-align: middle;\n",
       "    }\n",
       "\n",
       "    .dataframe tbody tr th {\n",
       "        vertical-align: top;\n",
       "    }\n",
       "\n",
       "    .dataframe thead th {\n",
       "        text-align: right;\n",
       "    }\n",
       "</style>\n",
       "<table border=\"1\" class=\"dataframe\">\n",
       "  <thead>\n",
       "    <tr style=\"text-align: right;\">\n",
       "      <th></th>\n",
       "      <th>es</th>\n",
       "      <th>mco</th>\n",
       "    </tr>\n",
       "  </thead>\n",
       "  <tbody>\n",
       "    <tr>\n",
       "      <th>0</th>\n",
       "      <td>índice</td>\n",
       "      <td>tijaty myëmiimpy</td>\n",
       "    </tr>\n",
       "    <tr>\n",
       "      <th>1</th>\n",
       "      <td>de marzo de</td>\n",
       "      <td>äämbë abril</td>\n",
       "    </tr>\n",
       "    <tr>\n",
       "      <th>2</th>\n",
       "      <td>las buenas nuevas del reino</td>\n",
       "      <td>oybyë ayuk mä ja anaˈamën , ¿ ti yˈandijpy ?</td>\n",
       "    </tr>\n",
       "    <tr>\n",
       "      <th>3</th>\n",
       "      <td>un mensaje de esperanza serie de portada</td>\n",
       "      <td>yajnimaytyaˈaky diˈib miimp mä nyiˈak</td>\n",
       "    </tr>\n",
       "    <tr>\n",
       "      <th>4</th>\n",
       "      <td>una profecía de gran importancia</td>\n",
       "      <td>diˈib ojts yajnaskäjpxë mëjwiin kajaa nyikejy</td>\n",
       "    </tr>\n",
       "    <tr>\n",
       "      <th>...</th>\n",
       "      <td>...</td>\n",
       "      <td>...</td>\n",
       "    </tr>\n",
       "    <tr>\n",
       "      <th>68832</th>\n",
       "      <td>daniel dice antes de irnos de españa , no está...</td>\n",
       "      <td>daniel jyënaˈany mätsë nety ngatsoondënëm espa...</td>\n",
       "    </tr>\n",
       "    <tr>\n",
       "      <th>68833</th>\n",
       "      <td>hoy lo hacemos , y no nos falta nada verdadera...</td>\n",
       "      <td>tyam , adëyëts njukyˈattë ets nitiijëts ngayaj...</td>\n",
       "    </tr>\n",
       "    <tr>\n",
       "      <th>68834</th>\n",
       "      <td>¿ cuál es su mayor alegría ?</td>\n",
       "      <td>¿ ti diˈib niˈigyë yajnayjäˈäwëdëp agujk jotku...</td>\n",
       "    </tr>\n",
       "    <tr>\n",
       "      <th>68835</th>\n",
       "      <td>ellos comentan ayudar a las personas humildes ...</td>\n",
       "      <td>yëˈëjëty jyënäˈändë nitiijëts duˈun xykyayajna...</td>\n",
       "    </tr>\n",
       "    <tr>\n",
       "      <th>68836</th>\n",
       "      <td></td>\n",
       "      <td></td>\n",
       "    </tr>\n",
       "  </tbody>\n",
       "</table>\n",
       "<p>68837 rows × 2 columns</p>\n",
       "</div>"
      ],
      "text/plain": [
       "                                                      es                                                mco\n",
       "0                                                 índice                                   tijaty myëmiimpy\n",
       "1                                            de marzo de                                        äämbë abril\n",
       "2                            las buenas nuevas del reino       oybyë ayuk mä ja anaˈamën , ¿ ti yˈandijpy ?\n",
       "3               un mensaje de esperanza serie de portada              yajnimaytyaˈaky diˈib miimp mä nyiˈak\n",
       "4                       una profecía de gran importancia      diˈib ojts yajnaskäjpxë mëjwiin kajaa nyikejy\n",
       "...                                                  ...                                                ...\n",
       "68832  daniel dice antes de irnos de españa , no está...  daniel jyënaˈany mätsë nety ngatsoondënëm espa...\n",
       "68833  hoy lo hacemos , y no nos falta nada verdadera...  tyam , adëyëts njukyˈattë ets nitiijëts ngayaj...\n",
       "68834                       ¿ cuál es su mayor alegría ?  ¿ ti diˈib niˈigyë yajnayjäˈäwëdëp agujk jotku...\n",
       "68835  ellos comentan ayudar a las personas humildes ...  yëˈëjëty jyënäˈändë nitiijëts duˈun xykyayajna...\n",
       "68836                                                                                                      \n",
       "\n",
       "[68837 rows x 2 columns]"
      ]
     },
     "execution_count": 21,
     "metadata": {
      "tags": []
     },
     "output_type": "execute_result"
    }
   ],
   "source": [
    "#Concatena en  mco\n",
    "es_mco = pd.concat([df_es,df_mco], axis = 1)\n",
    "es_mco = es_mco.dropna()\n",
    "es_mco"
   ]
  },
  {
   "cell_type": "code",
   "execution_count": null,
   "metadata": {
    "colab": {
     "base_uri": "https://localhost:8080/",
     "height": 603
    },
    "id": "DbBOmgxuVdjj",
    "outputId": "19b939e4-e51d-4733-9b46-5d3b44f5730a"
   },
   "outputs": [
    {
     "name": "stderr",
     "output_type": "stream",
     "text": [
      "/usr/local/lib/python3.7/dist-packages/ipykernel_launcher.py:3: SettingWithCopyWarning: \n",
      "A value is trying to be set on a copy of a slice from a DataFrame\n",
      "\n",
      "See the caveats in the documentation: https://pandas.pydata.org/pandas-docs/stable/user_guide/indexing.html#returning-a-view-versus-a-copy\n",
      "  This is separate from the ipykernel package so we can avoid doing imports until\n",
      "/usr/local/lib/python3.7/dist-packages/ipykernel_launcher.py:4: SettingWithCopyWarning: \n",
      "A value is trying to be set on a copy of a slice from a DataFrame\n",
      "\n",
      "See the caveats in the documentation: https://pandas.pydata.org/pandas-docs/stable/user_guide/indexing.html#returning-a-view-versus-a-copy\n",
      "  after removing the cwd from sys.path.\n"
     ]
    },
    {
     "data": {
      "text/html": [
       "<div>\n",
       "<style scoped>\n",
       "    .dataframe tbody tr th:only-of-type {\n",
       "        vertical-align: middle;\n",
       "    }\n",
       "\n",
       "    .dataframe tbody tr th {\n",
       "        vertical-align: top;\n",
       "    }\n",
       "\n",
       "    .dataframe thead th {\n",
       "        text-align: right;\n",
       "    }\n",
       "</style>\n",
       "<table border=\"1\" class=\"dataframe\">\n",
       "  <thead>\n",
       "    <tr style=\"text-align: right;\">\n",
       "      <th></th>\n",
       "      <th>es</th>\n",
       "      <th>mco</th>\n",
       "    </tr>\n",
       "  </thead>\n",
       "  <tbody>\n",
       "    <tr>\n",
       "      <th>0</th>\n",
       "      <td>índice</td>\n",
       "      <td>tijaty myëmiimpy</td>\n",
       "    </tr>\n",
       "    <tr>\n",
       "      <th>1</th>\n",
       "      <td>de marzo de</td>\n",
       "      <td>äämbë abril</td>\n",
       "    </tr>\n",
       "    <tr>\n",
       "      <th>2</th>\n",
       "      <td>las buenas nuevas del reino</td>\n",
       "      <td>oybyë ayuk mä ja anaˈamën , ¿ ti yˈandijpy ?</td>\n",
       "    </tr>\n",
       "    <tr>\n",
       "      <th>3</th>\n",
       "      <td>un mensaje de esperanza serie de portada</td>\n",
       "      <td>yajnimaytyaˈaky diˈib miimp mä nyiˈak</td>\n",
       "    </tr>\n",
       "    <tr>\n",
       "      <th>4</th>\n",
       "      <td>una profecía de gran importancia</td>\n",
       "      <td>diˈib ojts yajnaskäjpxë mëjwiin kajaa nyikejy</td>\n",
       "    </tr>\n",
       "    <tr>\n",
       "      <th>...</th>\n",
       "      <td>...</td>\n",
       "      <td>...</td>\n",
       "    </tr>\n",
       "    <tr>\n",
       "      <th>68831</th>\n",
       "      <td>encontraron un trabajo que les permite ser pre...</td>\n",
       "      <td>ojts tpäättë tyuunk diˈib mooyëdëbë tiempë par...</td>\n",
       "    </tr>\n",
       "    <tr>\n",
       "      <th>68832</th>\n",
       "      <td>daniel dice antes de irnos de españa , no está...</td>\n",
       "      <td>daniel jyënaˈany mätsë nety ngatsoondënëm espa...</td>\n",
       "    </tr>\n",
       "    <tr>\n",
       "      <th>68833</th>\n",
       "      <td>hoy lo hacemos , y no nos falta nada verdadera...</td>\n",
       "      <td>tyam , adëyëts njukyˈattë ets nitiijëts ngayaj...</td>\n",
       "    </tr>\n",
       "    <tr>\n",
       "      <th>68834</th>\n",
       "      <td>¿ cuál es su mayor alegría ?</td>\n",
       "      <td>¿ ti diˈib niˈigyë yajnayjäˈäwëdëp agujk jotku...</td>\n",
       "    </tr>\n",
       "    <tr>\n",
       "      <th>68835</th>\n",
       "      <td>ellos comentan ayudar a las personas humildes ...</td>\n",
       "      <td>yëˈëjëty jyënäˈändë nitiijëts duˈun xykyayajna...</td>\n",
       "    </tr>\n",
       "  </tbody>\n",
       "</table>\n",
       "<p>67197 rows × 2 columns</p>\n",
       "</div>"
      ],
      "text/plain": [
       "                                                      es                                                mco\n",
       "0                                                 índice                                   tijaty myëmiimpy\n",
       "1                                            de marzo de                                        äämbë abril\n",
       "2                            las buenas nuevas del reino       oybyë ayuk mä ja anaˈamën , ¿ ti yˈandijpy ?\n",
       "3               un mensaje de esperanza serie de portada              yajnimaytyaˈaky diˈib miimp mä nyiˈak\n",
       "4                       una profecía de gran importancia      diˈib ojts yajnaskäjpxë mëjwiin kajaa nyikejy\n",
       "...                                                  ...                                                ...\n",
       "68831  encontraron un trabajo que les permite ser pre...  ojts tpäättë tyuunk diˈib mooyëdëbë tiempë par...\n",
       "68832  daniel dice antes de irnos de españa , no está...  daniel jyënaˈany mätsë nety ngatsoondënëm espa...\n",
       "68833  hoy lo hacemos , y no nos falta nada verdadera...  tyam , adëyëts njukyˈattë ets nitiijëts ngayaj...\n",
       "68834                       ¿ cuál es su mayor alegría ?  ¿ ti diˈib niˈigyë yajnayjäˈäwëdëp agujk jotku...\n",
       "68835  ellos comentan ayudar a las personas humildes ...  yëˈëjëty jyënäˈändë nitiijëts duˈun xykyayajna...\n",
       "\n",
       "[67197 rows x 2 columns]"
      ]
     },
     "execution_count": 22,
     "metadata": {
      "tags": []
     },
     "output_type": "execute_result"
    }
   ],
   "source": [
    "df_pp = es_mco.drop_duplicates()\n",
    "\n",
    "df_pp.drop_duplicates(subset='es', inplace=True)\n",
    "df_pp.drop_duplicates(subset='mco', inplace=True)\n",
    "df_pp"
   ]
  },
  {
   "cell_type": "code",
   "execution_count": null,
   "metadata": {
    "id": "R9dPAHZQVdoO"
   },
   "outputs": [],
   "source": [
    "df_pp.to_csv(\"/content/drive/My Drive/mixe-coatlan-es-mco/es-mco-baseline/bitext-es-mco-todavia-sin-random.txt\", header=False, index=False, sep = \".\")"
   ]
  },
  {
   "cell_type": "code",
   "execution_count": null,
   "metadata": {
    "id": "OSNIVFKrVdsP"
   },
   "outputs": [],
   "source": [
    "# Shuffle the data to remove bias in dev set selection.\n",
    "df_pp = df_pp.sample(frac=1, random_state=seed).reset_index(drop=True)"
   ]
  },
  {
   "cell_type": "code",
   "execution_count": null,
   "metadata": {
    "id": "8LAPq43yb7Ng"
   },
   "outputs": [],
   "source": [
    "df_pp.to_csv(\"/content/drive/My Drive/mixe-coatlan-es-mco/es-mco-baseline/corpus-train-dev-test-bitext-es-mco.txt\", header=False, index=False, sep = \".\")"
   ]
  },
  {
   "cell_type": "code",
   "execution_count": null,
   "metadata": {
    "colab": {
     "base_uri": "https://localhost:8080/"
    },
    "id": "cgrAyQuIb7RX",
    "outputId": "05cd4df4-c6b5-4c0a-cc65-83a9fbe11e44"
   },
   "outputs": [
    {
     "data": {
      "text/plain": [
       "67197"
      ]
     },
     "execution_count": 26,
     "metadata": {
      "tags": []
     },
     "output_type": "execute_result"
    }
   ],
   "source": [
    "len(df_pp)"
   ]
  },
  {
   "cell_type": "code",
   "execution_count": null,
   "metadata": {
    "colab": {
     "base_uri": "https://localhost:8080/",
     "height": 363
    },
    "id": "TpRk2yOKb7V-",
    "outputId": "17fd87f6-85c7-435f-9513-c17380084922"
   },
   "outputs": [
    {
     "data": {
      "text/html": [
       "<div>\n",
       "<style scoped>\n",
       "    .dataframe tbody tr th:only-of-type {\n",
       "        vertical-align: middle;\n",
       "    }\n",
       "\n",
       "    .dataframe tbody tr th {\n",
       "        vertical-align: top;\n",
       "    }\n",
       "\n",
       "    .dataframe thead th {\n",
       "        text-align: right;\n",
       "    }\n",
       "</style>\n",
       "<table border=\"1\" class=\"dataframe\">\n",
       "  <thead>\n",
       "    <tr style=\"text-align: right;\">\n",
       "      <th></th>\n",
       "      <th>es</th>\n",
       "      <th>mco</th>\n",
       "    </tr>\n",
       "  </thead>\n",
       "  <tbody>\n",
       "    <tr>\n",
       "      <th>0</th>\n",
       "      <td>si su esposo es humilde y modesto , no se sent...</td>\n",
       "      <td>duˈuntsoo dyaˈixëdët ko tsyejpyë nyëdoˈoxy ets...</td>\n",
       "    </tr>\n",
       "    <tr>\n",
       "      <th>1</th>\n",
       "      <td>siempre nos da justo lo que necesitamos para s...</td>\n",
       "      <td>pes xëmë xymyoˈoyëm diˈib meerë nyajtëgoyˈäjtë...</td>\n",
       "    </tr>\n",
       "    <tr>\n",
       "      <th>2</th>\n",
       "      <td>si es así , ¡ bien hecho !</td>\n",
       "      <td>¡ jantsy oy pën ojts duˈun mduny !</td>\n",
       "    </tr>\n",
       "    <tr>\n",
       "      <th>3</th>\n",
       "      <td>la expresión un solo jehová significa varias c...</td>\n",
       "      <td>ko jyënaˈany yëˈëyë tuˈugë jyobaa , kanäk pëky...</td>\n",
       "    </tr>\n",
       "    <tr>\n",
       "      <th>4</th>\n",
       "      <td>pero cuando luego recibió información más exac...</td>\n",
       "      <td>per ko tnijäˈäwë extëm tyëyˈäjtënëty , ta wyin...</td>\n",
       "    </tr>\n",
       "    <tr>\n",
       "      <th>5</th>\n",
       "      <td>sabe qué ropa y qué comida necesitaremos</td>\n",
       "      <td>nyijäˈäwëp ti wit xox ets ti käˈäy ukën nyajtë...</td>\n",
       "    </tr>\n",
       "    <tr>\n",
       "      <th>6</th>\n",
       "      <td>no llegará tarde</td>\n",
       "      <td>tim tsojk jyäˈtäˈäny</td>\n",
       "    </tr>\n",
       "    <tr>\n",
       "      <th>7</th>\n",
       "      <td>nuestras publicaciones la usan para enseñarnos...</td>\n",
       "      <td>mä ëxpëjkpajn dyajtunyë tyäˈädë ijxpajtën parë...</td>\n",
       "    </tr>\n",
       "    <tr>\n",
       "      <th>8</th>\n",
       "      <td>por otro lado , los esposos las dominarían y e...</td>\n",
       "      <td>ets ko yëˈë anaˈamanëdëp , axtë nääk tsiigan k...</td>\n",
       "    </tr>\n",
       "    <tr>\n",
       "      <th>9</th>\n",
       "      <td>además , puede que empecemos a ver las buenas ...</td>\n",
       "      <td>nan mbäädë net nˈijxëm ja oybyë jyaˈayˈäjtën d...</td>\n",
       "    </tr>\n",
       "  </tbody>\n",
       "</table>\n",
       "</div>"
      ],
      "text/plain": [
       "                                                  es                                                mco\n",
       "0  si su esposo es humilde y modesto , no se sent...  duˈuntsoo dyaˈixëdët ko tsyejpyë nyëdoˈoxy ets...\n",
       "1  siempre nos da justo lo que necesitamos para s...  pes xëmë xymyoˈoyëm diˈib meerë nyajtëgoyˈäjtë...\n",
       "2                         si es así , ¡ bien hecho !                 ¡ jantsy oy pën ojts duˈun mduny !\n",
       "3  la expresión un solo jehová significa varias c...  ko jyënaˈany yëˈëyë tuˈugë jyobaa , kanäk pëky...\n",
       "4  pero cuando luego recibió información más exac...  per ko tnijäˈäwë extëm tyëyˈäjtënëty , ta wyin...\n",
       "5           sabe qué ropa y qué comida necesitaremos  nyijäˈäwëp ti wit xox ets ti käˈäy ukën nyajtë...\n",
       "6                                   no llegará tarde                               tim tsojk jyäˈtäˈäny\n",
       "7  nuestras publicaciones la usan para enseñarnos...  mä ëxpëjkpajn dyajtunyë tyäˈädë ijxpajtën parë...\n",
       "8  por otro lado , los esposos las dominarían y e...  ets ko yëˈë anaˈamanëdëp , axtë nääk tsiigan k...\n",
       "9  además , puede que empecemos a ver las buenas ...  nan mbäädë net nˈijxëm ja oybyë jyaˈayˈäjtën d..."
      ]
     },
     "execution_count": 27,
     "metadata": {
      "tags": []
     },
     "output_type": "execute_result"
    }
   ],
   "source": [
    "df_pp.head(10)"
   ]
  },
  {
   "cell_type": "markdown",
   "metadata": {
    "id": "QhlrbDWQoe3p"
   },
   "source": [
    "# Extraer 1000 pares para el test"
   ]
  },
  {
   "cell_type": "code",
   "execution_count": null,
   "metadata": {
    "colab": {
     "base_uri": "https://localhost:8080/",
     "height": 424
    },
    "id": "e1zdQfJ3b7Z8",
    "outputId": "6a72dba5-66b9-42b2-896c-910eacde8af8"
   },
   "outputs": [
    {
     "data": {
      "text/html": [
       "<div>\n",
       "<style scoped>\n",
       "    .dataframe tbody tr th:only-of-type {\n",
       "        vertical-align: middle;\n",
       "    }\n",
       "\n",
       "    .dataframe tbody tr th {\n",
       "        vertical-align: top;\n",
       "    }\n",
       "\n",
       "    .dataframe thead th {\n",
       "        text-align: right;\n",
       "    }\n",
       "</style>\n",
       "<table border=\"1\" class=\"dataframe\">\n",
       "  <thead>\n",
       "    <tr style=\"text-align: right;\">\n",
       "      <th></th>\n",
       "      <th>es</th>\n",
       "      <th>mco</th>\n",
       "    </tr>\n",
       "  </thead>\n",
       "  <tbody>\n",
       "    <tr>\n",
       "      <th>0</th>\n",
       "      <td>si su esposo es humilde y modesto , no se sent...</td>\n",
       "      <td>duˈuntsoo dyaˈixëdët ko tsyejpyë nyëdoˈoxy ets...</td>\n",
       "    </tr>\n",
       "    <tr>\n",
       "      <th>1</th>\n",
       "      <td>siempre nos da justo lo que necesitamos para s...</td>\n",
       "      <td>pes xëmë xymyoˈoyëm diˈib meerë nyajtëgoyˈäjtë...</td>\n",
       "    </tr>\n",
       "    <tr>\n",
       "      <th>2</th>\n",
       "      <td>si es así , ¡ bien hecho !</td>\n",
       "      <td>¡ jantsy oy pën ojts duˈun mduny !</td>\n",
       "    </tr>\n",
       "    <tr>\n",
       "      <th>3</th>\n",
       "      <td>la expresión un solo jehová significa varias c...</td>\n",
       "      <td>ko jyënaˈany yëˈëyë tuˈugë jyobaa , kanäk pëky...</td>\n",
       "    </tr>\n",
       "    <tr>\n",
       "      <th>4</th>\n",
       "      <td>pero cuando luego recibió información más exac...</td>\n",
       "      <td>per ko tnijäˈäwë extëm tyëyˈäjtënëty , ta wyin...</td>\n",
       "    </tr>\n",
       "    <tr>\n",
       "      <th>...</th>\n",
       "      <td>...</td>\n",
       "      <td>...</td>\n",
       "    </tr>\n",
       "    <tr>\n",
       "      <th>995</th>\n",
       "      <td>todos los hermanos , hasta los que tienen muy ...</td>\n",
       "      <td>niˈamukë nmëguˈukˈäjtëm , axtë diˈib kyaj nëgo...</td>\n",
       "    </tr>\n",
       "    <tr>\n",
       "      <th>996</th>\n",
       "      <td>pongamos dos ejemplos supongamos que estamos l...</td>\n",
       "      <td>extëm nˈokpëjtakëm , ¿ ti mbäät nduˈunëm ko my...</td>\n",
       "    </tr>\n",
       "    <tr>\n",
       "      <th>997</th>\n",
       "      <td>¿ conoce usted a otros hermanos mayores que ha...</td>\n",
       "      <td>¿ miimp mä mwinmäˈäny tuˈugë nmëguˈukˈäjtëm di...</td>\n",
       "    </tr>\n",
       "    <tr>\n",
       "      <th>998</th>\n",
       "      <td>al ver que por todas partes había violencia y ...</td>\n",
       "      <td>noe mbäätxyëp tyuktëjkë moˈon tujkën ko tˈijxy...</td>\n",
       "    </tr>\n",
       "    <tr>\n",
       "      <th>999</th>\n",
       "      <td>¿ por qué puede desear alguien que esta notici...</td>\n",
       "      <td>¿ tidaa ko ttseky ets wyäˈkxëdë tyäˈädë maytya...</td>\n",
       "    </tr>\n",
       "  </tbody>\n",
       "</table>\n",
       "<p>1000 rows × 2 columns</p>\n",
       "</div>"
      ],
      "text/plain": [
       "                                                    es                                                mco\n",
       "0    si su esposo es humilde y modesto , no se sent...  duˈuntsoo dyaˈixëdët ko tsyejpyë nyëdoˈoxy ets...\n",
       "1    siempre nos da justo lo que necesitamos para s...  pes xëmë xymyoˈoyëm diˈib meerë nyajtëgoyˈäjtë...\n",
       "2                           si es así , ¡ bien hecho !                 ¡ jantsy oy pën ojts duˈun mduny !\n",
       "3    la expresión un solo jehová significa varias c...  ko jyënaˈany yëˈëyë tuˈugë jyobaa , kanäk pëky...\n",
       "4    pero cuando luego recibió información más exac...  per ko tnijäˈäwë extëm tyëyˈäjtënëty , ta wyin...\n",
       "..                                                 ...                                                ...\n",
       "995  todos los hermanos , hasta los que tienen muy ...  niˈamukë nmëguˈukˈäjtëm , axtë diˈib kyaj nëgo...\n",
       "996  pongamos dos ejemplos supongamos que estamos l...  extëm nˈokpëjtakëm , ¿ ti mbäät nduˈunëm ko my...\n",
       "997  ¿ conoce usted a otros hermanos mayores que ha...  ¿ miimp mä mwinmäˈäny tuˈugë nmëguˈukˈäjtëm di...\n",
       "998  al ver que por todas partes había violencia y ...  noe mbäätxyëp tyuktëjkë moˈon tujkën ko tˈijxy...\n",
       "999  ¿ por qué puede desear alguien que esta notici...  ¿ tidaa ko ttseky ets wyäˈkxëdë tyäˈädë maytya...\n",
       "\n",
       "[1000 rows x 2 columns]"
      ]
     },
     "execution_count": 28,
     "metadata": {
      "tags": []
     },
     "output_type": "execute_result"
    }
   ],
   "source": [
    "#Se escoge las primeras 912 frases para el corpus de test\n",
    "test = df_pp.iloc[0:1000]\n",
    "test = test.reset_index(drop=True)\n",
    "test"
   ]
  },
  {
   "cell_type": "code",
   "execution_count": null,
   "metadata": {
    "id": "kzf-9qmRb7d2"
   },
   "outputs": [],
   "source": [
    "#Se extrae test por columna\n",
    "es = test[\"es\"]\n",
    "mco = test[\"mco\"]\n",
    "\n",
    "es.to_csv('drive/My Drive/mixe-coatlan-es-mco/es-mco-baseline/test/test-random_es.txt', header=False, index=False, sep = \"\\t\")\n",
    "mco.to_csv('drive/My Drive/mixe-coatlan-es-mco/es-mco-baseline/test/test-random_mco.txt', header=False, index=False, sep = \"\\t\")\n"
   ]
  },
  {
   "cell_type": "code",
   "execution_count": null,
   "metadata": {
    "colab": {
     "base_uri": "https://localhost:8080/",
     "height": 424
    },
    "id": "s4Emv-_jb7hz",
    "outputId": "7ecabf8e-866d-4c57-c619-cfe0a9d7c9be"
   },
   "outputs": [
    {
     "data": {
      "text/html": [
       "<div>\n",
       "<style scoped>\n",
       "    .dataframe tbody tr th:only-of-type {\n",
       "        vertical-align: middle;\n",
       "    }\n",
       "\n",
       "    .dataframe tbody tr th {\n",
       "        vertical-align: top;\n",
       "    }\n",
       "\n",
       "    .dataframe thead th {\n",
       "        text-align: right;\n",
       "    }\n",
       "</style>\n",
       "<table border=\"1\" class=\"dataframe\">\n",
       "  <thead>\n",
       "    <tr style=\"text-align: right;\">\n",
       "      <th></th>\n",
       "      <th>es</th>\n",
       "      <th>mco</th>\n",
       "    </tr>\n",
       "  </thead>\n",
       "  <tbody>\n",
       "    <tr>\n",
       "      <th>0</th>\n",
       "      <td>sin duda , estos hermanos necesitan que siempr...</td>\n",
       "      <td>seguurë ko tyäˈädë nmëguˈukˈäjtëm yajtëgoyˈäjt...</td>\n",
       "    </tr>\n",
       "    <tr>\n",
       "      <th>1</th>\n",
       "      <td>toda escritura es inspirada de dios y provecho...</td>\n",
       "      <td>dios wyinmäˈänymyooy ja jyaˈayëty es tkëxjäˈäy...</td>\n",
       "    </tr>\n",
       "    <tr>\n",
       "      <th>2</th>\n",
       "      <td>el amor y unidad que se ve entre los testigos ...</td>\n",
       "      <td>pes diˈibë jesukristë xytyukˈanaˈamëm axtë jaw...</td>\n",
       "    </tr>\n",
       "    <tr>\n",
       "      <th>3</th>\n",
       "      <td>examinarlos con detalle nos permitirá conocer ...</td>\n",
       "      <td>ko nˈëxpëjkëm yajxon , ta niˈigyë nnijawëyäˈän...</td>\n",
       "    </tr>\n",
       "    <tr>\n",
       "      <th>4</th>\n",
       "      <td>o , lo que es lo mismo , impedirá que puedan h...</td>\n",
       "      <td>o diˈib yˈandijpy ko mbäät tpëjkë myëjää parë ...</td>\n",
       "    </tr>\n",
       "    <tr>\n",
       "      <th>...</th>\n",
       "      <td>...</td>\n",
       "      <td>...</td>\n",
       "    </tr>\n",
       "    <tr>\n",
       "      <th>66192</th>\n",
       "      <td>en el parís de la época de langton , vivían es...</td>\n",
       "      <td>ja tiempë mä jyukyˈajtyë langton jap paris , t...</td>\n",
       "    </tr>\n",
       "    <tr>\n",
       "      <th>66193</th>\n",
       "      <td>¿ qué hará si pierde el trabajo ?</td>\n",
       "      <td>¿ ti tyunëp ko ja tyuunk yajpëjkët ?</td>\n",
       "    </tr>\n",
       "    <tr>\n",
       "      <th>66194</th>\n",
       "      <td>jehová les dio su espíritu santo a los primero...</td>\n",
       "      <td>jyobaa myëjämooy pënaty pyanëjkxtë kristë mä p...</td>\n",
       "    </tr>\n",
       "    <tr>\n",
       "      <th>66195</th>\n",
       "      <td>algo que nos ayudará a comprender los retos im...</td>\n",
       "      <td>tsiptakp nyajtuˈukmujkëmë jäˈäy diˈib wiˈixëmë...</td>\n",
       "    </tr>\n",
       "    <tr>\n",
       "      <th>66196</th>\n",
       "      <td>él nos dice en su palabra lo que se busca en l...</td>\n",
       "      <td>tukˈoybyëtsëm tijaty dios windum ,</td>\n",
       "    </tr>\n",
       "  </tbody>\n",
       "</table>\n",
       "<p>66197 rows × 2 columns</p>\n",
       "</div>"
      ],
      "text/plain": [
       "                                                      es                                                mco\n",
       "0      sin duda , estos hermanos necesitan que siempr...  seguurë ko tyäˈädë nmëguˈukˈäjtëm yajtëgoyˈäjt...\n",
       "1      toda escritura es inspirada de dios y provecho...  dios wyinmäˈänymyooy ja jyaˈayëty es tkëxjäˈäy...\n",
       "2      el amor y unidad que se ve entre los testigos ...  pes diˈibë jesukristë xytyukˈanaˈamëm axtë jaw...\n",
       "3      examinarlos con detalle nos permitirá conocer ...  ko nˈëxpëjkëm yajxon , ta niˈigyë nnijawëyäˈän...\n",
       "4      o , lo que es lo mismo , impedirá que puedan h...  o diˈib yˈandijpy ko mbäät tpëjkë myëjää parë ...\n",
       "...                                                  ...                                                ...\n",
       "66192  en el parís de la época de langton , vivían es...  ja tiempë mä jyukyˈajtyë langton jap paris , t...\n",
       "66193                  ¿ qué hará si pierde el trabajo ?               ¿ ti tyunëp ko ja tyuunk yajpëjkët ?\n",
       "66194  jehová les dio su espíritu santo a los primero...  jyobaa myëjämooy pënaty pyanëjkxtë kristë mä p...\n",
       "66195  algo que nos ayudará a comprender los retos im...  tsiptakp nyajtuˈukmujkëmë jäˈäy diˈib wiˈixëmë...\n",
       "66196  él nos dice en su palabra lo que se busca en l...                 tukˈoybyëtsëm tijaty dios windum ,\n",
       "\n",
       "[66197 rows x 2 columns]"
      ]
     },
     "execution_count": 30,
     "metadata": {
      "tags": []
     },
     "output_type": "execute_result"
    }
   ],
   "source": [
    "#Se eliminan las 1000 filas bitext de donde fueron extraídas las frases para test\n",
    "df_pp = df_pp.drop(range(0,1000),axis = 0)\n",
    "df_pp = df_pp.reset_index(drop=True)\n",
    "\n",
    "df_pp"
   ]
  },
  {
   "cell_type": "code",
   "execution_count": null,
   "metadata": {
    "id": "CDaZRBn5b7mI"
   },
   "outputs": [],
   "source": [
    "#Se extrae columnas para el corpus dev-train\n",
    "train_dev_es = df_pp[\"es\"]\n",
    "train_dev_mco = df_pp[\"mco\"]\n",
    "\n",
    "train_dev_es.to_csv('drive/My Drive/mixe-coatlan-es-mco/es-mco-baseline/train-dev-random_es.txt', header=False, index=False, sep = \"\\t\")\n",
    "train_dev_mco.to_csv('drive/My Drive/mixe-coatlan-es-mco/es-mco-baseline/train-dev-random_mco.txt', header=False, index=False, sep = \"\\t\")"
   ]
  },
  {
   "cell_type": "code",
   "execution_count": null,
   "metadata": {
    "id": "E1GhX1peoQSj"
   },
   "outputs": [],
   "source": []
  },
  {
   "cell_type": "code",
   "execution_count": null,
   "metadata": {
    "id": "7QEJz5JKoQg6"
   },
   "outputs": [],
   "source": [
    "### Filtra para obtener train y dev"
   ]
  },
  {
   "cell_type": "code",
   "execution_count": null,
   "metadata": {
    "colab": {
     "base_uri": "https://localhost:8080/"
    },
    "id": "TXNtmLmA-mev",
    "outputId": "9d4db6fa-e2a3-4cf6-dd23-571d6ad989af"
   },
   "outputs": [
    {
     "name": "stdout",
     "output_type": "stream",
     "text": [
      "Loaded 1000 global test sentences to filter from the training/dev data.\n"
     ]
    }
   ],
   "source": [
    "# lee los datos de train para hacer un filtro de posibles repeticiones dentro del corpus de train y dev\n",
    "en_test_sents = set()\n",
    "filter_test_sents = \"drive/My Drive/mixe-coatlan-es-mco/es-mco-baseline/test/test-random_es.txt\"\n",
    "j = 0\n",
    "with open(filter_test_sents) as f:\n",
    "  for line in f:\n",
    "    en_test_sents.add(line.strip())\n",
    "    j += 1\n",
    "print('Loaded {} global test sentences to filter from the training/dev data.'.format(j))\n",
    "#en_test_sents"
   ]
  },
  {
   "cell_type": "code",
   "execution_count": null,
   "metadata": {
    "colab": {
     "base_uri": "https://localhost:8080/"
    },
    "id": "f8bR2G7n-_fi",
    "outputId": "ec7ac354-69a9-4258-f9e9-c1ac3db6ee92"
   },
   "outputs": [
    {
     "name": "stdout",
     "output_type": "stream",
     "text": [
      "{'pablo dijo que pensáramos los unos en los otros para incitarnos al amor y a las obras excelentes', 'en abril de , las autoridades empezaron a deportar a siberia a los testigos que vivían en el oeste de la unión soviética', 'quizás al principio debamos dar a los hermanos comida , ropa y otras cosas básicas * vea la nota', 'a pesar de todas estas situaciones difíciles , rudolf siguió sirviéndole a jehová', 'y segundo , porque le daremos gloria a nuestro amoroso padre celestial la satisfacción de darle gloria a jehová será mayor que cualquier sacrificio que tengamos que hacer para vestirnos bien', 'la primera cualidad que pablo mencionó es el amor', 'b ¿ quién es la séptima cabeza de la bestia salvaje ?', 'por la misma razón , aunque estemos abiertos a una amplia variedad de diversiones , evitamos todas las que son inmorales , violentas o muy peligrosas , pues violan los principios bíblicos y amenazan nuestra salud física y espiritual', 'en los lugares donde no pudieron hacerlo , le enviaron una carta a cada miembro de la iglesia', 'es emocionante leer lo que isaías , ezequiel , daniel y juan escribieron sobre la forma en que dios ha organizado los asuntos en el cielo', 'las decisiones referentes a la soltería y el matrimonio no son nada fáciles de tomar', 'y también les dijo a una hora que no piensan que es , viene el hijo del hombre', 'de hecho , el libro de los salmos dice que fue torturado ataron una cadena a sus pies y le pusieron un aro de hierro en su cuello', 'la biblia también dice que los ángeles empezaron a tomar a muchas de ellas como esposas', 'más bien , se apresura a curarlo', '¿ qué es la dedicación ?', 'por ejemplo , abrahán peleó contra sus enemigos con hombres entrenados y así rescató a lot', 'algunos de sus miembros creaban divisiones afirmando que había que cumplir la ley de moisés', 'por otro lado , algunas personas viven preocupadas porque se imaginan que les pasarán muchas cosas malas', 'algo importante que debemos tener en cuenta es que solo jehová tiene libertad absoluta , sin límites', 'todos estamos expuestos al modo de pensar del mundo , que se promueve en la televisión , internet , los lugares de empleo y la escuela', 'él seguirá atacándonos con mentiras y amenazas de gobiernos , líderes religiosos y apóstatas para detener nuestras actividades cristianas', '¿ cuándo deben los padres empezar a enseñar a sus hijos ?', '¡ no puede creer lo que ha pasado !', 'no , porque su poder es limitado lea santiago', 'macmillan , un testigo con muchos años de experiencia , que dijo aprendí que debemos reconocer nuestros errores y continuar examinando la palabra de dios para conseguir más esclarecimiento', 'ella era sensata , pero su esposo , nabal , era un hombre inútil , grosero e irrazonable', '¿ y qué hay de los demás gobiernos ?', 'de manera parecida , después de preguntar quién lo liberaría , pablo mismo contestó ¡ gracias a dios mediante jesucristo nuestro señor !', 'mediante el reino de dios , se cumplirá la promesa bíblica espera en jehová y guarda su camino', '¿ en qué sentido contribuyen nuestras oraciones a la unidad ?', '¿ por qué será que , aunque todo el mundo odia que le mientan , la mentira es tan común ?', 'con el paso de los años el arca fue tomando forma', '¿ cómo nos ayuda el ejemplo de salomón a entender lo que es el verdadero éxito ?', 'no sirve de nada debatir asuntos que únicamente brindan cuestiones para investigación , pues no aportan ninguna enseñanza de dios que tenga que ver con nuestra fe', 'al llegar a sarepta , elías se encontró con una viuda pobre que recogía leña', 'pero no obtuve respuestas a la mayoría de mis preguntas', 'al mismo tiempo , eso fortalece nuestras manos y nos ayuda a concentrarnos en el futuro', 'el cabeza de familia que imita su actitud vigilante se guía por la palabra de dios , en particular cuando pasa por dificultades', 'en la propia congregación había quienes hablaban cosas aviesas para arrastrar a los discípulos tras de sí', 'ver la felicidad que sienten cuando aceptan la verdad es una gran fuente de gozo', 'además , chris le dijo a gavin que las profecías de la biblia lo convencieron de que su mensaje es confiable', 'estableció que un heredero de david tendría el derecho legal al trono del reino mesiánico', 'está claro , pues , que la biblia desaconseja la unión religiosa', 'es impresionante ver cómo un alfarero puede usar algo tan común y barato como el barro para crear algo tan bonito y valioso', 'el tiempo era muy frío , y pasaban el día entero en medio del agua helada', 'allí , mis padres servían de precursores y trabajaban unas horas cultivando la tierra y criando animales', 'también sería prudente que averiguara cuánta experiencia tiene en ese tipo de operaciones', 'seguro que sabía que jesús esperaba gobernar a la humanidad en el futuro', '¿ cómo va vestido para la boda ?', 'el sinaítico siríaco', 'esto fortalecerá tu amistad con él y te hará más feliz', 'sin duda , en la creación encontramos numerosos ejemplos de exactitud y precisión que demuestran que jehová , el dios de tiempos y sazones o épocas , tiene sabiduría y poder infinitos léase salmo', 'por desgracia , una vez establecidos en la tierra prometida , los israelitas adoptaron los ritos sexuales y los crueles sacrificios humanos con que los habitantes de canaán adoraban a sus dioses', 'no , y job tampoco lo vio así', 'pero eso no era lo que dios quería cuando creó a la humanidad', 'quienes creen esto último tal vez adopten la actitud fatalista de comamos y bebamos , porque mañana hemos de morir', 'por eso , todos necesitamos recordar esta advertencia el que piensa que está en pie , cuídese de no caer', 'el incienso me es algo detestable', 'como hemos visto , jesús enseñó a marta a no dejarse distraer por cosas poco importantes', 'por inspiración divina , el apóstol pablo dijo que los cristianos de corinto que se habían arrepentido de sus pecados estaban entristecidos de manera piadosa y que esto había producido en ellos el librarse de culpa , sí , indignación , sí , temor , sí , anhelo , sí , celo , sí , corrección del abuso', '¿ de qué manera ha demostrado amor el pueblo de dios ?', 'si los aconsejaba , era porque los amaba de verdad', 'aunque predicar con celo es sumamente importante , no basta para que la gente se sienta atraída a dios', 'si nos centramos en las cosas espirituales , estaremos en paz con dios y sentiremos paz interior ahora , y en el futuro podremos vivir para siempre', 'portada un superintendente viajante y varios precursores especiales usan un barco para predicar por la selva del río amazonas y otros ríos cercanos', '¿ qué logrará ese gobierno ?', 'también veremos los esfuerzos que hicieron los cristianos ungidos por entender la palabra de jehová de forma correcta y cómo demostraron los estudiantes de la biblia que estaban decididos a mantenerse alejados de la religión falsa', 'pero él es el creador de todas las cosas , mientras que , como bien dijo pablo , un ídolo no es nada', 'el primer hijo de cada familia tenía una posición de honra y a menudo era el siguiente cabeza familiar', 'los muebles están destrozados , los platos hechos añicos y la alfombra echada a perder', 'una de estas publicaciones era el libro the finished mystery el misterio terminado', '¿ cómo se sentía el hijo de dios al trabajar con su padre ?', 'por haberse ofrecido voluntariamente el pueblo , bendigan a jehová', 'la modestia está muy relacionada con la humildad el cristiano que es humilde no es orgulloso , sino que piensa que los demás son superiores a él', 'un amor así no crece solo es fruto del estudio concienzudo , la oración y la meditación , así como de la experiencia personal , es decir , de ver las bendiciones que uno recibe cuando obedece las normas divinas', 'tenemos que demostrar fe en jehová , en jesucristo y en el rescate', 'el apóstol pablo escribió de ninguna manera estamos dando causa alguna para tropiezo , para que no se encuentre falta en nuestro ministerio', 'jesús enseñó que el espíritu de dios puede hacernos recordar lo que hemos aprendido', 'ella dice me gustaría aprender más rápido , pero procuro no olvidar lo que un hermano me dijo en cierta ocasión ‘ si uno hace lo que puede , jehová hace que lo demás ruede ’', 'a las de un grupo , jesús las llama ovejas y a las del otro grupo las llama cabras', 'si alguien le asegurara que pronto ya no habrá más desastres , ¿ cómo reaccionaría usted ?', 'si es así , ¡ bien hecho !', 'un año más tarde , cuando cumplí , me inscribí como objetora de conciencia tuve que presentarme ante dos tribunales , pero en ambas ocasiones quedé libre', 'pero al ver que no le habían entendido , les dijo directamente lázaro ha muerto', '¿ qué nos ayudará a querer más a los ancianos ?', 'jehová se valió de abigail para evitar que david diera un mal paso', '¿ qué nos puede ayudar a cambiar ?', 'después , tendría que regresar a las islas y pasar allí algunos años', 'a quien actúe así , salomón le da esta garantía en tal caso entenderás justicia y juicio y rectitud , el derrotero entero de lo que es bueno', 'es una virtud totalmente contraria al orgullo y la vanidad', 'cuando aprendimos a caminar , veíamos a los desconocidos como unos gigantes y , asustados , buscábamos a nuestros padres', '¿ por qué puede desear alguien que esta noticia se extienda ?', 'a medida que los distintos bandos judíos luchaban por el poder , las condiciones de vida en la ciudad se deterioraron rápidamente', 'si de veras amamos a los hermanos , con gusto haremos cosas por ellos sin tratar de que los demás sepan lo que hicimos', 'así piensan también muchos cristianos de nuestro tiempo y por eso anteponen las actividades espirituales a todo lo demás , incluido el trabajo', 'una hermana dice que cuando murió su hija los hermanos fueron a su casa y lloraron con ella', 'era vital que estudiara con diligencia las escrituras , asistiera regularmente a las reuniones y predicara el reino con entusiasmo', 'al fin y al cabo , tanto el padre como la madre les aportan su herencia genética', 'después de que jesús vino a la tierra , jehová dio más instrucciones y nuevas leyes', 'hasta se hizo una tumba lujosa y andaba en carruajes impresionantes', 'yo soy jehová nos dice', '¿ tenía defectos la creación de dios ?', 'jehová lo castigó con lepra', 'porque hemos oído cómo jehová secó las aguas del mar rojo de delante de ustedes , y lo que ustedes hicieron a los dos reyes de los amorreos', 'de hecho , fue su primera criatura , y por medio de él hizo todo lo demás , incluidos los ángeles', 'entonces , la gran muchedumbre de las otras ovejas sobrevivirá a la gran tribulación y entrará en el nuevo mundo', 'dios ha nombrado rey a su hijo , y eso ya es una buena noticia', 'en realidad , lo que quieren decirles es que ya es demasiado tarde para ellas', 'posteriormente surgió un problema', 'por tanto , la profecía de david habla de un mal amigo , un traidor de la peor clase', 'la esposa de fred , por ejemplo , reconoce me tenía agobiada', 'b ¿ cómo ayudó el samaritano al judío maltrecho ?', 'dios nos hizo con la libertad de elegir entre actuar bien o mal', 'si no tenemos cuidado , nuestra forma de vestir puede hacer que les cueste más obedecer los consejos de la biblia y luchar contra esos deseos', 'podría haber razonado esto es lo mismo que las otras dos veces , así que pelearé contra los enemigos de dios', 'en cuanto daniel supo que el rey había firmado esa orden , entró en su casa , y , las ventanas de su cámara del techo estando abiertas para él hacia jerusalén , hasta tres veces al día se hincaba de rodillas y oraba y ofrecía alabanza delante de su dios , como había estado haciendo regularmente antes de esto', 'por otra parte , la palabra hebrea que se traduce familiarizarse en este versículo también significa tener en gran estima', 'el apóstol juan mencionó tres señuelos el deseo de la carne , el deseo de los ojos y la exhibición ostentosa del medio de vida', 'hoy día , hasta los libros de texto tienen que actualizarse constantemente en contraste , como el autor de la biblia es el creador , lo que esta dice dura para siempre', 'de ellos aprendí que la vida tiene verdadero sentido y que podemos ser felices cuando ponemos el reino en primer lugar', 'fue una mujer leal que no abandonó a su suegra aunque esta ya estaba mayor', 'o tal vez piensen que a la congregación no le pasará nada si no entrenan a otros ahora', 'del mismo modo , si queremos fortalecer nuestra amistad con jehová , debemos estudiar la biblia con regularidad con la meta de satisfacer nuestras propias necesidades', 'pero ¿ qué hay de quienes se niegan tercamente a cambiar su forma de vivir e insisten en hacer el mal ?', 'jehová nos puede ayudar mucho mediante la oración', 'el aborto voluntario está en contra de lo que dice la biblia sobre el respeto a la vida', 'al terminar , dos publicadoras conversan sobre el tema la primera se alegra por la noticia y expresa sus mejores deseos para la nueva precursora la segunda cuestiona los motivos de la hermana y hasta insinúa que solo busca ser el centro de atención', 'si así es , ¿ cuándo será ?', 'ese deseo era un pecado muy grave , pues indicaba que estaban rechazando a jehová como su soberano', 'él cuenta yo iba viajando con un testigo de jehová de repente , su vehículo se estropeó , y él fue a la localidad más cercana para buscar a otros testigos', 'y , tercero , ¿ qué efecto tendrá en nuestra vida diaria ser fuertes espiritualmente ?', 'después de eso comenzó a manifestar en público su desacuerdo , envió a la sucursal numerosas cartas de queja y hasta animó a otros miembros de la congregación a hacer lo mismo', 'lea nehemías no es fácil mantenerse santo en medio de tantas malas influencias', 'a fin de captar la importancia de esta declaración , examinemos la pascua judía y veamos cómo se relaciona con un mandato que se dio a todos los cristianos', ', a ¿ qué logrará el reino de dios ?', 'ella escribe un día en el que le había pedido ayuda a jehová , me encontré con una hermana mayor', 'beber en exceso causa adicción y lleva a cometer locuras', 'un grupo de profetas falsos le dijo a acab que ganaría la batalla', '¿ verdad que no es mucho pedir que a final de mes entreguemos el informe ?', 'además de meditar en lo que leemos en la biblia , podemos meditar en otras cosas', 'así es , la cristiandad aún se siente poderosa', 'ella misma afirma que es inspirada de dios y provechosa para enseñar', 'hace poco se hizo una encuesta a un grupo de hermanos que predican con entusiasmo en diferentes partes del mundo', 'el sistema de satanás está concebido para mantenernos absortos en intereses personales y asuntos que carecen de importancia', 'por ejemplo , un hermano dice que él trata de recordar que una sola parte de la biblia puede enseñarle varias cosas', 'jehová les dio a adán y eva una ley sencilla para que supieran que su libertad tenía límites', 'cuando abrahán y sara estaban en egipto , el rey de ese país se llevó a sara para casarse con ella', 'veamos cómo pueden ayudarnos a mantener un espíritu de sacrificio los relatos sobre el rey saúl y el apóstol pedro', 'algunos padres creen que lo mejor para su hijo es que , antes de bautizarse , estudie una carrera y busque un buen empleo', 'para , las buenas nuevas del reino habían cobrado un nuevo significado', 'mira los párrafos y', 'los primeros años de matrimonio , aunque alegres , a veces pueden ser frustrantes admitió un esposo\\u2060', 'en esta última lista , pablo empieza diciendo los hombres serán', 'lea job ,', '¿ por qué está usted convencido de que jehová puede satisfacer sus necesidades diarias ?', 'irían delante de él allanándole el camino', 'pero muchos de nosotros vivimos lejos de ellos ¿ cómo podemos ayudarlos y demostrar que no los olvidamos ?', ', a ¿ qué necesitamos para entrar en el nuevo mundo ?', 'debemos obedecer las sabias instrucciones de la palabra escrita de dios y aceptar con gusto la dirección del espíritu', 'después de muchas oraciones y muchas lágrimas , lo logré', 'si se siente desanimado por los problemas , o por sus propias faltas o las de otras personas , ¿ qué debería hacer ?', 'luego , pablo corrió peligro en éfeso por culpa de un grupo de gente furiosa , pero se quedó allí el tiempo necesario para animar a los hermanos', '¿ qué esperanza tenemos ?', 'a ¿ qué les ha ocurrido a los matrimonios desde la rebelión de adán y eva ?', 'también compré un teléfono móvil', 'nos dio un excelente ejemplo a todos', '¿ por qué muchas personas no creyeron en jesús ?', ', a ¿ por qué permitió jehová que conociéramos detalles de la parte celestial de su organización ?', 'sin duda , la historia de nabot fortalece nuestra fe', 'en algunas culturas , es normal que dos personas que acaban de conocerse se pregunten en qué trabajan', 'si usted espera vivir en la tierra , imagínese cuando esté trabajando con sus amigos para convertir la tierra en un bonito jardín', '¿ por qué sabemos que los siervos de dios se imaginaban las cosas que dios les prometió ?', 'como vemos , elevaron fervorosos ruegos a favor de su amado hermano', '¡ qué gran honor !', 'idea positiva seré más feliz si paso la página y miro hacia delante', 'lo leí dos veces en un año', 'lo que jesús dijo indica que en aquel momento estaba introduciendo ese nuevo pacto , que reemplazaría al pacto de la ley que jehová había establecido con israel a través de moisés', 'una manera es comparando nuestro modo de pensar con el de los fieles de la antigüedad', 'jehová no se enfureció con elías por desear morir al contrario , lo ayudó', 'gracias a esto , la organización de jehová ha traducido la biblia y se la ha hecho llegar a todos los miembros de las familias y a las personas que desean conocer a dios lea corintios', 'por eso , repasemos los pasos que nos llevaron al bautismo y veamos hasta qué punto estamos siguiendo el modelo de la verdad', 'otra cosa que podría desanimarnos es el deseo de tener más cosas y más dinero', 'algunos hermanos han entrado en debates en línea , y esto ha manchado aún más el nombre de jehová', 'aunque era mucho mayor que yo , nos encantaba predicar juntos', 'ellos se desvivieron por nosotras , y estoy agradecida de poder cuidarlos ahora', 'empecé el precursorado en mi último año de escuela secundaria', '¿ qué ayuda a nuestros hermanos a servir a jehová con alegría ?', 'pero no quiso decir que la mitad de los ungidos serían insensatos', 'mientras más nos acerquemos al fin de este mundo , es muy probable que los gobiernos nos presionen cada vez más para que nos pongamos de algún lado', 'podemos verlos y escuchar sus relatos en el canal jw broadcasting videos > entrevistas y experiencias > se enfrentan a pruebas', 'por desgracia , la espalda me duele cada vez más', 'pero en sus páginas también hay información pensada para sembrar dudas', 'pablo estaba seguro de que jehová podía diferenciar entre quienes lo adoraban sinceramente y quienes solo fingían hacerlo', 'murieron más de personas', 'los testigos de jehová le ofrecerán ayuda personalizada y le enseñarán a aplicar los principios bíblicos en su vida', 'poco después de bautizar a jesús , juan el bautista lo presentó con estas palabras ¡ mira , el cordero de dios que quita el pecado del mundo !', 'pero luego se casó , se mudó y dejó de estudiar', 'los o’dam practican el chamanismo', 'mantengan paz entre unos y otros', 'tomemos como ejemplo a elías', 'si queremos darle devoción exclusiva a jehová , ¿ de qué debemos cuidarnos ?', '¿ cómo demuestra el salmo que puede haber una resurrección mucho tiempo después de haberse predicho ?', 'en hebreo , el concepto de obediencia se expresa con una palabra que significa oír o escuchar', 'sí , pues la biblia indica que moisés y el pueblo entero pasaron por el mar rojo como en tierra seca y que lo hicieron por fe', '¿ qué piensa mucha gente de los que obedecemos las normas de dios ?', 'caín también fue orgulloso', 'por otro lado , hay mucha gente que dice creer en dios pero actúa como si no existiera', '¿ qué podemos preguntarnos sobre la conversación entre las vírgenes insensatas y las prudentes ?', 'todas estas operaciones las ejecuta el uno y mismo espíritu', 'aprenda lo que la biblia enseña sobre ese gobierno jamás se arrepentirá', 'y si alguno se enfermara , seguramente nos encargaríamos de que recibiera atención médica de inmediato', 'así que es lógico pensar que él quiere que su pueblo lo adore de manera organizada', '¿ qué creen algunos sobre las religiones y la gente que hay en ellas ?', 'dos buenas opciones son corintios , donde pablo define el amor , y salmo , donde se enumeran los beneficios de obedecer las leyes de jehová', 'si usted pertenece a una confesión religiosa , puede decirse que su vida espiritual y su salvación dependen de ella', 'del horno ardiente de fuego y de tu mano , oh rey , nos rescatará', '¿ cómo pueden los ancianos ayudar a los cristianos que atraviesan problemas en su matrimonio ?', 'otra ayuda que tenemos a nuestra disposición son las reuniones cristianas', 'a muchos hermanos les encanta predicar en zonas públicas y hablarle a la gente de nuestra página de internet vea los párrafos y', 'al ver que por todas partes había violencia y degradación sexual , podía haberse deprimido', 'sabe qué ropa y qué comida necesitaremos', 'y además , demostraremos que somos buenos amigos de él y que queremos hacerlo feliz', 'estas han sido de gran ayuda , al igual que el ánimo que me han dado dennis el hermano de arthur , su esposa , mavis , y mis sobrinas ruth y judy no tengo palabras para explicarlo', 'y apocalipsis añade que dios hará nuevas todas las cosas', 'si así es , ¿ por qué no les plantea el asunto la próxima vez que los vea ?', 'tenía años , era soldado y me había dado una infección grave', 'dar gracias', 'por ejemplo , me dieron más tareas en la casa para mantenerme encerrada', 'segundo , no tomaron buenas decisiones porque se dejaron influir por lo que pensaban las personas de otras naciones', 'jehová mismo ha establecido firmemente su trono en los cielos mismos y sobre toda cosa su propia gobernación real ha tenido la dominación', 'que cada uno de ustedes individualmente ame a su esposa tal como se ama a sí mismo por otra parte , la esposa debe tenerle profundo respeto a su esposo', 'vivieron como residentes temporales', 'según el historiador judío josefo , herodes llegó a capacitar a sacerdotes como albañiles y carpinteros para que solo personas autorizadas trabajaran en las áreas sagradas', 'jehová santificará su nombre por completo cuando destruya a todos los que lo desprecian y lo rechazan como gobernante', 'porque la predicha destrucción repentina todavía no ha ocurrido', 'un texto bíblico que les ayudó a dar el salto fue el de eclesiastés , que dice el que está vigilando el viento no sembrará y el que está mirando las nubes no segará', 'veamos el caso del patriarca noé y su familia', 'pero está claro que miles de millones de personas son pobres en extremo , mientras que otras tienen dinero para mantener a varias generaciones de sus descendientes', 'alguien así seguramente habría comprado y vendido cientos de ellas', 'refiriéndose a sus hijos espirituales , el apóstol juan escribió no tengo mayor causa de sentir agradecimiento que estas cosas que oiga yo que mis hijos siguen andando en la verdad', 'por favor le dijo – , consígueme un sorbo de agua en una vasija para beber', 'servir a jehová sin distraernos significa que lo más importante en nuestra vida es servir a jehová y que no malgastamos tiempo ni energías en cosas que no son necesarias', '¿ quién fue moisés ?', '¿ por qué sabemos que los testigos de jehová tienen el espíritu de dios ?', '¿ qué propósito tiene jehová para los seres humanos ?', 'un sinfín de personas han aceptado la ayuda de dios', 'jehová nos da tantas cosas y tan variadas que tenemos muchas oportunidades para disfrutar de la vida', 'sin embargo , no emprenden iniciativas destinadas a erradicar las injusticias del mundo y acabar con toda causa de sufrimiento , pues están convencidos de que eso lo hará el reino de dios', 'con la ayuda de sus padres y otros hermanos , alcanzó la meta de ser precursora regular', 'jonatán y los demás israelitas estaban en una situación difícil', 'no es de extrañar que muchos se amotinaran', 'vea la ilustración del principio b ¿ cómo podemos fortalecer nuestra amistad con jehová ?', 'tenemos que esforzarnos por ser agradecidos a jehová', 'lo más importante que uno puede hacer para escapar del lazo de la pornografía es suplicarle ayuda a jehová franz', 'al mismo tiempo , el hermano de ella descubrió que tenía una enfermedad muy grave', 'por supuesto , jehová valora nuestros esfuerzos por servirle', 'al fin y al cabo , si la entera humanidad viviera bajo un único gobierno , nadie sería extranjero', 'a menudo oímos solo lo que nos interesa', 'a quienes más beneficia esta actitud abierta es a quienes ocupan puestos de responsabilidad', '¡ qué insensatez la suya si la resurrección no fuera más que un invento !', 'pero ¿ y ahora ?', 'los apóstoles conocían la profecía sobre el nuevo pacto , que aparece en jeremías léase', 'de hecho , cuando la enseñó estaba hablando de cómo tratar a la gente en general e incluso a nuestros enemigos lea lucas , , ,', '¿ qué ayudará a los mayores a no preocuparse por el futuro más de lo debido ?', 'aun si tuviéramos que defender nuestra fe ante funcionarios de alto rango , tengamos presente lo que dijo jesús no se inquieten acerca de cómo o qué han de hablar porque en aquella hora se les dará lo que han de hablar', 'algunos quizás simplemente tengan la tendencia a pensar mal de sí mismos y de sus circunstancias en la vida', 'saber esto nos guardará , es decir , nos protegerá para que la inquietud y el temor no nos venzan', 'cuando los israelitas se quejaron de los hombres que jehová eligió para dirigirlos , demostraron que no tenían fe en él', 'pero en las reuniones los ancianos me recordaron que cuando mamá les contaba mi situación a otras personas , en realidad les estaba predicando', 'lo que quería era advertir a los ungidos que trabajaran duro y no se volvieran como el esclavo malo', 'pero los rollos eran muy incómodos de usar y de llevar', 'willie le dijo su padre está en el infierno', 'así que se quedaron allí hasta que herodes murió', 'es cierto que había hecho muchas cosas bien y que por años había gozado de la bendición de dios', 'vea el ejemplo que aparece en la atalaya del de febrero de , página , párrafo', 'jesús mismo dio la respuesta no de pan solamente debe vivir el hombre , sino de toda expresión que sale de la boca de jehová', 'pero en vista de que jesús hizo referencia a la buena actitud que ella demostró , podemos concluir que sirvió a jehová hasta el fin de sus días', '¿ y si el hermano no quisiera cambiar ? los ancianos quizás darían un discurso para explicar que esa conducta puede hacer que otros hablen mal de la congregación', '¿ qué preguntas vamos a responder en este artículo ?', '¡ qué contento se pondrá jehová cuando nos premie por nuestra fidelidad !', 'esto prueba que jehová es el que guía a su pueblo', 'estas son cosas que todas las familias cristianas deberían hacer', 'sería enterrado junto a los ricos léase isaías , ,', 'claro que sí , pues la prosperidad espiritual solo es posible con la bendición divina', 'algunos hermanos utilizan parte de su adoración en familia o estudio personal para investigar estos asuntos y pensar en ellos', 'si hacen todas estas cosas , su unión los hará felices y alegrará a su padre celestial', 'por eso , no importa si nuestra esperanza es vivir para siempre en el cielo o en la tierra jehová nos da a todos el poder más allá de lo normal que nos permitirá mantenernos fieles y alcanzar la recompensa', 'en los países en vías de desarrollo , aproximadamente cada dos minutos muere una mujer durante el embarazo o el parto por falta de atención médica básica', 'jesús fue descendiente de ambos', 'por un lado , la angustiaba la dolorosa pérdida de su esposo , y por otro , sufría a causa de la avaricia de los líderes religiosos de aquella época , que devora ban las casas de las viudas en lugar de socorrer a estas mujeres necesitadas', 'a mucha gente en japón le interesan estos temas', 'por eso , si nos parece que lo que hicimos fue muy malo , no dejemos de pedirle a jehová que nos perdone', 'dos años y medio después del tsunami les ofrecieron el tratado ¿ será posible que los muertos vuelvan a vivir ?', 'por ejemplo , algunos ayudamos a construir y mantener salones del reino y salones de asambleas', 'estos dos artículos explican por qué alguien sabe que dios lo ha invitado a ir al cielo y lo que significa ser ungido', 'si realmente amamos a dios y al prójimo , nunca veremos esta obra como una carga o una simple obligación , sino como un gran honor que cumplir gozosamente', 'toda esta investigación requiere tiempo y esfuerzo , pero impedirá que nos precipitemos y nos ahorrará muchos dolores de cabeza', 'pero la verdad es que no entiendo cómo nos salva su muerte', 'c ¿ qué está usted decidido a hacer ?', 'el vínculo entre padres e hijos es tan fuerte que jehová lo ha utilizado para ilustrar el amor que él mismo siente por su pueblo', 'por eso vamos a la conmemoración todos los años', 'b ¿ por qué no es posible tener paz completa hoy día ?', 'no dé por sentado que tienen fe en jehová solo porque van a predicar y a las reuniones', 'pues bien , jehová conoce muy bien el peligro de confiar en algo irreal', 'es probable que usted nunca haya conocido en persona al jefe de una organización criminal', 'el sinaítico siríaco tampoco tiene la conclusión larga , una prueba más de que no es parte del evangelio de marcos , sino que se añadió posteriormente', 'la expresión un solo jehová significa varias cosas', 'si a nosotros nos sobreviniera una tragedia o pasáramos por algún problema , podríamos caer en la misma trampa que ellos y decir en nuestro corazón ¿ dónde estaba jehová cuando yo lo necesitaba ?', 'recuerde que la disciplina de jehová nos muestra lo sabio que es él y lo mucho que nos ama', 'como vemos , satanás no tiene ningún futuro ¡ pero usted sí lo tiene !', 'todos los hermanos , hasta los que tienen muy poco , son como los cristianos de macedonia del siglo primero', 'creía que jehová quería desecharlo', 'los cristianos sacamos tiempo todas las semanas para adorar a jehová tanto individualmente como en grupo', 'la biblia menciona el ataque de gog de magog , el ataque del rey del norte y el ataque de los reyes de la tierra', '¿ está bien hablar de dios a los hijos ?', 'muchas personas acuden a estos lugares convencidas de que sus oraciones serán escuchadas por ofrecerse en un lugar sagrado', '¿ qué efecto tendrá en nosotros la paz de dios que supera a todo pensamiento ?', 'pedir por los demás', 'en ese trabajo me enfermé de la grave infección que ya conté', '¿ y qué hay de los ataques indirectos ?', 'lo que aprendí me hizo mejor persona', 'llegan a la boda como si fueran los protagonistas de un cuento de hadas , pensando que nada en el mundo podrá empañar su alegría', 'unos treinta años más tarde , el apóstol pedro , quien había estado presente en aquella cena , animó a sus hermanos en la fe a cultivar la humildad', 'husai tuvo que ser muy valiente para obedecer a david y ser leal a jehová', 'algunos de los tesoros que nos da son el reino de dios , la predicación y las valiosas verdades de su palabra ¿ verdad que los agradecemos mucho ?', 'en vez de producir buen fruto practicando la adoración pura y comportándose como fieles testigos de su dios , los israelitas produjeron el fruto podrido de la idolatría', 'él reconoció que los cristianos de corinto eran fieles gracias a su fe en dios , no gracias a él o a otras personas', 'me sorprendió mucho la manera en la que aquel testigo usaba la biblia para contestar preguntas', 'según enseñó jesús , ¿ qué debería ser lo más importante en la vida ?', 'el profesor yosef garfinkel fue uno de los arqueólogos que participó en el descubrimiento él dijo que es interesante que este nombre solo se mencione en la biblia en la época del rey david y que ahora también aparezca en el registro arqueológico de ese tiempo algunos expertos piensan que este nombre solo se usó en esa época', 'tal como prometió , seremos libres de verdad cuando aplique por completo sobre nosotros los beneficios del rescate', 'el anciano profeta sabía que los muertos están descansando y que en la tumba no hay formación de proyectos ni conocimiento ni sabiduría', 'siempre nos da justo lo que necesitamos para superar cada problema', '¿ comprende lo que podría ocurrir si desatendiera su espiritualidad y la de su familia ?', 'quizás crea que tiene derecho a hacer lo que quiera y que nadie le puede decir lo que debe hacer', 'por esa razón , pablo incluyó en sus cartas a timoteo y tito algunos consejos que destacan la importancia de comportarse con seriedad y que nos ayudan a contrarrestar la actitud frívola de este mundo léanse timoteo , y tito', 'una pareja explicó qué cualidades les ayudaron a ellos a tener un matrimonio feliz', 'las congregaciones se benefician mucho cuando tienen más hermanos entrenados', 'párrafo abrahán y sara al principio se llamaban abrán y sarai pero jehová les puso los nombres abrahán y sara', 'ciertamente , el propósito divino sobre el israel de dios se está cumpliendo de un modo maravilloso', '¿ cómo podemos resistir estas presiones ?', 'probablemente se irá y buscará otro restaurante', '¿ cómo podemos ser súbditos leales de su reino y convertirnos en hijos perfectos de su familia universal ?', 'ya lleva treinta años en el servicio de tiempo completo', 'será como las personas de las que jehová dijo mediante jeremías ustedes realmente me buscarán y me hallarán , porque me buscarán con todo su corazón', 'gracias a que jesús murió , nuestros pecados pueden ser perdonados y existe de nuevo la posibilidad de vivir para siempre en la tierra', '¿ qué quiso decir pablo cuando habló de rectificar las cosas ?', 'cuando nos invadan los sentimientos negativos , oremos a dios y meditemos en asuntos edificantes y dignos de alabanza léase filipenses', 'b ¿ por qué era una decisión tan difícil ?', 'en efecto , dios dispuso que adán , eva y el resto de la humanidad dominaran a los animales', 'la ley les recordó que eran imperfectos y los ayudó a entender que necesitaban el rescate , o sea , un sacrificio perfecto que borrara para siempre sus pecados', 'esto significa que deseamos que se limpie su nombre ¿ cómo demostramos que valoramos el honor de conocer y de llevar el nombre de jehová ?', 'pero también es cierto que es más fácil quitarle la vida a alguien con un arma , sea a propósito o por accidente', 'entre las instrucciones para la celebración anual de la pascua estaba el siguiente mandato cuando sus hijos les digan ‘ ¿ qué significa este servicio para ustedes ? ’ , entonces tienen que decir ‘ es el sacrificio de la pascua a jehová , que pasó por alto las casas de los hijos de israel en egipto cuando plagó a los egipcios , pero libró nuestras casas ’', 'después de sedequías , el único descendiente de david que contó con la promesa de recibir el reino fue jesús', 'no prometa cosas que no planea cumplir', 'b ¿ por qué debemos pensar en cuánto nos ama jehová ?', ', a ¿ qué cosas incluye el regalo que dios nos ha hecho ?', '¿ cómo la sabía ?', 'en efecto , dios sigue anhelando resucitar a los muertos para que disfruten de una vida feliz eso es lo que desearía todo padre que ha perdido a un hijo', 'al final de los mil años , la humanidad obediente ya estará libre del pecado y la muerte', 'jehová organiza a su pueblo significa que jehová nos dice cómo debemos adorarlo en la congregación', 'ese reino es un gobierno que ya existe y que hará que la tierra vuelva a ser un paraíso', 'también hablaremos de cómo nos ayudarán los principios bíblicos a aguantar', 'para lograrlo , muchas veces necesitamos la ayuda de los ancianos de la congregación', 'la nube de testigos', '¿ qué razones hay para que se pongan metas espirituales y den prioridad a la predicación ? este artículo da la respuesta', 'jefté no quiso decir que iba a matar a la primera persona que saliera a recibirlo', '¿ cómo podemos contribuir a la unidad de la congregación ?', 'que si la biblia no dice que una historia representa algo en el futuro , los seres humanos no tenemos forma de saber si es cierto o no', 'estudie las profecías que ya se han cumplido y fortalecerá su fe', 'no permita que nada lo aleje de jehová , / no se dejen confundir , /', 'estuvo en nueve prisiones diferentes lo que yo le había contado de mis vivencias en la cárcel lo ayudó a aguantar', 'si te niegas a adorarlos , estás insultando nuestra religión', 'b ¿ cómo se beneficiaban los israelitas si hacían caso ?', 'como si fuera un tutor , la ley había cumplido con su misión de conducir a los judíos a cristo', 'b ¿ qué está usted decidido a hacer ?', 'si tenemos la mente puesta en el espíritu , también disfrutaremos de una paz especial , la paz con dios', 'como resultado , se propone no recurrir más a las burlas y palabras hirientes que a veces usa al hablar con su esposo y otras personas', 'ellos todavía están en el servicio de tiempo completo en kenia * vea la nota', 'honrar y alabar a jehová nos enriquece en sentido espiritual', 'los líderes religiosos de israel se aliaron con roma para atacar a jesús , y la mayor parte de la nación también lo rechazó', 'si nos preocupamos demasiado , podemos empezar a confiar en nosotros más que en jehová', 'testigos de una tribu refugiaron a los de otra a riesgo de su propia vida', 'el mensaje del reino tiene el poder de cambiar a la gente incluso en países donde la ley prohíbe a los hermanos predicar con libertad', 'para obtener respuesta a estas preguntas , ¿ qué le parece si analizamos lo que enseña la biblia ?', '¿ aceptarán todos a jesús como su rey ?', 'algunos incluso desarrollan tendencias suicidas', 'sí , lea toda la biblia con el objetivo de hallar joyas que lo guíen en la vida y fortalezcan su fe', 'si usted desea entenderla , comuníquese con los testigos de jehová', 'cuando leí en el artículo que , ‘ para muchos , la batalla contra los malos deseos es feroz ’ , sentí que no estaba solo , que era parte de la familia mundial de hermanos', 'luego , les dijeron a milan y a su hermano que subieran a su automóvil para cruzar la frontera , porque los soldados no comprobaban los documentos de los niños', 'la mayoría de los que afirmaban ser cristianos se hicieron apóstatas , es decir , rechazaron la verdad y aceptaron enseñanzas religiosas falsas', 'es cierto que orar en esas situaciones puede ser muy difícil tal vez lloremos y se nos quiebre la voz', 'imaginémonos que estamos viviendo en los días de elí y nos damos cuenta de que él está dejando que sus hijos hagan cosas muy malas', 'además , promueve la fe en el rey reinante de dicho gobierno , jesucristo , quien murió para que pudiéramos alcanzar la vida eterna', 'esto demuestra que somos la religión verdadera', 'un anciano notó que el joven necesitaba ayuda , así que lo animó a hablar con los ancianos', 'cuando tuvo claro que estaban arrepentidos , les reveló su verdadera identidad', 'él lo tranquilizó asegurándole que perdonaría a sodoma si encontraba tan solo cincuenta personas justas en ella', 'si alguien ha de golpear en la mandíbula a sus enemigos , no es él , sino dios', 'que vuelva el hombre de dios que nos enviaste , para que nos enseñe cómo criar al niño que va a nacer', '¿ cómo veía pablo a quienes trabajaban duro a favor de las buenas nuevas ?', '▪ cómo capacitar a otros', 'aunque tendrá aplicación en nuestros tiempos , todavía no sabemos de qué forma deberemos huir', '¿ cómo dará comienzo el ataque de la bestia salvaje ?', 'las personas necesitan paz desesperadamente', 'por ejemplo , una hermana llamada shannon recuerda cómo se sintió en la asamblea de distrito devoción piadosa', '© paul lowe / panos pictures', 'los soldados suelen realizar una serie de intensos ejercicios militares mucho antes de que siquiera surja la posibilidad de entrar en combate', 'puede que a veces algunos hablen sin pensar , como hizo job', 'de lo contrario , podría parecer que sus enemigos son más poderosos que él , algo totalmente absurdo', 'veamos el caso de un hermano llamado walter thorn', 'su esposa trató de calmarlo , pero no pudo', 'b ¿ cómo nos ayuda el ejemplo de abrahán ?', 'la biblia dice que samuel continuó creciendo con jehová', 'conozcamos mejor a jehová y su propósito , y acerquémonos cada vez más a él', 'no puede hacerlo todo bien', 'lo que hizo fue señalar que la soltería les proporciona a los proclamadores del reino una ventaja ¿ cuál ?', 'predicar en un territorio donde casi nadie escucha el mensaje del reino puede ser desalentador', 'piense en las múltiples ocasiones en que jehová ha cuidado a quienes se han negado a violar su neutralidad cristiana', '¿ conoce usted a otros hermanos mayores que hacen la voluntad de jehová con entusiasmo ?', '¡ qué rápido cambió la situación !', '¿ estás listo para tomarla ?', 'tal vez se tratara de una enfermedad crónica en los ojos', 'cuentan que una señora de edad avanzada les dijo si los testigos de jehová han llegado hasta aquí , ¡ eso es que el fin está muy cerca !', '¿ podría ser que lo que hicieron fuera un síntoma de otro problema ?', 'debemos seguir el ejemplo de jesús y hablarle a todo el mundo de las maravillosas promesas de dios', '¿ encaja esta manera desinteresada de comportarse con lo que dijo jesús sobre el amor ?', 'ya hemos mencionado las que efectuó jesús cerca de naín y en la casa de jairo', 'nací en en el estado de queensland australia', 'de modo que cedió a la presión y acabó haciendo la voluntad del diablo', 'la clave para reducir dicho estrés está en relacionarse lo más frecuentemente posible con los hermanos cristianos , quienes de veras se interesan por uno y le sirven a jehová con un corazón completo', 'de forma similar , estudiar a fondo el artículo anterior que nos mostró lo que está logrando la organización de jehová debería contribuir mucho a mantener nuestro entusiasmo y seguir aguantando', 'en , mi esposa y yo viajamos a kazajistán , a la ciudad de alma atá hoy almaty , para asistir por primera vez a una asamblea grande', 'así es , dios les dio a bezalel y oholiab la destreza necesaria para efectuar todo el trabajo que les había encargado', 'proverbios dice que una buena palabra dicha en el momento correcto es como manzanas de oro sobre adornos de plata', 'si el propio jesús citó estas palabras , ¿ cómo podría contradecirlas un cristiano verdadero ?', 'si desea más información , consulte las páginas a y a del libro ¿ qué enseña realmente la biblia ?', 'el propio hijo de dios enseñó que esto es así lea lucas ,', 'pablo compara la congregación cristiana a una casa grande , y los miembros de la congregación a vasos , o utensilios', 'si nos inquieta tener invitados , no somos los únicos', 'cuando te dedicas a jehová , le estás diciendo que de ahí en adelante tu vida le pertenece a él', 'porque tenían miedo de que la gente sincera leyera la biblia y se hiciera preguntas como ¿ dónde dice la biblia que existe el purgatorio ?', '¿ de qué manera podemos ayudarlas a creer en jehová si , como bien dice la biblia , ningún hombre lo ha visto jamás ?', 'efectivamente , el sabio considera sus pasos con cuidado', 'al final disfrutaremos de una libertad todavía mayor la que jehová les tiene preparada a sus siervos leales', ', a ¿ qué satisfacción podrá tener si utiliza bien los nuevos tratados ?', 'como esa noche no había muchos pacientes que atender , me puse a leer el libro la verdad', 'la biblia dice jehová el dios de sus antepasados siguió enviando avisos contra ellos por medio de sus mensajeros , enviando vez tras vez , porque sentía compasión por su pueblo y por su morada', 'con el objetivo de proteger a esa descendencia y garantizar que el reino mesiánico lograra sus fines , jehová estableció otros acuerdos legales', 'y la mayoría de las galaxias se agrupan en cúmulos , que a su vez forman agrupaciones aún mayores llamadas supercúmulos', '¿ y nosotros ? ¿ hemos predicado a la gente que encontramos en la calle ?', 'pero tal vez se estén haciendo mayores y ya no puedan hacer tanto como antes los hermanos más jóvenes pueden ser muy útiles', 'boaz le mostró bondad a rut porque ella trató con amor leal a su suegra , noemí', 'en fue arrestado y encarcelado de por vida', 'la comunicación entre los padres es indispensable para disciplinar con coherencia', 'se apareció a más de quinientos hermanos de una vez después de eso se apareció a santiago , luego a todos los apóstoles pero último de todos también se me apareció a mí', 'zacarías profetizó sobre el mesías ponte muy gozosa , oh hija de sión', 'si lo hacemos , nos protegerán nuestro rey y sumo sacerdote y los ángeles que conducen los carros', 'de igual modo , los ancianos han de dirigir la congregación y ayudar a todos sus miembros a estar en sujeción a jehová', 'pero las escrituras también utilizan este nombre en sentido simbólico', 'por eso no es raro que en algunos países haya quienes muestren pancartas en partidos y espectáculos , pongan letreros en sus autos o pinten grafitis con este versículo', 'por ejemplo , el presidente de estados unidos le pidió a la gente que el de mayo de orara por la paz la edición en inglés de esta revista animó a los estudiantes de la biblia a hacerlo también', 'dedicarle tu vida a jehová es la mejor decisión que puedes tomar', 'así que invitó a los mismos hermanos a una comida en su casa , pero no invitó a evodia', 'aquel orgulloso gobernante se negó , así que jehová golpeó al país con terribles plagas', '¿ qué aplicación dio cristo a esta parábola ?', '¿ qué necesitan los matrimonios para ser fuertes ?', 'en nuestros días , el terremoto que devastó haití en enero de se cobró vidas , según informes del gobierno , y arrasó el país sin hacer ningún tipo de distinción', 'una testigo de gran bretaña llamada octavia dice colaborar con jehová me une a él y también a mis hermanos', 'casi ocho millones ya lo han aprendido y se lo están enseñando a otras personas', 'dijo que la persona feliz es la que mira con cuidado en la ley perfecta que pertenece a la libertad , y persiste en ella', 'esto fue muy especial para ellos , porque pudieron servir en betel con su hija y su yerno', 'la biblia nos ayuda a vivir una mejor vida , a conseguir la aprobación de dios y a alcanzar la vida eterna', 'su tono de voz y su lenguaje corporal les dará una idea de lo que él siente y piensa', 'debido a esta mala decisión , nuestros primeros padres perdieron la oportunidad de vivir para siempre y nos transmitieron el pecado , la imperfección y la muerte', 'pero piense un poco ¿ es dios el culpable de los problemas que ha vivido , o más bien la fuente de sus bendiciones ?', 'más o menos un año después , victor vinter , un fiel hermano que pasó por muchas dificultades , se trasladó a sokuluk', '¿ será dios el culpable ?', 'a él no le agradará que busquemos la salvación en el poder del caballo ni que confiemos en las piernas del hombre', 'hasta oraba por quienes lo habían tratado mal', 'claro , jesús también amaba y respetaba a otras mujeres', 'o tal vez está luchando con una enfermedad desde hace mucho tiempo', '¿ qué les va a pasar a las películas , publicaciones , canciones y páginas de internet malas ?', 'nos alegra mucho ver cómo jehová hace que la verdad esté cada día más clara', 'según indicó jesús , ¿ qué posición adoptarían sus discípulos ante el mundo ?', 'si usted ya ha entrado en esa etapa , le presentamos algunos consejos bíblicos sencillos pero muy prácticos', 'la capacidad de expresar a otros lo que pensamos y sentimos es un regalo precioso de jehová', 'sin embargo , al poco tiempo , me alisté en una clase de ejército muy diferente', 'en el mismo pasaje , pablo añade que la palabra de dios penetra hasta dividir entre alma y espíritu , y entre coyunturas y su tuétano , y puede discernir pensamientos e intenciones del corazón', '¿ cómo podemos ayudar a los hermanos que están en la cárcel ?', '¿ cómo ha ido revelando jehová su nombre ?', 'luego le dijo quiero sé limpio', 'en parte , porque a lo mejor pronto necesitaremos que la persona tenga que hacernos el favor de perdonarnos', 'todos los cristianos verdaderos queremos imitar al gran pastor , jehová', 'vea la ilustración del principio b ¿ qué nos atrae del reinado de dios ?', '¿ cómo podría ocurrirnos eso ?', 'cuarenta años después , moisés recalcó la importancia de conseguir hombres sabios y sensatos y experimentados para que fueran jueces', 'en el , más de de testigos de jehová dirigieron casi cursos bíblicos cada mes en países y territorios', 'viajemos en el tiempo al siglo primero', 'muchas personas que han estado en la cárcel no han perdido la dignidad', 'pensando que zafenat panéah no los entendía , los diez hermanos se pusieron a hablar de lo que habían hecho con josé veinte años atrás indisputablemente somos culpables tocante a nuestro hermano , porque vimos la angustia de su alma cuando suplicaba de nosotros que tuviéramos compasión , pero no escuchamos', 'david prosigue hay muchos que dicen ‘ ¿ quién nos mostrará lo bueno ? ’', 'el barómetro global de la corrupción , publicado por transparencia internacional , informó que , según la ciudadanía , los primeros cinco lugares en nivel de corrupción los ocupan los partidos políticos , la policía , los funcionarios públicos , el poder legislativo y el poder judicial', 'pero incluso un cristiano que no ha cometido tales pecados podría estar alimentando un mal deseo en su corazón lea mateo ,', 'nuestra lucha más difícil es la que peleamos contra satanás y su mundo', 'si es así , el ejemplo de pablo puede ayudarnos', '¿ qué piensan muchas personas sobre la religión ?', 'no solo demostrará que desea servir a jehová , sino también que lo conoce cada vez más', 'el mensaje del reino nos hace muy felices , pues jehová nos promete que su reino pronto acabará con este mundo malo y nos traerá un paraíso', 'por un lado , gracias al espíritu santo , pero también porque estaba convencido de que jesús había resucitado y estaba vivo', 'piensan que pueden divorciarse cuando quieran si las cosas no salen bien pero los cristianos no vemos el matrimonio de esta manera', 'jehová es ese amigo él fue un buen amigo del fiel abrahán , como leemos en isaías', 'servir en japón , nepal y bangladesh me ha enseñado muchas cosas sobre jehová', 'él nunca ha mentido y nunca lo hará', '¿ cuándo comenzó jehová a tener un pueblo en la tierra ?', 'observemos cómo ilustra este hecho un suceso ocurrido durante la vida de david', 'finalmente , la proporción fue de israelita por cada madianitas', '¿ qué debe tener muy presente todo anciano al amonestar a sus hermanos ?', 'si hubiéramos estado presentes en esas ocasiones tan gozosas , es probable que también nos hubiéramos emocionado muchísimo', 'por otro lado , los esposos las dominarían y en algunos casos hasta las maltratarían , como vemos que sucede hoy', 'puesto que todo gobierno necesita un dirigente , jehová dios ha nombrado a su hijo , jesucristo , como rey de su reino', 'por medio de una campaña de predicación mundial , ya ha logrado que millones de personas de todas las naciones aprendan acerca de los caminos de dios', 'esto significa que jehová hará por nosotros muchísimo más de lo que le pedimos', 'todos estos años he visto cómo jehová cuida a todas las personas , hasta a las que hablan idiomas que casi nadie conoce', 'eliminará a los malos , pero dará vida eterna a quienes reconozcan su autoridad', 'algo más que podemos hacer si amamos a jehová y a jesús es predicar y enseñar a otros con entusiasmo', 'al hacer este análisis , recordemos que él esperaba que los israelitas siempre le sacrificaran lo mejor que tuvieran', 'continúe pidiéndole ayuda a jehová', '¿ qué oportunidad les dio jehová a los israelitas , y qué promesa hicieron ellos ?', 'por supuesto , los cristianos verdaderos no cometen ningún asesinato', 'vea la nota del título del libro de daniel', 'hay águilas que han muerto ahogadas porque atraparon un pez demasiado pesado y no quisieron soltarlo', 'objetivo proteger a la descendencia y ayudar a los seres humanos a reconocer al mesías', 'por tanto , sigamos aprendiendo más sobre jehová así descubriremos más razones para amarlo', 'se había repetido hasta el convencimiento que dios estaba muy lejos de ella', 'el ejemplo de sara me ha enseñado que no está mal que hable y le diga a mi esposo lo que pienso explica jill , una mujer que ha estado felizmente casada durante más de treinta años\\u2060', 'recordemos que la tristeza puede regresar en cualquier momento', 'los desastres naturales ¿ son castigos de dios ?', '¿ por qué razón pueden mirar al futuro con confianza todos los que honran el nombre de jehová ?', 'primero le tocará el turno a babilonia la grande , el imperio mundial de la religión falsa', 'si queremos que se fortalezca nuestra fe y así evitar el pecado que fácilmente nos enreda , hemos de estudiar el ejemplo de los hombres y mujeres del capítulo de hebreos y esforzarnos por imitarlo', 'pero podrá afrontar mucho mejor la situación si tiene planeado lo que hará en caso de que ocurra', 'al final , la dieta y los productos no dieron los resultados esperados , y muchos hermanos se enojaron', 'los reyes séptimo y octavo existen durante el tiempo del fin', 'jehová , por su parte , bendice los esfuerzos que realizan para sostener a los suyos , tal como promete su palabra', '¿ evitamos a esos hermanos y solo pasamos tiempo con los que tienen la misma cultura y costumbres que nosotros ?', 'jesús , el hijo de dios , nunca afirmó que fuera igual o de la misma sustancia que su padre', 'la biblia dice que por la bondad inmerecida de dios jesús probó la muerte por todo hombre', 'cuando el profeta zacarías terminó de ver la séptima visión , ¿ cuál era la situación de los judíos que estaban en jerusalén ?', '¿ por qué puede fortalecer tu fe la predicación ?', 'los que nos hemos dedicado a jehová somos millones', '¿ por qué los cristianos no necesitamos estar mirando el reloj para mantenernos despiertos ?', 'por otro lado , veía que otros se habían ido lejos y sus familias parecían sobrevivir en sentido espiritual', 'contamos con tres importantes factores que , combinados , permiten determinar , como si de una huella digital se tratara , quién fue el mesías prometido', 'a su vez , esto lo protegió , sobre todo de hacer algo que dañara su amistad con jehová', 'en este artículo , hemos visto que una manera de lograrlo es centrándote en metas espirituales y tomando en cuenta a jehová en todos tus planes', '¿ qué receta da la biblia para tener paz mental ?', 'si tomamos buenas decisiones , es probable que nos evitemos muchos problemas y que vivamos más tranquilos', 'veamos un ejemplo la biblia da una lista de requisitos para los ancianos de congregación lea timoteo', 'el apóstol pablo estaba preso en roma , pero esperaba que pronto lo dejaran libre', 'también veremos cómo seguir su ejemplo', 'de ese modo , la nación de israel fue testigo viviente de que jehová es el dios verdadero y de que siempre cumple lo que promete', 'además , puede que empecemos a ver las buenas cualidades que jehová vio en él cuando lo atrajo a la verdad', 'el profeta no podía soportar que dios quedara desacreditado por permitir que aquella amable y hospitalaria mujer sufriera aún más', 'c ¿ qué ayudará a los casados a no tomar a la ligera la decisión de separarse ?', '¿ por qué es diferente ?', 'predicar en lugares públicos significa sacar tiempo para ir a lugares como parques o estaciones de autobús para hablar con la gente', 'el apóstol quería fortalecer a todos sus hermanos en la fe , pues el diablo merodeaba como un león que quería devorarlos', 'con el tiempo me hice amiga de una vecina llamada angelines , que también era testigo', 'muchas de las enseñanzas falsas de la iglesia se basaron en las ideas de los filósofos aristóteles y platón , que vivieron cientos de años antes de cristo', 'mi diploma de galaad', 'otra manera como jehová nos ayuda es mediante los ancianos de la congregación', 'como vemos , es imposible explicar qué siente un ungido a alguien que no lo es vea la nota al final del artículo', 'por lo tanto , podemos tener plena confianza en que lo que hacemos por jehová con un corazón limpio nunca es en vano , pues él siempre lo recompensa', 'podía controlar sus malos deseos , y eso le traería buenas consecuencias o podía dejar que sus malos deseos lo controlaran , y eso le traería malas consecuencias', 'por eso , sigamos leyendo y poniendo en práctica todos sus consejos y enseñanzas', '¿ cómo podemos ayudar a hacer más hermoso nuestro paraíso espiritual ?', 'si caemos , levantémonos y sigamos caminando , aunque para ello necesitemos pedirles ayuda a los ancianos', 'la verdad que lleva a vida eterna', '¿ aprovechamos el honor de participar en ellas ?', 'y no era poca cosa , pues tenía que construir el arca , aprovisionarla con comida y forraje , reunir los animales , predicar un mensaje de advertencia y velar por la espiritualidad de su familia', 'además de las cinco profecías analizadas , la biblia también predijo algunos rasgos positivos para estos últimos días', 'con frecuencia oímos a no testigos hablar de lo satisfechos que se sienten al tratar con nosotros', 'pero su padre , zelofehad , de la tribu de manasés , había muerto sin dejar descendientes varones', 'por ejemplo , escribió en la parte final de los días la montaña de la casa de jehová llegará a estar firmemente establecida por encima de la cumbre de las montañas , y ciertamente será alzada por encima de las colinas y a ella tendrán que afluir pueblos', 'ilustrémoslo con un ejemplo los sistemas políticos humanos son como pequeños botes arrastrados por una poderosa corriente los espíritus malvados', '¿ a qué nos referimos ? la biblia lo explica en deuteronomio , léalo', 'otro escritor religioso de aquel tiempo explicó que otra historia bíblica representaba algo en el futuro', 'regocijémonos en nuestra esperanza', '¿ cómo sabemos que dios se interesa en cada uno de nosotros ?', 'el amor también cree todas las cosas', 'la biblia nos advierte que no debemos empezar una relación con una persona que no sirve a jehová , porque somos tan diferentes como la luz y la oscuridad', 'por eso , si un joven demuestra que es maduro y ya se ha dedicado a jehová , es importante y apropiado que se bautice', 'b ¿ de quiénes hablaremos en este artículo ? la biblia dice tres veces que abrahán era amigo de jehová', 'pero ¿ en qué ha estado centrada la parte visible de la organización ?', 'refiriéndose a una famosa descripción que se encuentra en el capítulo del libro de ezequiel , relata la lección que aprendió jehová conduce su carro , su organización , a la velocidad que él decide', 'impresiones de arcilla con nombres bíblicos , / jardín de edén , /', 'es una experiencia emocionante , una escuela que los prepara para la vida bajo el reino de dios , cuando todos disfrutemos de servirle a plenitud día tras día', 'la ley de moisés prohibía cometer adulterio', '¿ de qué formas contribuyen los ancianos al gozo de sus hermanos en la fe ?', 'escritores la escribieron unos cuarenta hombres en un período de mil seiscientos años , desde el antes de nuestra era hasta el de nuestra era', 'aprenda cómo llegó a existir el diablo en el capítulo del libro ¿ qué enseña realmente la biblia ?', 'las expresiones mediante el uso y entrenadas denotan un esfuerzo continuo y repetido , la clase de esfuerzo que tienen que hacer quienes llevan poco tiempo en la verdad lea hebreos ,', 'más tarde , jacob , nieto de abrahán , se mudó a egipto', 'a los testigos de jehová se les conoce por la ayuda que se prestan unos a otros', 'no obstante , pagó muy caras sus malas acciones', '¿ cómo podría traicionarlo ?', 'aquella acción divina tuvo que acallar a la gente que estuviera burlándose allí cerca', '¿ por qué debemos seguir el consejo de no estar admirando personalidades ?', ', a ¿ qué debemos evitar si queremos recibir la ayuda de dios ?', 'también podemos pedirle a dios que nos dé sabiduría para ver cuándo se pone a prueba nuestra neutralidad y fuerzas para hacer lo correcto', '¿ qué debe ayudarnos a tomar decisiones sabias ?', 'y dios mismo afirmó que las cosas que job había dicho de él eran verdad', 'por desgracia , ellos dejaron a jehová', '¿ qué debemos seguir haciendo ?', 'si los imitamos , apreciaremos aún más el privilegio de servir a dios y tenerle como nuestra herencia', 'lea timoteo ,', 'nuestras publicaciones la usan para enseñarnos que no debemos juzgar a las personas por su país , su raza o su cultura , y que debemos ayudarlas a conocer a jehová', 'si usted es un padre inmigrante , ¿ cómo puede ayudar a sus hijos a amar a jehová y a seguir andando en la verdad ? ¿ y cómo pueden ayudarlos otros miembros de la congregación ?', 'los seres humanos serían sus hijos , y él sería su padre', 'si la biblia dice que dios es imparcial y que acepta a todo el que le teme , ¿ quién soy yo para odiar a la gente por su tribu o su idioma ?', 'a partir de ese momento , jehová gobernará directamente a los seres humanos , que ya serán perfectos', '¿ significa el hecho de que eva fuera creada como complemento de adán que era inferior a él ?', 'israel era una nación dedicada a dios', 'como vemos , este era un asunto importante relacionado con la adoración a dios , y cada cristiano tenía que decidir lo que iba a hacer', 'lea proverbios y jeremías', 'jehová nos da el honor y la oportunidad de apoyar la enorme obra del reino en nuestros días', 'qué supone eso para nosotros el patrón que siguen los castigos divinos del pasado nos da esperanza', 'mire la ilustración de esta página', 'nos explicó que contenían las letras hebreas del nombre divino y que eran muy importantes', 'aunque quebrantó su ley deliberadamente y con pleno conocimiento de las consecuencias , le echó la culpa a jehová diciendo , con otras palabras , que le había dado una mala esposa', 'por eso los propagandistas tratan de debilitar la lealtad de los soldados', 'saben que llegará un momento en que jehová considerará que la obra ha cumplido su propósito , y entonces , como indica la profecía de mateo , vendrá el fin', 'si tenía que subir una cuesta , mi compañera me empujaba y si teníamos que bajarla , ella se subía al triciclo conmigo', '* ¿ cómo es posible que supiera con tanta exactitud lo que le iba a ocurrir ?', 'pero jehová me bendijo con una estudiante de la biblia que progresó muy rápido', 'seguir los consejos de la palabra de dios en aspectos tan íntimos lo ayudará a quedarse despierto espiritualmente y conservar su buen juicio', 'en el famoso sermón del monte , jesús dijo felices son los de genio apacible , puesto que ellos heredarán la tierra', 'los ancianos de tu congregación son hombres capacitados en sentido espiritual que también pueden guiarte', 'otra forma como demostramos que somos compasivos es haciendo cosas para ayudar a otros', 'no quiero escuchar nada de tu religión', 'esto sucederá después de que empiece la gran tribulación , pero antes de que empiece el armagedón', '¿ qué opina de la necesidad de ser hospitalarios en la congregación ?', 'manejan tanto dinero que muchos funcionarios se sienten tentados a robarlo otros aceptan sobornos de individuos que esperan a cambio una reducción de impuestos', 'debemos mantener el equilibrio para no descuidar nuestras principales obligaciones , es decir , el cuidado de nuestra familia y nuestra adoración a dios', 'lea colosenses ,', '¿ en qué sentido triunfó pablo en la vida ?', 'por ejemplo , noé hizo un arca para que él y su familia se salvaran del diluvio', 'podemos comprender muy bien sus desengaños , dudas , miedos e imperfecciones , así como alegrarnos con sus alegrías y triunfos', '¿ cómo había visto maría el espíritu santo en acción ?', '¿ perciben ellos que está profundamente convencido de que jehová sigue protegiendo a sus siervos ?', 'en lugar de seguir a las masas , ignorando las señales de que estamos viviendo en los últimos días , debemos tener muy presente la presencia del día de jehová', 'manteniéndose alerta conforme a la palabra de dios', 'advertencias sobre los sacrificios', 'todas estas situaciones tienen que ver con un fenómeno que los científicos llaman ceguera por inatención no darse cuenta de algo , o bien olvidar algo , por estar distraído con otra cosa', 'por ejemplo , les dijo que fueran amables , que buscaran estar en paz con los demás , que se esforzaran por no sentir cólera , que resolvieran los conflictos lo antes posible y que amaran a sus enemigos', '¿ por qué fue pablo tan directo con los cristianos hebreos ?', 'jehová se aseguró de que sobrevivieran', '¿ tienes tú ese deseo ?', 'como hemos visto , algunas se hicieron realidad durante sus primeros años de vida y otras durante su ministerio', 'así que fueron responsables de su asesinato', 'escribió', 'después de pasar por aquellas partes , y de animar con muchas palabras a los de allí , entró en grecia', 'yo lo haré más por un sentido del deber mi hermana lo hará más por amor', '¿ habría hecho jesús todo eso si pensara que jehová en realidad no escucha las oraciones ?', 'b ¿ qué felicidad pueden sentir los padres que sirven a dios ?', 'así que debemos estar agradecidos de que ellos fueran obedientes y evitaran las malas amistades', 'es cierto que ningún padre puede imitar del todo la paciencia perfecta de dios', 'es evidente que está perdiendo mucho apoyo tanto las religiones como sus líderes son objeto de crecientes ataques en los medios de comunicación', 'b ¿ por qué se registraron en la biblia los defectos de algunos hombres nombrados por jehová ?', 'pensar así sería un grave error', 'el discípulo santiago también escribió sobre la fe', 'para comprenderlo mejor , hagamos una comparación con un disco compacto', 'de hecho , todavía sigo luchando por eliminar algunos rasgos desagradables de mi personalidad', '¡ cuántas veces tuvo que haber orado el joven para desahogarse !', 'está claro que el amor , la compasión y el perdón son valores esenciales', 'y en obediencia al mandato de jesús , los testigos de jehová de todo el mundo la celebran cada año', 'eso ocurrió en octubre de y marcó el comienzo de los últimos días del malvado sistema de satanás', 'eso nos motiva a predicar lo más que podamos', 'por consiguiente , ¿ qué se predijo en el texto de amós ? allí se indicó que surgiría un nuevo pueblo , llamado por el nombre de dios', '¿ qué podemos hacer para mantener fuerte nuestra fe ?', 'su historia se incluyó en la biblia , y hoy podemos imitar su excelente ejemplo', 'ya no decimos que nabot murió porque representaba a jesús o a los ungidos', '¿ cómo se sentirá usted cuando resuciten sus seres queridos ?', 'podemos aprender mucho de la manera como jesús preparó a sus apóstoles', 'en otra ocasión me preguntaron dónde estaba nuestra sede', 'las últimas páginas hablan del día en el que desaparecerá la muerte y dios convertirá la tierra entera en un paraíso', 'debemos estar al día con el entendimiento de la verdad bíblica para que podamos transmitir conocimiento exacto', 'además , el rey de ese reino no es elegido por votación popular , sino por dios , así que no puede ser remplazado', 'cuando admiramos a alguien , queremos imitar a esa persona', 'al regresar a bauru , encontré una carta en la que se me encargaba visitar las congregaciones de los testigos de jehová como superintendente viajante', 'porque así es más fácil engañarlas', '¿ conoce algún otro libro cuyas profecías se cumplan sin falta ?', 'ilustración de la página seamos jóvenes o mayores , podemos animar a los demás', 'ellos se fijarán en lo que usted haga', 'pero ¿ cómo es esto posible , en vista de las lamentables consecuencias del pecado de adán ?', 'no llegará tarde', 'señale dos cualidades de jehová por las que podemos aumentar nuestro aprecio', 'rechacemos la forma de pensar del mundo , nov', 'los cristianos verdaderos tenemos una herencia muy valiosa', 'por eso necesitamos protegernos siendo buenos amigos de jehová', 'toda su vida fue una prueba de ese amor', 'cuando jesús fue bautizado , juan el bautista vio que los cielos se abrían , y que , como paloma , el espíritu descendía sobre jesús', 'si tenemos gozo , no solo nos sentiremos bien por dentro , sino que experimentaremos otros beneficios', 'este texto me recordaba que tenía que predicar , pero yo sabía que sería difícil para mí ir de casa en casa', '¿ qué hacen los precursores especiales ?', ', a ¿ qué hará jehová dentro de poco con sus enemigos ?', 'la biblia habla de una anciana llamada ana que seguía alabando a jehová a pesar de su edad', 'algunos son ministros de tiempo completo , y hay cristianos maduros que han sido nombrados siervos ministeriales y ancianos para servir a sus hermanos en la congregación', 'es obvio que ellos no nacen con esta cualidad , así que ustedes deben darles el ejemplo', 'si somos ancianos de congregación , cada cierto tiempo debemos repasar la lista de requisitos y esforzarnos por mejorar', 'para entenderlo , comparemos la gloria a la luz', 'para empezar , denuncia los abusos de poder', 'en la atalaya del de julio de vimos que la profecía de mateo y habla ocho veces de cuando jesús llegue , o venga', '¿ cómo usó jesús su libertad ?', 'cuando resisto una tentación , me siento mejor conmigo misma', 'está científicamente probado que fumar daña casi todos los órganos del cuerpo y aumenta el índice de enfermedades y muertes , declara the tobacco atlas atlas del tabaco', 'se bautizó el de julio de , y poco tiempo después lo hizo su esposa , paulina', 'así que debemos tomar una decisión o nos dejamos llevar por nuestros malos pensamientos y deseos , o los controlamos', 'ya sabemos quién es el novio , pero ¿ quién es la novia ?', 'b ¿ qué resurrecciones hizo jesús ?', 'allí había leído algunas de nuestras publicaciones cuando oí eso , le pedí a jehová que hiciera que ese hombre se pusiera de mi parte', 'cuando jesús estuvo en la tierra , percibió estos prejuicios tan enraizados en la tradición del pueblo judío', 'un par de siglos antes , en el año , la nación israelita se había dividido en dos al sur estaba el reino de dos tribus llamado judá , y al norte el de diez tribus llamado israel', '¿ en qué año ocurrió eso ?', '* estas verdades no son aburridas cuestiones académicas reservadas a los teólogos', 'a continuación , la sucursal comunicaba la decisión al cuerpo de ancianos', 'al principio , él era obediente y era un buen amigo de dios', '¿ qué es un testigo ?', 'solo quienes reciban el perdón de sus pecados vivirán para siempre', '¡ qué confianza tan grande tenía en jehová !', 'seguramente te gusta estar con otros jóvenes', 'como no tienen la sabiduría y experiencia que vienen con la edad , a muchos les cuesta ver las consecuencias de las decisiones que toman', 'en su redacción citó revelación , que dice que dios limpiará las lágrimas de nuestros ojos y eliminará la muerte y el sufrimiento', '¿ cómo nos ayuda la parábola de la red barredera ?', 'si no estamos enfermos , puede que nos cueste entender lo que sienten quienes han estado enfermos por mucho tiempo', 'y eso exige dedicar tiempo a las cosas que son de seria consideración', 'megan es una precursora soltera de estados unidos que se está esforzando por hablar chino con más fluidez', '¿ no podía entonces hacer todo lo que se narra en el relato de noé ?', '¿ qué dice la biblia sobre los pecados sexuales ?', 'preparándolos para la oposición que sufrirían', 'the economist , de septiembre de', '¿ cómo podemos copiar el ejemplo de jehová ?', 'fue humilde y obedeció a jehová en todo', 'pablo lo explicó así a ustedes , que en otro tiempo estaban alejados y eran enemigos porque tenían la mente puesta en las obras que eran inicuas , él ahora los ha reconciliado de nuevo por medio del cuerpo carnal de aquel mediante su muerte', 'nuestros lectores quieren saber ¿ por qué le pidió dios a abrahán que sacrificara a su hijo ?', 'muchas personas se sorprendieron por la forma como el libro está escrito', 'los sucesos que narra son importantes para nosotros , pues tienen que ver con nuestra vida actual y con nuestro futuro', 'la ley tenía como objetivo proteger a la descendencia y ayudar a reconocer al mesías', 'veamos lo que le pasó en a peter , que entonces tenía años y acababa de entrar en el betel de gran bretaña', 'cuando pasamos por circunstancias estresantes , debemos recordar el ejemplo de pablo y estas animadoras palabras que escribió se nos oprime de toda manera , mas no se nos aprieta de tal modo que no podamos movernos nos hallamos perplejos , pero no absolutamente sin salida se nos persigue , pero no se nos deja sin ayuda se nos derriba , pero no se nos destruye', 'por esta razón , algunos padres usan publicaciones , grabaciones y videos en los dos idiomas', 'cuando les predicamos a las personas , podemos ayudarlas a conocer al creador de este asombroso universo', 'b ¿ qué debe hacer cada hijo con este regalo ?', '¿ por qué debemos meditar en nuestra dedicación a jehová ? medite en su dedicación', '¿ cómo podemos ayudar a construir más salones ?', 'como sabemos , el pueblo entero atravesó el mar , gracias a la protección de jehová', '¿ cómo intenta satanás influir en la gente ?', '¿ cómo podemos lograrlo nosotros ?', 'por ejemplo , en tuve que organizar muchísimas cosas para la primera asamblea internacional que hubo en puerto rico me sentía agobiado', 'seguro que ellas obedecieron su consejo y siguieron sirviendo felices a jehová', '¿ por qué debe tener fe y paciencia y pedirle a jehová que lo guíe ?', 'en resumen , ¿ son creíbles los milagros de la biblia ?', 'a veces se debe a que se consideran poca cosa , indignos de pertenecerle', 'pero según la oms , también es una de las mayores causas de muerte por enfermedades contagiosas como la tuberculosis', 'por eso le había dicho una vez que hayas vuelto , fortalece a tus hermanos', '¿ se publicarían alguna vez libros en este idioma ?', 'los ancianos pueden ayudarlos a escuchar las reuniones grabándolas o ayudándolos a conectarse por teléfono', 'pero nosotros sabemos que no es verdad', 'también hoy , una forma en que los cristianos practica n devoción piadosa es ayudando materialmente a sus familiares que lo necesitan', 'este regalo es tan maravilloso que no tenemos palabras para describirlo', 'durante una gira de predicación por galilea , jesús y sus discípulos subieron a una barca y se retiraron a un lugar apartado', 'para ayudar a los hermanos , tenemos que conocerlos bien', 'a nosotros también se nos pide que dejemos atrás preferencias personales y nos esforcemos por hacer la voluntad de jehová mientras esperamos las bendiciones futuras', 'el pueblo de jehová siempre ha comprendido la importancia de la soberanía de su dios y la ha apoyado', 'en efecto , nos impulsa a hacer lo que es bueno para con todos , pero especialmente para con los que están relacionados con nosotros en la fe', 'el soldado que no llevaba puestas sus botas no estaba listo para la batalla', '¿ cómo reaccionó adán cuando jehová le dio una esposa ?', 'un diccionario explica que no es imposible que los hechos de pablo y tecla contengan datos históricos exactos the oxford dictionary of the christian church edición de', 'lo cierto es que no , pues hubo muchas cosas sobre las que guardó silencio léase juan', 'sin embargo , los problemas no acabaron con su espiritualidad', 'como nos tomaba todo el día , nos daban el almuerzo', 'rosa pensaba que la biblia era un simple libro de filosofía que intentaba explicar quién es dios usando conceptos humanos', 'cuando a keith lo despidieron del trabajo , hizo el precursorado auxiliar', 'es cierto que la oración puede ayudarnos de esa forma pero cuando le oramos a jehová , él de veras nos escucha', 'pero si nos amargamos dándole vueltas a nuestra situación , vamos a desanimarnos', 'además , daniel recibió dos visiones sobre la potencia mundial medopersa', 'aunque a simple vista podían parecer iguales a los demás cristianos , su apostasía representaba un peligro para los fieles', 'al igual que noé , los discípulos dedicados obedecen a dios y llevan a cabo la obra que les ha dado', '¿ por qué es el respeto imprescindible en el matrimonio ?', 'finalmente , el proyecto lo acabó su bisnieto , herodes agripa ii , a mediados del primer siglo', 'además , veamos por qué una buena comunicación con jehová nos ayudará a mantener nuestra amistad con él , sin importar cuáles sean nuestras circunstancias', 'por ejemplo , contaban con numerosos sacerdotes y levitas , y también había sirvientas que hacían servicio organizado a la entrada de la tienda de reunión', '¿ por qué sabemos que jehová controla las fuerzas de la naturaleza ?', '¿ cómo le fue al primer matrimonio ?', 'en cuanto al vino , recordemos dos ejemplos', 'veamos por qué jesús contó estas historias y por qué son importantes para nosotros', 'eso difiere de lo que jesús mandó hacer a sus discípulos', '¿ qué honor le concedió dios a una mujer llamada maría ?', 'nuestra manera de ver a los demás', 'para mantener viva la esperanza , debemos vivir muy pendientes de la llegada del día de jehová', 'jehová nos mandó a los cristianos que disciplináramos en justicia', 'y mientras más aprendamos sobre su forma de pensar , más fácil se nos hará tomar decisiones que le agraden', 'pero cuando luego recibió información más exacta , cambió su decisión', 'ella me encerró en una celda creyendo que así me haría cambiar de opinión', 'recuerde , este es el mundo de satanás y , como tal , refleja su frialdad y egoísmo', 'estos versículos nos enseñan lecciones muy valiosas', 'si su esposo es humilde y modesto , no se sentirá amenazado , sino que la animará a seguir empleando esos dones', 'a veces tenemos que enderezar las cosas cuando otras personas malentienden lo que decimos o hacemos', 'él fue lo primero que dios creó', 'y de todas las amistades que podemos cultivar , ninguna es más importante que la de jehová', 'no me gustaba que bebiera tanto ni que tratara mal a mi madre', 'y me maravillo de la sabiduría , el discernimiento y el perfecto equilibrio que reflejan todas nuestras revistas', 'si dos casados se divorciaran sin que se hubiera cometido inmoralidad sexual , no estarían libres para volver a casarse', 'la biblia habla de una nueva personalidad', '¿ cómo es el lugar que jehová nos ha dado para vivir ?', '¿ qué pueden hacer en ese caso ?', 'como es hospitalario , anima a los jóvenes y a los nuevos', 'esto es mucho más de lo que pueden lograr los hombres', 'además , no tienen nada en contra de que yo sea testigo', 'hacer la voluntad de jehová y saber que lo estamos agradando nos puede hacer realmente felices ahora y para siempre', 'asimismo , recordemos que , al igual que los mayordomos , nosotros tenemos una labor que hacer', 'dios no creó al diablo', 'el olivo simbólico', 'eso es precisamente lo que jesús le pidió en el padrenuestro efectúese tu voluntad , como en el cielo , también sobre la tierra', '¡ usémosla siempre que podamos !', '¿ se imagina a las personas de este lugar mirando cómo este temible guerrero corría por sus calles para poder salvarse ?', 'no nos sorprende que hoy día muchas personas hagan grandes cambios al estudiar la palabra de dios', 'entonces se dio cuenta de que dios espera que él agrade a su esposa y sea leal a ella', 'tal vez nos cueste controlarlos , y quizás por eso cometemos los mismos errores una y otra vez pero nos esforzamos por corregirlos porque sabemos que así agradamos a jehová', 'en la actualidad , los ángeles ayudan a las personas a beneficiarse del mensaje que predican los discípulos de jesús', 'el esposo y la esposa se demuestran con palabras y acciones el cariño que se tienen', 'con su actitud , causaban dolor aun al santo de israel', '¿ qué aprendemos de la amistad que rut tenía con jehová ?', 'pero jesús no se convirtió en rey en ese momento tuvo que esperar hasta , cuando se colocó a sus enemigos como banquillo para sus pies', 'él dijo oren incesantemente y luego también escribió perseveren en la oración', 'sin embargo , en cada caso demostró su arrepentimiento', '¿ demuestra nuestra forma de vestir que respetamos a jehová y a los demás , o demuestra que no somos modestos ?', 'de hecho , jesús mismo explicó así algunas historias', 'según las palabras de pablo registradas en efesios , , ¿ qué debemos hacer ?', 'jehová nos diseñó y nos creó , así que sabe lo que necesitamos para ser felices de verdad y nos lo da con generosidad', 'por ejemplo , deben mostrarse amor de amigos y amor romántico', 'su obsesión por las cosas que habían dejado atrás los llevó a perder la aprobación de jehová', 'y se pusieron a tomar ciudades fortificadas y un suelo fértil , y a tomar en posesión casas llenas de toda cosa buena , cisternas labradas , viñas y olivares y árboles para alimento en abundancia , y empezaron a comer y a satisfacerse y a engordar y a vivir con regalo en tu gran bondad', 'los agentes me dijeron a gritos ‘ ¡ haremos que en estonia no quede ni el recuerdo del nombre jehová !', 'y yo les he dado a conocer tu nombre , y lo daré a conocer', '¿ por qué valora usted mucho su dedicación a jehová ?', 'seguro que eso no se lo diría a un completo desconocido o a alguien a quien apenas conoce', 'el término diablo procede de una palabra griega que significa calumniador', 'en esta revista , por ejemplo , la referencia isaías indica', 'cuando eran muy pequeños , estudiaba con ellos unos minutos todos los días , excepto los días de reunión', 'la biblia es un regalo muy especial de dios', 'hallará más información sobre el osario de caifás en el artículo el sumo sacerdote que condenó a jesús , de la atalaya del de enero de , páginas a', 'confesar su error en oración', 'parece que nunca podré borrarlas por completo', 'cuando el hermano vio el esfuerzo que estaba haciendo chris por cambiar , él hizo lo mismo', 'jesús también profetizó aquellos días serán acortados', 'acciones y bonos', 'en los pasados artículos se han analizado una serie de características que , según la biblia , identifican a los cristianos verdaderos', 'lucía pues sí , tengo un rato linda bien', 'pero jesús fue bondadoso con ella', 'pero también es bueno que entendamos de qué estaba hablando pablo cuando escribió este versículo', 'tras varias semanas de viaje , sus dueños se sienten cada vez de mejor humor , ya que están a punto de llegar a la gran ciudad donde venderán a josé con el resto de sus mercancías y obtendrán jugosas ganancias', 'por ejemplo , negó en público conocer a su maestro , no solo una vez , sino tres', 'y , tercero , añadió tienen celo por dios', 'todos tenían sobre la cabeza algo que parecía una llama de fuego', 'además , la biblia afirma que hay tiempo de reír y tiempo de dar saltos , y recomienda descansar lo suficiente', 'ernesto todavía estoy tratando de asimilar todo esto', '¿ qué se necesita para desarrollar este amor abnegado por los hermanos ?', 'pero sí nos pide que obedezcamos sus mandatos', 'ellos solo predican y advierten a las personas de lo que pasará en el futuro', 'también tenemos el ejemplo del escritor del salmo', 'jehová escuchó la oración de ezequías y lo curó', 'lo perdió todo y se sintió tan deprimido que quería morir', 'podemos leer algún capítulo del libro de hechos o pensar en los versículos que leeremos o las publicaciones que ofreceremos esto también nos ayudará a predicar con más entusiasmo', 'b ¿ cómo se siente jehová cuando les hablamos de él a otras personas ?', 'ilustraciones', 'en agosto de nos conocimos en la casa de mi hermana', '¿ saldría de la nación judía la totalidad de los israelitas espirituales , los cuales constituyen la parte secundaria de la descendencia de abrahán ?', 'por eso renunció a las riquezas y el poder que le ofrecía su posición lea hebreos', 'brian , * que fue adicto a la pornografía por internet , cuenta nada podía detenerme', 'jesús habrá eliminado así la causa de la pobreza', 'también dijo que dios da a toda persona vida y aliento y todas las cosas , y que por él tenemos vida y nos movemos y existimos', 'otra cosa que nos demuestra que jehová nos ama es la forma como él nos creó', '¿ cómo podemos considerar a quienes se sienten aplastados por el peso de la culpa ?', 'también sabe que quienes intentaron romper otros matrimonios estuvieron a punto de despertar la cólera de dios', 'y se enfrenta a una presión especialmente difícil si trabaja de forma activa en el ejército , la política o la comunidad', 'como resultado , mi familia y yo comenzamos a respetarnos más', 'si educamos bien nuestra conciencia , ¿ cómo beneficiará eso a la congregación ?', '¿ estaríamos poniendo en peligro nuestra entrada en el descanso de jehová ?', 'esto llegó a ser un problema porque daniel no quiso contaminarse con los manjares exquisitos del rey', 'seguro que a satanás le habría encantado que jesús dejara de estar alerta', '¿ cuál es el voto más importante que podemos hacer los cristianos , y qué significa para nosotros ?', 'a continuación veremos algunas razones para confiar en los recordatorios de jehová y cómo nos pueden beneficiar', 'un anciano joven llamado jason comenta cuando me nombraron , pensé que no podría con tanta responsabilidad', 'explique cómo empezó el cristianismo apóstata a colaborar con el gobierno romano y cuál fue el resultado', '¿ por qué puede ser útil elaborar un presupuesto ?', '¿ valoramos todo lo que los ancianos hacen por la congregación ?', 'jesús también estaba cansado , pero se mantuvo despierto orándole a su padre', 'en , este hermano presentó en una asamblea un emocionante discurso titulado paz ¿ será duradera ?', 'a ¿ por qué pudiera ser una cuestión de enfoque la opinión que alguien tenga sobre los extranjeros ?', 'estos dos aspectos del fruto del espíritu nos permiten actuar con bondad , mantenernos calmados ante las provocaciones y no vengarnos si nos hablan o tratan con poca amabilidad', 'tal vez porque pensemos que lo que le pasa es problema suyo', 'al principio los tres servíamos en una congregación de la ciudad de quezón , una ciudad donde mucha gente hablaba inglés', 'porque , como señaló el discípulo santiago , el indeciso es inconstante en todos sus caminos', 'muchos especialistas afirmaban que causaban en el útero una reacción que impedía que el esperma llegara al óvulo y este fuera fecundado', 'en su testimonio ante un comité del senado de estados unidos , la doctora judith reisman , destacada investigadora en el campo de la pornografía , dijo las imágenes visuales pornográficas imprimen y alteran el cerebro , provocando una huella instantánea , involuntaria , pero duradera , en la memoria bioquímica y son difíciles o imposibles de suprimir', 'la tercera cabeza de la bestia que vio juan representa al reino cuya capital era babilonia', 'en el próximo artículo explica cómo cambió esto su visión de la vida', 'padres , pastoreen a sus hijos', 'c ¿ cómo nos bendice jehová ?', 'jehová nos da la alentadora seguridad de que nuestros seres queridos que descansan en el seol volverán a vivir en la tierra , libres de los sufrimientos que padecemos en la actualidad', '¿ o será que nuestro corazón se ha contagiado de la falta de amor que abunda en estos últimos días ?', 'pero muchos hermanos y hermanas han resistido esta tentación', 'pero estimó que dios podía levantarlo hasta de entre los muertos y de allí lo recibió también a manera de ilustración', 'al escuchar las noticias , tal vez se haya dado cuenta de que a veces se hacen cosas horribles en nombre de la religión', 'dios también hará que nuestra mente y nuestro cuerpo sean perfectos', 'palabras como esas pueden darnos a nosotros y a nuestros hermanos ímpetu para enfrentar la persecución', 'jesucristo el ángel que tiene la llave del abismo prenderá a satanás y sus demonios , los arrojará al abismo y los mantendrá allí por mil años', '¿ cómo nos sentimos al leer esas palabras ?', 'después del destierro en babilonia , muchos judíos cayeron en la trampa de las enseñanzas falsas', 'también lo demostraremos no enojándonos fácilmente', 'jehová se refirió al patriarca y antepasado de los israelitas como abrahán , mi amigo', 'y si dios no interviniera para impedir que los eliminaran , parecería que no es amoroso , no es justo o no tiene poder', '¿ qué ejemplo nos dejó el apóstol pablo ?', 'estas razones nos muestran por qué es muy importante que los siervos de dios seamos modestos', 'entre ellas figuran la fe y la humildad', '¿ qué ocurrirá en esa guerra ?', 'h macmillan , página párrafo el cautiverio de los judíos en babilonia se parece en muchas cosas a lo que les sucedió a los cristianos después de que empezara la apostasía', 'también podemos pedirle a jehová que nos ayude a luchar contra cosas que debilitan nuestra fe', 'aunque enfrentaron problemas , aquellos cristianos ungidos siguieron predicando porque amaban al prójimo y tenían la ayuda del espíritu santo', 'en este artículo estudiaremos cómo lo hizo además , este estudio nos ayudará a seguir las instrucciones de jehová y a recorrer el camino que lleva al nuevo mundo', 'una prestigiosa enciclopedia destaca un factor determinante llegó un momento en que los cristianos con cierta formación en la filosofía griega sintieron la necesidad de expresar su fe en términos filosóficos , tanto para su propia satisfacción intelectual como para convertir a los paganos cultos the new encyclopædia britannica', '¿ qué han decidido millones de personas desde , y por qué ?', 'así mismo , nosotros necesitamos ayuda para ir por buen camino', 'además , sus palabras pueden tener un efecto tranquilizador', '¿ cómo se sienten algunos testigos al trabajar con jehová ?', '¿ por qué lo perdonó ?', 'pongamos dos ejemplos supongamos que estamos luchando con un mal pensamiento', 'el temor puede tener un efecto debilitante , pero el pavor es un miedo aún más intenso', 'hallarás más ideas en jw org , en el artículo ¿ por qué es importante orar ?', '¿ verdad que suelen ser foco de descontento social y político , y se caracterizan por la inmoralidad y los excesos ?', '¿ cómo fortalece jehová nuestras manos hoy ?', 'pero jehová la salvó lea génesis', 'ser una ayudante y un complemento es decir , apoyar al esposo en su papel de cabeza de familia es sin duda una labor honorable', 'su palabra dice hay más felicidad en dar que en recibir', 'al momento contesté ¡ sí !', 'me sentía muy sola quería que alguien me cuidara a mí y me dijera que estaba haciendo bien las cosas', 'salmo señala hasta tiempo indefinido el mismísimo consejo de jehová subsistirá los pensamientos de su corazón duran hasta una generación tras otra', 'por supuesto , los hermanos que están casados con una mujer que no es testigo también deben seguir el consejo de pedro', '¿ qué idea nos da la biblia sobre cuándo sucedería la resurrección celestial ?', 'y así sucedió , pues el propio mateo señaló que todos los discípulos lo abandonaron y huyeron', 'es una novia colectiva , compuesta por los miembros de la congregación de la que jesucristo es cabeza lea efesios ,', 'en el último libro de la biblia , el apóstol juan menciona una batalla en la que miguel jesús en su posición como arcángel\\u2060 derrota al diablo y sus demonios y los expulsa del cielo', ', a ¿ qué mensaje predicaremos durante la gran tribulación ?', '¿ qué buen padre le construiría una cómoda casa a su familia para quemarla después ?', 'al poner en la balanza los beneficios espirituales y los beneficios de un mejor salario , el hermano rechazó la propuesta', '¿ qué singular honor tenemos los testigos de jehová , y cómo se siente usted por ello ?', 'también dice que más tarde los cristianos pensaron que dios preparó la situación en el siglo primero para ayudarlos', 'debido a su neutralidad , cumplió dos condenas de tres años , y más adelante pasó otros diez años en prisión y cinco más en el exilio', 'la biblia afirma en cuanto a jehová , sus ojos están discurriendo por toda la tierra para mostrar su fuerza a favor de aquellos cuyo corazón es completo para con él', 'al igual que la benignidad , la palabra que se traduce bondad se refiere a la virtud que se manifiesta en la práctica ayudando con generosidad a los demás', '¡ que todos nosotros asistamos a la conmemoración con profundo agradecimiento por la provisión que ha hecho jehová dios de un sacerdocio real que ayudará a toda la humanidad !', 'se necesita humildad y valor para decir siento haberte ofendido', 'los varones bautizados también deben ser valientes y actuar', 'la traducción del nuevo mundo de las santas escrituras con referencias aclara en una nota a génesis además de traducirse ‘ espíritu ’ , el término hebreo rú·aj también se traduce ‘ viento ’ y mediante otras palabras que denotan una fuerza activa invisible compárese con las notas a génesis y', 'este mundo anima a la gente a aprender muchas cosas en las universidades , pero eso hace que la gente pierda su amor por dios', 'bajo la dirección del esclavo , los ancianos también trabajan duro para nutrir espiritualmente a sus hermanos', 'y a él le importa cómo vamos vestidos y cómo nos comportamos en ellas', 'aquella localidad estaba compuesta por unas cuantas casas de adobe con techo de cartón', 'me di cuenta de que donde debo estar es en las reuniones', 'distribuimos más de folletos y le pasamos a la sucursal de gran bretaña los nombres de las personas interesadas', 'había sido acusado falsamente de sedición , golpeado sin piedad y clavado en un madero , donde sufrió una muerte horrible', 'y de todas las naciones y tribus y pueblos y lenguas está reuniendo una gran muchedumbre que tiene la esperanza de vivir para siempre en la tierra', 'julio así que en este caso , siete tiempos no son siete años tienen que ser un período más largo', 'dios hizo que la gente hablara en diferentes lenguas', 'además , amamos a jehová y obedecemos sus leyes y por eso , él nos da su espíritu santo', 'andando el tiempo , los descendientes de jacob se hicieron muy numerosos y llegaron a ser un pueblo', 'b ¿ cómo cree usted que podemos copiar el ejemplo de asá ?', 'lo cierto es que nos ha protegido muchas veces como pueblo y nos ha mantenido a salvo de las garras de satanás', 'del mismo modo que un bálsamo nos alivia la piel , las promesas de dios pueden calmar nuestro corazón', 'pero su padre hace algo que la sorprende se rasga la ropa para mostrar que está muy triste y luego grita ¡ ay , hija mía !', '¿ qué son los actos santos de conducta y los hechos de devoción piadosa ?', '¿ a qué se enfrentaban los cristianos del siglo primero ?', '¿ cuáles son dichas potencias ?', 'esta es la herencia de los siervos de jehová', 'también puede aludir al hecho de que quienes alcancen la meta en la carrera de la vida gozarán de la bendición divina a un grado extraordinario', '¡ qué mentira tan descarada !', 'es probable que sus vecinos le preguntaran por qué la estaba construyendo podemos estar seguros de que noé no se quedó callado , pues la biblia dice que fue un predicador de justicia', '¿ qué representan los carros y los que los conducen ?', 'a los años , no sabía si ir a la universidad , trabajar de jornada completa o hacerme precursor', 'a ¿ qué sucederá tras la primera fase de la gran tribulación ?', 'apenas nacemos , tenemos una gran necesidad de atención y consuelo', 'pero antes tenemos que entender bien lo que la biblia enseña sobre ser una persona espiritual', '¿ por qué tenemos tantos enemigos que nos impiden ser felices ?', 'si lo imitamos , seremos más valientes y nos irá bien en nuestro servicio a jehová', 'por eso en una ocasión ella dijo que había luchado con todas sus fuerzas y añadió he salido vencedora'}\n"
     ]
    }
   ],
   "source": [
    "print(en_test_sents)"
   ]
  },
  {
   "cell_type": "code",
   "execution_count": null,
   "metadata": {
    "colab": {
     "base_uri": "https://localhost:8080/"
    },
    "id": "DXShwVYVu3Ze",
    "outputId": "5792f7b2-227d-4a57-ac0a-7a28ff31ca02"
   },
   "outputs": [
    {
     "data": {
      "text/plain": [
       "1000"
      ]
     },
     "execution_count": 50,
     "metadata": {
      "tags": []
     },
     "output_type": "execute_result"
    }
   ],
   "source": [
    "len(en_test_sents)"
   ]
  },
  {
   "cell_type": "code",
   "execution_count": null,
   "metadata": {
    "colab": {
     "base_uri": "https://localhost:8080/",
     "height": 162
    },
    "id": "HIaLI_rZ-tXf",
    "outputId": "aeed51c6-78ed-456c-bbf8-cc5183be9a3b"
   },
   "outputs": [
    {
     "name": "stdout",
     "output_type": "stream",
     "text": [
      "Loaded data and skipped 0/66196 lines since contained in test set.\n"
     ]
    },
    {
     "data": {
      "text/html": [
       "<div>\n",
       "<style scoped>\n",
       "    .dataframe tbody tr th:only-of-type {\n",
       "        vertical-align: middle;\n",
       "    }\n",
       "\n",
       "    .dataframe tbody tr th {\n",
       "        vertical-align: top;\n",
       "    }\n",
       "\n",
       "    .dataframe thead th {\n",
       "        text-align: right;\n",
       "    }\n",
       "</style>\n",
       "<table border=\"1\" class=\"dataframe\">\n",
       "  <thead>\n",
       "    <tr style=\"text-align: right;\">\n",
       "      <th></th>\n",
       "      <th>source_sentence</th>\n",
       "      <th>target_sentence</th>\n",
       "    </tr>\n",
       "  </thead>\n",
       "  <tbody>\n",
       "    <tr>\n",
       "      <th>0</th>\n",
       "      <td>sin duda , estos hermanos necesitan que siempr...</td>\n",
       "      <td>seguurë ko tyäˈädë nmëguˈukˈäjtëm yajtëgoyˈäjt...</td>\n",
       "    </tr>\n",
       "    <tr>\n",
       "      <th>1</th>\n",
       "      <td>toda escritura es inspirada de dios y provecho...</td>\n",
       "      <td>dios wyinmäˈänymyooy ja jyaˈayëty es tkëxjäˈäy...</td>\n",
       "    </tr>\n",
       "    <tr>\n",
       "      <th>2</th>\n",
       "      <td>el amor y unidad que se ve entre los testigos ...</td>\n",
       "      <td>pes diˈibë jesukristë xytyukˈanaˈamëm axtë jaw...</td>\n",
       "    </tr>\n",
       "  </tbody>\n",
       "</table>\n",
       "</div>"
      ],
      "text/plain": [
       "                                     source_sentence                                    target_sentence\n",
       "0  sin duda , estos hermanos necesitan que siempr...  seguurë ko tyäˈädë nmëguˈukˈäjtëm yajtëgoyˈäjt...\n",
       "1  toda escritura es inspirada de dios y provecho...  dios wyinmäˈänymyooy ja jyaˈayëty es tkëxjäˈäy...\n",
       "2  el amor y unidad que se ve entre los testigos ...  pes diˈibë jesukristë xytyukˈanaˈamëm axtë jaw..."
      ]
     },
     "execution_count": 51,
     "metadata": {
      "tags": []
     },
     "output_type": "execute_result"
    }
   ],
   "source": [
    "import pandas as pd\n",
    "\n",
    "source_file = \"drive/My Drive/mixe-coatlan-es-mco/es-mco-baseline/train-dev-random_es.txt\"\n",
    "target_file = \"drive/My Drive/mixe-coatlan-es-mco/es-mco-baseline/train-dev-random_mco.txt\"\n",
    "\n",
    "source = []\n",
    "target = []\n",
    "# Recopila los números de línea de la parte de origen para omitir las mismas líneas de la parte de destino. \n",
    "skip_lines = []  \n",
    "with open(source_file) as f:\n",
    "    for i, line in enumerate(f):\n",
    "        # Salta la frase que está en el test\n",
    "        if line.strip() not in en_test_sents:\n",
    "            source.append(line.strip())\n",
    "        else:\n",
    "            skip_lines.append(i)             \n",
    "with open(target_file) as f:\n",
    "    for j, line in enumerate(f):\n",
    "        # agrega al corpus solo si no se omitió la fuente correspondiente\n",
    "        if j not in skip_lines:\n",
    "            target.append(line.strip())\n",
    "\n",
    "print('Loaded data and skipped {}/{} lines since contained in test set.'.format(len(skip_lines), i))\n",
    "    \n",
    "df = pd.DataFrame(zip(source, target), columns=['source_sentence', 'target_sentence'])\n",
    "df.head(3)"
   ]
  },
  {
   "cell_type": "code",
   "execution_count": null,
   "metadata": {
    "colab": {
     "base_uri": "https://localhost:8080/",
     "height": 144
    },
    "id": "ts400FWo9hRb",
    "outputId": "69d551cd-2e6c-4db8-84a8-32ef21362be5"
   },
   "outputs": [
    {
     "data": {
      "text/html": [
       "<div>\n",
       "<style scoped>\n",
       "    .dataframe tbody tr th:only-of-type {\n",
       "        vertical-align: middle;\n",
       "    }\n",
       "\n",
       "    .dataframe tbody tr th {\n",
       "        vertical-align: top;\n",
       "    }\n",
       "\n",
       "    .dataframe thead th {\n",
       "        text-align: right;\n",
       "    }\n",
       "</style>\n",
       "<table border=\"1\" class=\"dataframe\">\n",
       "  <thead>\n",
       "    <tr style=\"text-align: right;\">\n",
       "      <th></th>\n",
       "      <th>source_sentence</th>\n",
       "      <th>target_sentence</th>\n",
       "    </tr>\n",
       "  </thead>\n",
       "  <tbody>\n",
       "    <tr>\n",
       "      <th>66194</th>\n",
       "      <td>jehová les dio su espíritu santo a los primero...</td>\n",
       "      <td>jyobaa myëjämooy pënaty pyanëjkxtë kristë mä p...</td>\n",
       "    </tr>\n",
       "    <tr>\n",
       "      <th>66195</th>\n",
       "      <td>algo que nos ayudará a comprender los retos im...</td>\n",
       "      <td>tsiptakp nyajtuˈukmujkëmë jäˈäy diˈib wiˈixëmë...</td>\n",
       "    </tr>\n",
       "    <tr>\n",
       "      <th>66196</th>\n",
       "      <td>él nos dice en su palabra lo que se busca en l...</td>\n",
       "      <td>tukˈoybyëtsëm tijaty dios windum ,</td>\n",
       "    </tr>\n",
       "  </tbody>\n",
       "</table>\n",
       "</div>"
      ],
      "text/plain": [
       "                                         source_sentence                                    target_sentence\n",
       "66194  jehová les dio su espíritu santo a los primero...  jyobaa myëjämooy pënaty pyanëjkxtë kristë mä p...\n",
       "66195  algo que nos ayudará a comprender los retos im...  tsiptakp nyajtuˈukmujkëmë jäˈäy diˈib wiˈixëmë...\n",
       "66196  él nos dice en su palabra lo que se busca en l...                 tukˈoybyëtsëm tijaty dios windum ,"
      ]
     },
     "execution_count": 52,
     "metadata": {
      "tags": []
     },
     "output_type": "execute_result"
    }
   ],
   "source": [
    "df.tail(3)"
   ]
  },
  {
   "cell_type": "code",
   "execution_count": null,
   "metadata": {
    "id": "0jXZylAf_CwO"
   },
   "outputs": [],
   "source": [
    "df_pp = df.drop_duplicates()\n",
    "\n",
    "df_pp.drop_duplicates(subset='source_sentence', inplace=True)\n",
    "df_pp.drop_duplicates(subset='target_sentence', inplace=True)\n",
    "\n",
    "df_pp = df_pp.sample(frac=1, random_state=seed).reset_index(drop=True)"
   ]
  },
  {
   "cell_type": "code",
   "execution_count": null,
   "metadata": {
    "colab": {
     "base_uri": "https://localhost:8080/",
     "height": 130
    },
    "id": "B20ozbkC_FkK",
    "outputId": "2e2eab29-ff17-496b-909b-d79875f49b0b"
   },
   "outputs": [
    {
     "name": "stdout",
     "output_type": "stream",
     "text": [
      "66197\n"
     ]
    },
    {
     "data": {
      "text/html": [
       "<div>\n",
       "<style scoped>\n",
       "    .dataframe tbody tr th:only-of-type {\n",
       "        vertical-align: middle;\n",
       "    }\n",
       "\n",
       "    .dataframe tbody tr th {\n",
       "        vertical-align: top;\n",
       "    }\n",
       "\n",
       "    .dataframe thead th {\n",
       "        text-align: right;\n",
       "    }\n",
       "</style>\n",
       "<table border=\"1\" class=\"dataframe\">\n",
       "  <thead>\n",
       "    <tr style=\"text-align: right;\">\n",
       "      <th></th>\n",
       "      <th>source_sentence</th>\n",
       "      <th>target_sentence</th>\n",
       "    </tr>\n",
       "  </thead>\n",
       "  <tbody>\n",
       "    <tr>\n",
       "      <th>0</th>\n",
       "      <td>así es , tenemos una lucha contra los gobernan...</td>\n",
       "      <td>ets mët ko yëˈë nmëtsipˈäjtëm nidëgekyëtyë mëj...</td>\n",
       "    </tr>\n",
       "    <tr>\n",
       "      <th>1</th>\n",
       "      <td>no nos sentimos atados o cargados al hacer est...</td>\n",
       "      <td>kyaj nmëkjäˈäwëm ko duˈun nduˈunëm , niˈigyë n...</td>\n",
       "    </tr>\n",
       "  </tbody>\n",
       "</table>\n",
       "</div>"
      ],
      "text/plain": [
       "                                     source_sentence                                    target_sentence\n",
       "0  así es , tenemos una lucha contra los gobernan...  ets mët ko yëˈë nmëtsipˈäjtëm nidëgekyëtyë mëj...\n",
       "1  no nos sentimos atados o cargados al hacer est...  kyaj nmëkjäˈäwëm ko duˈun nduˈunëm , niˈigyë n..."
      ]
     },
     "execution_count": 54,
     "metadata": {
      "tags": []
     },
     "output_type": "execute_result"
    }
   ],
   "source": [
    "print(len(df_pp))\n",
    "df_pp.head(2)"
   ]
  },
  {
   "cell_type": "code",
   "execution_count": null,
   "metadata": {
    "colab": {
     "base_uri": "https://localhost:8080/"
    },
    "id": "jBAVmAA2AtNX",
    "outputId": "77387cd2-4ffc-42ac-d3df-03eb1250fda4"
   },
   "outputs": [
    {
     "name": "stdout",
     "output_type": "stream",
     "text": [
      "Requirement already satisfied: fuzzywuzzy in /usr/local/lib/python3.7/dist-packages (0.18.0)\n",
      "Requirement already satisfied: python-Levenshtein in /usr/local/lib/python3.7/dist-packages (0.12.2)\n",
      "Requirement already satisfied: setuptools in /usr/local/lib/python3.7/dist-packages (from python-Levenshtein) (54.1.2)\n",
      "00:00:00.04 0.00 percent complete\n",
      "00:00:16.04 1.51 percent complete\n",
      "00:00:31.05 3.02 percent complete\n",
      "00:00:46.16 4.53 percent complete\n",
      "00:01:01.14 6.04 percent complete\n",
      "00:01:16.01 7.55 percent complete\n",
      "00:01:31.00 9.06 percent complete\n",
      "00:01:46.00 10.57 percent complete\n",
      "00:02:01.00 12.09 percent complete\n",
      "00:02:15.85 13.60 percent complete\n",
      "00:02:30.99 15.11 percent complete\n",
      "00:02:45.95 16.62 percent complete\n",
      "00:03:00.65 18.13 percent complete\n",
      "00:03:15.99 19.64 percent complete\n",
      "00:03:30.77 21.15 percent complete\n",
      "00:03:45.49 22.66 percent complete\n",
      "00:04:00.62 24.17 percent complete\n",
      "00:04:15.29 25.68 percent complete\n",
      "00:04:30.52 27.19 percent complete\n",
      "00:04:45.50 28.70 percent complete\n",
      "00:05:00.38 30.21 percent complete\n"
     ]
    },
    {
     "name": "stderr",
     "output_type": "stream",
     "text": [
      "WARNING:root:Applied processor reduces input query to empty string, all comparisons will have score 0. [Query: '*']\n"
     ]
    },
    {
     "name": "stdout",
     "output_type": "stream",
     "text": [
      "00:05:15.30 31.72 percent complete\n",
      "00:05:30.70 33.23 percent complete\n",
      "00:05:45.70 34.74 percent complete\n"
     ]
    },
    {
     "name": "stderr",
     "output_type": "stream",
     "text": [
      "WARNING:root:Applied processor reduces input query to empty string, all comparisons will have score 0. [Query: ',']\n"
     ]
    },
    {
     "name": "stdout",
     "output_type": "stream",
     "text": [
      "00:06:01.09 36.26 percent complete\n"
     ]
    },
    {
     "name": "stderr",
     "output_type": "stream",
     "text": [
      "WARNING:root:Applied processor reduces input query to empty string, all comparisons will have score 0. [Query: '/']\n"
     ]
    },
    {
     "name": "stdout",
     "output_type": "stream",
     "text": [
      "00:06:16.16 37.77 percent complete\n",
      "00:06:31.23 39.28 percent complete\n",
      "00:06:45.97 40.79 percent complete\n",
      "00:07:00.93 42.30 percent complete\n",
      "00:07:16.07 43.81 percent complete\n",
      "00:07:31.03 45.32 percent complete\n",
      "00:07:45.99 46.83 percent complete\n",
      "00:08:01.11 48.34 percent complete\n",
      "00:08:16.25 49.85 percent complete\n",
      "00:08:31.15 51.36 percent complete\n",
      "00:08:46.24 52.87 percent complete\n",
      "00:09:01.27 54.38 percent complete\n",
      "00:09:16.21 55.89 percent complete\n",
      "00:09:31.43 57.40 percent complete\n",
      "00:09:46.40 58.92 percent complete\n",
      "00:10:01.33 60.43 percent complete\n",
      "00:10:16.16 61.94 percent complete\n",
      "00:10:31.34 63.45 percent complete\n",
      "00:10:46.50 64.96 percent complete\n",
      "00:11:01.53 66.47 percent complete\n",
      "00:11:16.31 67.98 percent complete\n",
      "00:11:31.46 69.49 percent complete\n",
      "00:11:46.92 71.00 percent complete\n",
      "00:12:02.27 72.51 percent complete\n",
      "00:12:17.64 74.02 percent complete\n",
      "00:12:32.82 75.53 percent complete\n",
      "00:12:47.81 77.04 percent complete\n",
      "00:13:02.59 78.55 percent complete\n",
      "00:13:17.54 80.06 percent complete\n",
      "00:13:32.44 81.57 percent complete\n",
      "00:13:47.45 83.09 percent complete\n",
      "00:14:02.34 84.60 percent complete\n"
     ]
    },
    {
     "name": "stderr",
     "output_type": "stream",
     "text": [
      "WARNING:root:Applied processor reduces input query to empty string, all comparisons will have score 0. [Query: ', /']\n"
     ]
    },
    {
     "name": "stdout",
     "output_type": "stream",
     "text": [
      "00:14:17.55 86.11 percent complete\n",
      "00:14:33.21 87.62 percent complete\n",
      "00:14:48.74 89.13 percent complete\n",
      "00:15:04.48 90.64 percent complete\n",
      "00:15:19.94 92.15 percent complete\n",
      "00:15:35.32 93.66 percent complete\n"
     ]
    },
    {
     "name": "stderr",
     "output_type": "stream",
     "text": [
      "WARNING:root:Applied processor reduces input query to empty string, all comparisons will have score 0. [Query: '\"\"']\n"
     ]
    },
    {
     "name": "stdout",
     "output_type": "stream",
     "text": [
      "00:15:51.56 95.17 percent complete\n",
      "00:16:06.86 96.68 percent complete\n",
      "00:16:22.39 98.19 percent complete\n",
      "00:16:38.14 99.70 percent complete\n"
     ]
    }
   ],
   "source": [
    "# Instala fuzzy wuzzy para eliminar oraciones \"casi duplicadas\" en los conjuntos de dev y train\n",
    "\n",
    "! pip install fuzzywuzzy\n",
    "! pip install python-Levenshtein\n",
    "import time\n",
    "from fuzzywuzzy import process\n",
    "import numpy as np\n",
    "\n",
    "# restablece el índice del conjunto de entrenamiento después del filtrado anterior \n",
    "df_pp.reset_index(drop=False, inplace=True)\n",
    "\n",
    "# Elimina muestras del conjunto de datos de entrenamiento si \"casi se superponen\" con conjunto\n",
    "# de datos de prueba. \n",
    "\n",
    "\n",
    "# Función de filtrado. Ajuste el PAD para reducir las coincidencias candidatas a\n",
    "# una cierta longitud de caracteres de la muestra dada. \n",
    "def fuzzfilter(sample, candidates, pad):\n",
    "  candidates = [x for x in candidates if len(x) <= len(sample)+pad and len(x) >= len(sample)-pad] \n",
    "  if len(candidates) > 0:\n",
    "    return process.extractOne(sample, candidates)[1]\n",
    "  else:\n",
    "    return np.nan\n",
    "\n",
    "#NOTA: esto puede ser lento dependiendo del tamaño del conjunto de entrenamiento. \n",
    "scores = []\n",
    "start_time = time.time()\n",
    "for idx, row in df_pp.iterrows():\n",
    "  scores.append(fuzzfilter(row['source_sentence'], list(en_test_sents), 10))\n",
    "  if idx % 1000 == 0:\n",
    "    hours, rem = divmod(time.time() - start_time, 3600)\n",
    "    minutes, seconds = divmod(rem, 60)\n",
    "    print(\"{:0>2}:{:0>2}:{:05.2f}\".format(int(hours),int(minutes),seconds), \"%0.2f percent complete\" % (100.0*float(idx)/float(len(df_pp))))\n",
    "\n",
    "# filtra muestras casi superpuestas\n",
    "df_pp['scores'] = scores\n",
    "df_pp = df_pp[df_pp['scores'] < 95]"
   ]
  },
  {
   "cell_type": "code",
   "execution_count": null,
   "metadata": {
    "colab": {
     "base_uri": "https://localhost:8080/"
    },
    "id": "WeFas-iCNcU8",
    "outputId": "7b046fc7-0da1-4b99-e19e-de042783c0ac"
   },
   "outputs": [
    {
     "name": "stdout",
     "output_type": "stream",
     "text": [
      "66071\n"
     ]
    }
   ],
   "source": [
    "print(len(df_pp))"
   ]
  },
  {
   "cell_type": "code",
   "execution_count": null,
   "metadata": {
    "id": "KUeBecv_Ndbd"
   },
   "outputs": [],
   "source": []
  },
  {
   "cell_type": "markdown",
   "metadata": {
    "id": "MtUKIzfx1mzX"
   },
   "source": [
    "# Para extraer el corpus DEV"
   ]
  },
  {
   "cell_type": "code",
   "execution_count": null,
   "metadata": {
    "colab": {
     "base_uri": "https://localhost:8080/"
    },
    "id": "lvTHcyCpIk69",
    "outputId": "7e0c3d53-a79f-41bd-ffed-52d1821b0503"
   },
   "outputs": [
    {
     "name": "stdout",
     "output_type": "stream",
     "text": [
      "==> train.es <==\n",
      "así es , tenemos una lucha contra los gobernantes mundiales de esta oscuridad , contra las fuerzas espirituales inicuas en los lugares celestiales\n",
      "no nos sentimos atados o cargados al hacer estas cosas al contrario , disfrutamos con ellas , y seguro que adán y eva también\n",
      "deberíamos ayudarlo con paciencia a tener más fe en jehová y a confiar en los hermanos\n",
      "jehová escuchó la oración de elías y le devolvió el alma , es decir , la vida lea reyes\n",
      "amamos a jehová por darnos esta gran oportunidad de apoyar su reino y de llevar un mensaje de consuelo a todos los que sufren en este mundo\n",
      "¿ por qué podemos afirmar que jehová considera importante nuestra elección de un cónyuge ?\n",
      "al poco tiempo , ya podía mantenerse y era precursor regular\n",
      "por supuesto , a satanás le encantaría que usted o su familia se alejaran de jehová\n",
      "¿ ha notado que sus obligaciones aumentan de día en día y le consumen más tiempo ?\n",
      "ellos cantaron por haberse ofrecido voluntariamente el pueblo , bendigan a jehová\n",
      "\n",
      "==> train.mco <==\n",
      "ets mët ko yëˈë nmëtsipˈäjtëm nidëgekyëtyë mëjkuˈu esë kaˈoybyë diˈibë anaˈamdëp es yajkutujktëp kubiˈits kuˈook yä naxwiiny es pënëty jam tsäjpotm diˈibë kyaj tmëmëdowdë dios efe\n",
      "kyaj nmëkjäˈäwëm ko duˈun nduˈunëm , niˈigyë ndukxondakëm , ets seguurë ko adan mëdë eva nan tyukxondaktë\n",
      "niˈigyë mbäät nbudëjkëm maˈkxtujkën myëët parë kyëktëkët ja myëbëjkën mä jyobaa ets mä myëguˈuktëjk juudʉs ,\n",
      "ta jyobaa tmëdooy ko elias nyuˈkxtaky ets ta ja mixyuˈunk jyukypyejky käjpxë reyes\n",
      "ntsojkëmë jyobaa mët ko tnasˈixë nˈëwäˈkx ngäjpxwäˈkxëm ti tyunaambyë kyutujkën ets njotkujkmoˈoyëm pënaty ayoodëp\n",
      "¿ ti xytyukˈijxëm ko dios jëjpˈam tˈixy pën pyëkaampy ja dios mëduumbë ?\n",
      "ko waanë tiempë nyajxy , këˈëmë nety tpatnë myeeny syentääbë ets tyuny prekursoor regulaar\n",
      "satanas xytyukmëjagamgaˈagäˈänëmë jyobaa , yëˈë jotkujk nyayjawëyaˈanyëty ko mijts mëdë mfamilyë xymyastuˈudët\n",
      "¿ mjäˈäwëp ko niˈigyë kyajaajë tijaty mnikëjxmˈäjtypy ets ko niˈigyë tiempë mbëjkxëty ?\n",
      "duˈun yˈëëwdë mët ko tsojkëngyëjxm të nyayˈawanëdë ja jyaˈayëty ¡ mëjkumaytyë jyobaa !\n",
      "==> dev.es <==\n",
      "b ¿ qué grave error podríamos cometer ?\n",
      "en ese caso , lo mejor era conseguir la libertad hoy día , en muchos países es obligatorio estudiar hasta cierta edad\n",
      "así que mateo da más detalles sobre lo que pensó e hizo josé , mientras que lucas se centra en lo que pensó e hizo maría\n",
      "eduardo volvió con su familia , pero sabía que para sacarla adelante , tendría que controlar los gastos\n",
      "● mientras los hijos son pequeños , los padres deben transmitirles sus creencias religiosas pero cuando crecen , tienen que animarlos a investigarlas por su cuenta\n",
      "daniel mantuvo fuerte su amistad con jehová a pesar de vivir en un país extranjero\n",
      "la biblia también revela que detrás de esos actos malévolos hay un poderoso gobernante que está tratando de ocultar su identidad\n",
      "así que en tuve que dejar de ser precursora\n",
      "seguro que nos sentimos como los seres espirituales que cantan y dicen el cordero que fue degollado es digno de recibir el poder y riquezas y sabiduría y fuerza y honra y gloria y bendición\n",
      "al principio la usamos para imprimir publicaciones para las reuniones\n",
      "\n",
      "==> dev.mco <==\n",
      "¿ wiˈix näˈätyë jot winmäˈäny myiny diˈib kyaj yˈoyëty ?\n",
      "ko ijty duˈun yajtëytyundë , diˈib mas oy , yëˈë ko yˈawäˈätspëtsëmdët\n",
      "extëm nˈijxëm , mateo yëˈë niˈigyë nyimaytyak wiˈix wyinmääyë jose ets tijaty tyuun , etsë lucas yëˈë nyimaytyak wiˈix wyinmääyë maria ets tijaty tyuun\n",
      "ko eduardo jyëmbijty mä fyamilyë , nyijäˈäwëbë nety ko tsojkëp yajxon ttukniwitsët wiˈix ja myeeny syentääbë dyajtunäˈäny parë dyajnaxtëdë jyukyˈäjtën\n",
      "● mientrës ja uˈunk ënäˈk mutsknëm , tsojkëp ja tääk teety ttukniˈˈixëdët tijaty myëbëjktëp , per ko nety të yaˈknëdë , ta tˈanëëmëdët parë këˈëm tˈixtët pën tëyˈäjtën\n",
      "daniel ninäˈä tkamëjagamgekyë jyobaa oyë nety yajpääty wiink it wiink naxwinyëdë\n",
      "nan nyigajpxypy ko päätyë jäˈäy axëëk yˈadëˈëtstë , mët ko jyaajëty tuˈugë anaˈambë diˈib kumëjää diˈib kyaj nyayajnigëxëˈëgyëty fwank korintʉ\n",
      "jotmaymyëëdëts njënäˈäny ko desde kyajts nˈoktuunë prekursoora , mët ko niˈigyëtsë njëxk myëjtaknë\n",
      "ëtsäjtëm , nanduˈun njënäˈänëm extëm ja anklësëty diˈib kuyˈëëw kuyyaxëdëp ets jyënäˈändë yëˈë borreeguˈunk diˈibë të nyejxy wintsëˈkën , patëp winë xëë winë tiempë tˈaxäjët ja kutujkën , mëjˈäjtën , wijyˈäjtën , mëkˈäjtën , wintsëˈkën , oyˈäjtën esë awdäjtën diˈibʉ jatanʉp\n",
      "yëˈëts ogäˈän nyajtuuntsondaktë parëts nyajpëtsëëmdë ëxpëjkpajn diˈib yaˈëxpëkäämp mä reunyonk\n"
     ]
    }
   ],
   "source": [
    "# Esta sección hace la división entre train / dev para los corpus paralelos y luego los guarda como archivos \n",
    "#separados. Usamos 1000 dev test y el conjunto de pruebas dado. \n",
    "\n",
    "import csv\n",
    "\n",
    "#1000 alineaciones para el contjunto dev\n",
    "num_dev_patterns = 1000\n",
    "\n",
    "\n",
    "# Opcional: corpus minuscula. Esto facilitará la generalización, pero sin el uso de mayúsculas.\n",
    "if lc:  # Julia: hace que las minusculas sean opcionales\n",
    "    df_pp[\"source_sentence\"] = df_pp[\"source_sentence\"].str.lower()\n",
    "    df_pp[\"target_sentence\"] = df_pp[\"target_sentence\"].str.lower()\n",
    "\n",
    "# Julia: conjuntos de prueba ya generados\n",
    "dev = df_pp.tail(num_dev_patterns) # Herman: Error in original\n",
    "stripped = df_pp.drop(df_pp.tail(num_dev_patterns).index)\n",
    "\n",
    "#crea los archivos train.en y train.mco\n",
    "with open(\"train.\"+source_language, \"w\") as src_file, open(\"train.\"+target_language, \"w\") as trg_file:\n",
    "  for index, row in stripped.iterrows():\n",
    "    src_file.write(row[\"source_sentence\"]+\"\\n\")\n",
    "    trg_file.write(row[\"target_sentence\"]+\"\\n\")\n",
    "\n",
    "#crea los archivos dev.en y dev.mco    \n",
    "with open(\"dev.\"+source_language, \"w\") as src_file, open(\"dev.\"+target_language, \"w\") as trg_file:\n",
    "  for index, row in dev.iterrows():\n",
    "    src_file.write(row[\"source_sentence\"]+\"\\n\")\n",
    "    trg_file.write(row[\"target_sentence\"]+\"\\n\")\n",
    "\n",
    "\n",
    "# Verifique dos veces el formato a continuación. No debe haber comillas adicionales ni caracteres extraños. \n",
    "! head train.*\n",
    "! head dev.*"
   ]
  },
  {
   "cell_type": "code",
   "execution_count": null,
   "metadata": {
    "colab": {
     "base_uri": "https://localhost:8080/"
    },
    "id": "xxNIzKGbToV0",
    "outputId": "f01fe632-ccc1-436e-d59b-d9a516ebca32"
   },
   "outputs": [
    {
     "name": "stdout",
     "output_type": "stream",
     "text": [
      "dev.es   jw300.es                     JW300_latest_xml_mco.zip  train.es\n",
      "dev.mco  JW300_latest_xml_es-mco.xml  jw300.mco                 train.mco\n",
      "\u001b[0m\u001b[01;34mdrive\u001b[0m/   JW300_latest_xml_es.zip      \u001b[01;34msample_data\u001b[0m/\n"
     ]
    }
   ],
   "source": [
    "ls"
   ]
  },
  {
   "cell_type": "code",
   "execution_count": null,
   "metadata": {
    "id": "X_XR3yscZrYz"
   },
   "outputs": [],
   "source": [
    "! cp dev.es /content/drive/MyDrive/mixe-coatlan-es-mco/es-mco-baseline/\n",
    "! cp dev.mco /content/drive/MyDrive/mixe-coatlan-es-mco/es-mco-baseline/\n",
    "! cp train.es /content/drive/MyDrive/mixe-coatlan-es-mco/es-mco-baseline/\n",
    "! cp train.mco /content/drive/MyDrive/mixe-coatlan-es-mco/es-mco-baseline/"
   ]
  },
  {
   "cell_type": "code",
   "execution_count": null,
   "metadata": {
    "id": "McRmz8kHZrnm"
   },
   "outputs": [],
   "source": []
  }
 ],
 "metadata": {
  "colab": {
   "collapsed_sections": [],
   "name": "Preparar_datos_MCO-ES para INAOE tesis.ipynb",
   "provenance": []
  },
  "kernelspec": {
   "display_name": "Python 3",
   "language": "python",
   "name": "python3"
  },
  "language_info": {
   "codemirror_mode": {
    "name": "ipython",
    "version": 3
   },
   "file_extension": ".py",
   "mimetype": "text/x-python",
   "name": "python",
   "nbconvert_exporter": "python",
   "pygments_lexer": "ipython3",
   "version": "3.7.6"
  }
 },
 "nbformat": 4,
 "nbformat_minor": 1
}
